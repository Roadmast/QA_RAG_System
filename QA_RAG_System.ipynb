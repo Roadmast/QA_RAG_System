{
  "cells": [
    {
      "cell_type": "markdown",
      "source": [
        "# Installing Required Libraries"
      ],
      "metadata": {
        "id": "lmzFwICeE3i6"
      },
      "id": "lmzFwICeE3i6"
    },
    {
      "cell_type": "code",
      "execution_count": 1,
      "id": "98f9ee74-395f-4aa4-9695-c00ade01195a",
      "metadata": {
        "id": "98f9ee74-395f-4aa4-9695-c00ade01195a",
        "colab": {
          "base_uri": "https://localhost:8080/"
        },
        "outputId": "52a0d06c-ce9b-4b60-cb14-4972b59855c0",
        "collapsed": true
      },
      "outputs": [
        {
          "output_type": "stream",
          "name": "stdout",
          "text": [
            "Requirement already satisfied: langchain in /usr/local/lib/python3.11/dist-packages (0.3.14)\n",
            "Requirement already satisfied: PyYAML>=5.3 in /usr/local/lib/python3.11/dist-packages (from langchain) (6.0.2)\n",
            "Requirement already satisfied: SQLAlchemy<3,>=1.4 in /usr/local/lib/python3.11/dist-packages (from langchain) (2.0.37)\n",
            "Requirement already satisfied: aiohttp<4.0.0,>=3.8.3 in /usr/local/lib/python3.11/dist-packages (from langchain) (3.11.11)\n",
            "Requirement already satisfied: langchain-core<0.4.0,>=0.3.29 in /usr/local/lib/python3.11/dist-packages (from langchain) (0.3.29)\n",
            "Requirement already satisfied: langchain-text-splitters<0.4.0,>=0.3.3 in /usr/local/lib/python3.11/dist-packages (from langchain) (0.3.5)\n",
            "Requirement already satisfied: langsmith<0.3,>=0.1.17 in /usr/local/lib/python3.11/dist-packages (from langchain) (0.2.10)\n",
            "Requirement already satisfied: numpy<2,>=1.22.4 in /usr/local/lib/python3.11/dist-packages (from langchain) (1.26.4)\n",
            "Requirement already satisfied: pydantic<3.0.0,>=2.7.4 in /usr/local/lib/python3.11/dist-packages (from langchain) (2.10.5)\n",
            "Requirement already satisfied: requests<3,>=2 in /usr/local/lib/python3.11/dist-packages (from langchain) (2.32.3)\n",
            "Requirement already satisfied: tenacity!=8.4.0,<10,>=8.1.0 in /usr/local/lib/python3.11/dist-packages (from langchain) (9.0.0)\n",
            "Requirement already satisfied: aiohappyeyeballs>=2.3.0 in /usr/local/lib/python3.11/dist-packages (from aiohttp<4.0.0,>=3.8.3->langchain) (2.4.4)\n",
            "Requirement already satisfied: aiosignal>=1.1.2 in /usr/local/lib/python3.11/dist-packages (from aiohttp<4.0.0,>=3.8.3->langchain) (1.3.2)\n",
            "Requirement already satisfied: attrs>=17.3.0 in /usr/local/lib/python3.11/dist-packages (from aiohttp<4.0.0,>=3.8.3->langchain) (24.3.0)\n",
            "Requirement already satisfied: frozenlist>=1.1.1 in /usr/local/lib/python3.11/dist-packages (from aiohttp<4.0.0,>=3.8.3->langchain) (1.5.0)\n",
            "Requirement already satisfied: multidict<7.0,>=4.5 in /usr/local/lib/python3.11/dist-packages (from aiohttp<4.0.0,>=3.8.3->langchain) (6.1.0)\n",
            "Requirement already satisfied: propcache>=0.2.0 in /usr/local/lib/python3.11/dist-packages (from aiohttp<4.0.0,>=3.8.3->langchain) (0.2.1)\n",
            "Requirement already satisfied: yarl<2.0,>=1.17.0 in /usr/local/lib/python3.11/dist-packages (from aiohttp<4.0.0,>=3.8.3->langchain) (1.18.3)\n",
            "Requirement already satisfied: jsonpatch<2.0,>=1.33 in /usr/local/lib/python3.11/dist-packages (from langchain-core<0.4.0,>=0.3.29->langchain) (1.33)\n",
            "Requirement already satisfied: packaging<25,>=23.2 in /usr/local/lib/python3.11/dist-packages (from langchain-core<0.4.0,>=0.3.29->langchain) (24.2)\n",
            "Requirement already satisfied: typing-extensions>=4.7 in /usr/local/lib/python3.11/dist-packages (from langchain-core<0.4.0,>=0.3.29->langchain) (4.12.2)\n",
            "Requirement already satisfied: httpx<1,>=0.23.0 in /usr/local/lib/python3.11/dist-packages (from langsmith<0.3,>=0.1.17->langchain) (0.28.1)\n",
            "Requirement already satisfied: orjson<4.0.0,>=3.9.14 in /usr/local/lib/python3.11/dist-packages (from langsmith<0.3,>=0.1.17->langchain) (3.10.14)\n",
            "Requirement already satisfied: requests-toolbelt<2.0.0,>=1.0.0 in /usr/local/lib/python3.11/dist-packages (from langsmith<0.3,>=0.1.17->langchain) (1.0.0)\n",
            "Requirement already satisfied: annotated-types>=0.6.0 in /usr/local/lib/python3.11/dist-packages (from pydantic<3.0.0,>=2.7.4->langchain) (0.7.0)\n",
            "Requirement already satisfied: pydantic-core==2.27.2 in /usr/local/lib/python3.11/dist-packages (from pydantic<3.0.0,>=2.7.4->langchain) (2.27.2)\n",
            "Requirement already satisfied: charset-normalizer<4,>=2 in /usr/local/lib/python3.11/dist-packages (from requests<3,>=2->langchain) (3.4.1)\n",
            "Requirement already satisfied: idna<4,>=2.5 in /usr/local/lib/python3.11/dist-packages (from requests<3,>=2->langchain) (3.10)\n",
            "Requirement already satisfied: urllib3<3,>=1.21.1 in /usr/local/lib/python3.11/dist-packages (from requests<3,>=2->langchain) (2.3.0)\n",
            "Requirement already satisfied: certifi>=2017.4.17 in /usr/local/lib/python3.11/dist-packages (from requests<3,>=2->langchain) (2024.12.14)\n",
            "Requirement already satisfied: greenlet!=0.4.17 in /usr/local/lib/python3.11/dist-packages (from SQLAlchemy<3,>=1.4->langchain) (3.1.1)\n",
            "Requirement already satisfied: anyio in /usr/local/lib/python3.11/dist-packages (from httpx<1,>=0.23.0->langsmith<0.3,>=0.1.17->langchain) (3.7.1)\n",
            "Requirement already satisfied: httpcore==1.* in /usr/local/lib/python3.11/dist-packages (from httpx<1,>=0.23.0->langsmith<0.3,>=0.1.17->langchain) (1.0.7)\n",
            "Requirement already satisfied: h11<0.15,>=0.13 in /usr/local/lib/python3.11/dist-packages (from httpcore==1.*->httpx<1,>=0.23.0->langsmith<0.3,>=0.1.17->langchain) (0.14.0)\n",
            "Requirement already satisfied: jsonpointer>=1.9 in /usr/local/lib/python3.11/dist-packages (from jsonpatch<2.0,>=1.33->langchain-core<0.4.0,>=0.3.29->langchain) (3.0.0)\n",
            "Requirement already satisfied: sniffio>=1.1 in /usr/local/lib/python3.11/dist-packages (from anyio->httpx<1,>=0.23.0->langsmith<0.3,>=0.1.17->langchain) (1.3.1)\n",
            "Collecting langchain-google-genai\n",
            "  Downloading langchain_google_genai-2.0.9-py3-none-any.whl.metadata (3.6 kB)\n",
            "Collecting filetype<2.0.0,>=1.2.0 (from langchain-google-genai)\n",
            "  Downloading filetype-1.2.0-py2.py3-none-any.whl.metadata (6.5 kB)\n",
            "Requirement already satisfied: google-generativeai<0.9.0,>=0.8.0 in /usr/local/lib/python3.11/dist-packages (from langchain-google-genai) (0.8.3)\n",
            "Requirement already satisfied: langchain-core<0.4.0,>=0.3.27 in /usr/local/lib/python3.11/dist-packages (from langchain-google-genai) (0.3.29)\n",
            "Requirement already satisfied: pydantic<3,>=2 in /usr/local/lib/python3.11/dist-packages (from langchain-google-genai) (2.10.5)\n",
            "Requirement already satisfied: google-ai-generativelanguage==0.6.10 in /usr/local/lib/python3.11/dist-packages (from google-generativeai<0.9.0,>=0.8.0->langchain-google-genai) (0.6.10)\n",
            "Requirement already satisfied: google-api-core in /usr/local/lib/python3.11/dist-packages (from google-generativeai<0.9.0,>=0.8.0->langchain-google-genai) (2.19.2)\n",
            "Requirement already satisfied: google-api-python-client in /usr/local/lib/python3.11/dist-packages (from google-generativeai<0.9.0,>=0.8.0->langchain-google-genai) (2.155.0)\n",
            "Requirement already satisfied: google-auth>=2.15.0 in /usr/local/lib/python3.11/dist-packages (from google-generativeai<0.9.0,>=0.8.0->langchain-google-genai) (2.27.0)\n",
            "Requirement already satisfied: protobuf in /usr/local/lib/python3.11/dist-packages (from google-generativeai<0.9.0,>=0.8.0->langchain-google-genai) (4.25.5)\n",
            "Requirement already satisfied: tqdm in /usr/local/lib/python3.11/dist-packages (from google-generativeai<0.9.0,>=0.8.0->langchain-google-genai) (4.67.1)\n",
            "Requirement already satisfied: typing-extensions in /usr/local/lib/python3.11/dist-packages (from google-generativeai<0.9.0,>=0.8.0->langchain-google-genai) (4.12.2)\n",
            "Requirement already satisfied: proto-plus<2.0.0dev,>=1.22.3 in /usr/local/lib/python3.11/dist-packages (from google-ai-generativelanguage==0.6.10->google-generativeai<0.9.0,>=0.8.0->langchain-google-genai) (1.25.0)\n",
            "Requirement already satisfied: PyYAML>=5.3 in /usr/local/lib/python3.11/dist-packages (from langchain-core<0.4.0,>=0.3.27->langchain-google-genai) (6.0.2)\n",
            "Requirement already satisfied: jsonpatch<2.0,>=1.33 in /usr/local/lib/python3.11/dist-packages (from langchain-core<0.4.0,>=0.3.27->langchain-google-genai) (1.33)\n",
            "Requirement already satisfied: langsmith<0.3,>=0.1.125 in /usr/local/lib/python3.11/dist-packages (from langchain-core<0.4.0,>=0.3.27->langchain-google-genai) (0.2.10)\n",
            "Requirement already satisfied: packaging<25,>=23.2 in /usr/local/lib/python3.11/dist-packages (from langchain-core<0.4.0,>=0.3.27->langchain-google-genai) (24.2)\n",
            "Requirement already satisfied: tenacity!=8.4.0,<10.0.0,>=8.1.0 in /usr/local/lib/python3.11/dist-packages (from langchain-core<0.4.0,>=0.3.27->langchain-google-genai) (9.0.0)\n",
            "Requirement already satisfied: annotated-types>=0.6.0 in /usr/local/lib/python3.11/dist-packages (from pydantic<3,>=2->langchain-google-genai) (0.7.0)\n",
            "Requirement already satisfied: pydantic-core==2.27.2 in /usr/local/lib/python3.11/dist-packages (from pydantic<3,>=2->langchain-google-genai) (2.27.2)\n",
            "Requirement already satisfied: googleapis-common-protos<2.0.dev0,>=1.56.2 in /usr/local/lib/python3.11/dist-packages (from google-api-core->google-generativeai<0.9.0,>=0.8.0->langchain-google-genai) (1.66.0)\n",
            "Requirement already satisfied: requests<3.0.0.dev0,>=2.18.0 in /usr/local/lib/python3.11/dist-packages (from google-api-core->google-generativeai<0.9.0,>=0.8.0->langchain-google-genai) (2.32.3)\n",
            "Requirement already satisfied: cachetools<6.0,>=2.0.0 in /usr/local/lib/python3.11/dist-packages (from google-auth>=2.15.0->google-generativeai<0.9.0,>=0.8.0->langchain-google-genai) (5.5.0)\n",
            "Requirement already satisfied: pyasn1-modules>=0.2.1 in /usr/local/lib/python3.11/dist-packages (from google-auth>=2.15.0->google-generativeai<0.9.0,>=0.8.0->langchain-google-genai) (0.4.1)\n",
            "Requirement already satisfied: rsa<5,>=3.1.4 in /usr/local/lib/python3.11/dist-packages (from google-auth>=2.15.0->google-generativeai<0.9.0,>=0.8.0->langchain-google-genai) (4.9)\n",
            "Requirement already satisfied: jsonpointer>=1.9 in /usr/local/lib/python3.11/dist-packages (from jsonpatch<2.0,>=1.33->langchain-core<0.4.0,>=0.3.27->langchain-google-genai) (3.0.0)\n",
            "Requirement already satisfied: httpx<1,>=0.23.0 in /usr/local/lib/python3.11/dist-packages (from langsmith<0.3,>=0.1.125->langchain-core<0.4.0,>=0.3.27->langchain-google-genai) (0.28.1)\n",
            "Requirement already satisfied: orjson<4.0.0,>=3.9.14 in /usr/local/lib/python3.11/dist-packages (from langsmith<0.3,>=0.1.125->langchain-core<0.4.0,>=0.3.27->langchain-google-genai) (3.10.14)\n",
            "Requirement already satisfied: requests-toolbelt<2.0.0,>=1.0.0 in /usr/local/lib/python3.11/dist-packages (from langsmith<0.3,>=0.1.125->langchain-core<0.4.0,>=0.3.27->langchain-google-genai) (1.0.0)\n",
            "Requirement already satisfied: httplib2<1.dev0,>=0.19.0 in /usr/local/lib/python3.11/dist-packages (from google-api-python-client->google-generativeai<0.9.0,>=0.8.0->langchain-google-genai) (0.22.0)\n",
            "Requirement already satisfied: google-auth-httplib2<1.0.0,>=0.2.0 in /usr/local/lib/python3.11/dist-packages (from google-api-python-client->google-generativeai<0.9.0,>=0.8.0->langchain-google-genai) (0.2.0)\n",
            "Requirement already satisfied: uritemplate<5,>=3.0.1 in /usr/local/lib/python3.11/dist-packages (from google-api-python-client->google-generativeai<0.9.0,>=0.8.0->langchain-google-genai) (4.1.1)\n",
            "Requirement already satisfied: grpcio<2.0dev,>=1.33.2 in /usr/local/lib/python3.11/dist-packages (from google-api-core[grpc]!=2.0.*,!=2.1.*,!=2.10.*,!=2.2.*,!=2.3.*,!=2.4.*,!=2.5.*,!=2.6.*,!=2.7.*,!=2.8.*,!=2.9.*,<3.0.0dev,>=1.34.1->google-ai-generativelanguage==0.6.10->google-generativeai<0.9.0,>=0.8.0->langchain-google-genai) (1.69.0)\n",
            "Requirement already satisfied: grpcio-status<2.0.dev0,>=1.33.2 in /usr/local/lib/python3.11/dist-packages (from google-api-core[grpc]!=2.0.*,!=2.1.*,!=2.10.*,!=2.2.*,!=2.3.*,!=2.4.*,!=2.5.*,!=2.6.*,!=2.7.*,!=2.8.*,!=2.9.*,<3.0.0dev,>=1.34.1->google-ai-generativelanguage==0.6.10->google-generativeai<0.9.0,>=0.8.0->langchain-google-genai) (1.62.3)\n",
            "Requirement already satisfied: pyparsing!=3.0.0,!=3.0.1,!=3.0.2,!=3.0.3,<4,>=2.4.2 in /usr/local/lib/python3.11/dist-packages (from httplib2<1.dev0,>=0.19.0->google-api-python-client->google-generativeai<0.9.0,>=0.8.0->langchain-google-genai) (3.2.1)\n",
            "Requirement already satisfied: anyio in /usr/local/lib/python3.11/dist-packages (from httpx<1,>=0.23.0->langsmith<0.3,>=0.1.125->langchain-core<0.4.0,>=0.3.27->langchain-google-genai) (3.7.1)\n",
            "Requirement already satisfied: certifi in /usr/local/lib/python3.11/dist-packages (from httpx<1,>=0.23.0->langsmith<0.3,>=0.1.125->langchain-core<0.4.0,>=0.3.27->langchain-google-genai) (2024.12.14)\n",
            "Requirement already satisfied: httpcore==1.* in /usr/local/lib/python3.11/dist-packages (from httpx<1,>=0.23.0->langsmith<0.3,>=0.1.125->langchain-core<0.4.0,>=0.3.27->langchain-google-genai) (1.0.7)\n",
            "Requirement already satisfied: idna in /usr/local/lib/python3.11/dist-packages (from httpx<1,>=0.23.0->langsmith<0.3,>=0.1.125->langchain-core<0.4.0,>=0.3.27->langchain-google-genai) (3.10)\n",
            "Requirement already satisfied: h11<0.15,>=0.13 in /usr/local/lib/python3.11/dist-packages (from httpcore==1.*->httpx<1,>=0.23.0->langsmith<0.3,>=0.1.125->langchain-core<0.4.0,>=0.3.27->langchain-google-genai) (0.14.0)\n",
            "Requirement already satisfied: pyasn1<0.7.0,>=0.4.6 in /usr/local/lib/python3.11/dist-packages (from pyasn1-modules>=0.2.1->google-auth>=2.15.0->google-generativeai<0.9.0,>=0.8.0->langchain-google-genai) (0.6.1)\n",
            "Requirement already satisfied: charset-normalizer<4,>=2 in /usr/local/lib/python3.11/dist-packages (from requests<3.0.0.dev0,>=2.18.0->google-api-core->google-generativeai<0.9.0,>=0.8.0->langchain-google-genai) (3.4.1)\n",
            "Requirement already satisfied: urllib3<3,>=1.21.1 in /usr/local/lib/python3.11/dist-packages (from requests<3.0.0.dev0,>=2.18.0->google-api-core->google-generativeai<0.9.0,>=0.8.0->langchain-google-genai) (2.3.0)\n",
            "Requirement already satisfied: sniffio>=1.1 in /usr/local/lib/python3.11/dist-packages (from anyio->httpx<1,>=0.23.0->langsmith<0.3,>=0.1.125->langchain-core<0.4.0,>=0.3.27->langchain-google-genai) (1.3.1)\n",
            "Downloading langchain_google_genai-2.0.9-py3-none-any.whl (41 kB)\n",
            "\u001b[2K   \u001b[90m━━━━━━━━━━━━━━━━━━━━━━━━━━━━━━━━━━━━━━━━\u001b[0m \u001b[32m41.7/41.7 kB\u001b[0m \u001b[31m1.7 MB/s\u001b[0m eta \u001b[36m0:00:00\u001b[0m\n",
            "\u001b[?25hDownloading filetype-1.2.0-py2.py3-none-any.whl (19 kB)\n",
            "Installing collected packages: filetype, langchain-google-genai\n",
            "Successfully installed filetype-1.2.0 langchain-google-genai-2.0.9\n",
            "Collecting langchain-chroma\n",
            "  Downloading langchain_chroma-0.2.0-py3-none-any.whl.metadata (1.7 kB)\n",
            "Collecting chromadb!=0.5.10,!=0.5.11,!=0.5.12,!=0.5.4,!=0.5.5,!=0.5.7,!=0.5.9,<0.6.0,>=0.4.0 (from langchain-chroma)\n",
            "  Downloading chromadb-0.5.23-py3-none-any.whl.metadata (6.8 kB)\n",
            "Collecting fastapi<1,>=0.95.2 (from langchain-chroma)\n",
            "  Downloading fastapi-0.115.6-py3-none-any.whl.metadata (27 kB)\n",
            "Requirement already satisfied: langchain-core!=0.3.0,!=0.3.1,!=0.3.10,!=0.3.11,!=0.3.12,!=0.3.13,!=0.3.14,!=0.3.2,!=0.3.3,!=0.3.4,!=0.3.5,!=0.3.6,!=0.3.7,!=0.3.8,!=0.3.9,<0.4.0,>=0.2.43 in /usr/local/lib/python3.11/dist-packages (from langchain-chroma) (0.3.29)\n",
            "Requirement already satisfied: numpy<2.0.0,>=1.22.4 in /usr/local/lib/python3.11/dist-packages (from langchain-chroma) (1.26.4)\n",
            "Collecting build>=1.0.3 (from chromadb!=0.5.10,!=0.5.11,!=0.5.12,!=0.5.4,!=0.5.5,!=0.5.7,!=0.5.9,<0.6.0,>=0.4.0->langchain-chroma)\n",
            "  Downloading build-1.2.2.post1-py3-none-any.whl.metadata (6.5 kB)\n",
            "Requirement already satisfied: pydantic>=1.9 in /usr/local/lib/python3.11/dist-packages (from chromadb!=0.5.10,!=0.5.11,!=0.5.12,!=0.5.4,!=0.5.5,!=0.5.7,!=0.5.9,<0.6.0,>=0.4.0->langchain-chroma) (2.10.5)\n",
            "Collecting chroma-hnswlib==0.7.6 (from chromadb!=0.5.10,!=0.5.11,!=0.5.12,!=0.5.4,!=0.5.5,!=0.5.7,!=0.5.9,<0.6.0,>=0.4.0->langchain-chroma)\n",
            "  Downloading chroma_hnswlib-0.7.6-cp311-cp311-manylinux_2_17_x86_64.manylinux2014_x86_64.whl.metadata (252 bytes)\n",
            "Collecting uvicorn>=0.18.3 (from uvicorn[standard]>=0.18.3->chromadb!=0.5.10,!=0.5.11,!=0.5.12,!=0.5.4,!=0.5.5,!=0.5.7,!=0.5.9,<0.6.0,>=0.4.0->langchain-chroma)\n",
            "  Downloading uvicorn-0.34.0-py3-none-any.whl.metadata (6.5 kB)\n",
            "Collecting posthog>=2.4.0 (from chromadb!=0.5.10,!=0.5.11,!=0.5.12,!=0.5.4,!=0.5.5,!=0.5.7,!=0.5.9,<0.6.0,>=0.4.0->langchain-chroma)\n",
            "  Downloading posthog-3.8.3-py2.py3-none-any.whl.metadata (2.7 kB)\n",
            "Requirement already satisfied: typing_extensions>=4.5.0 in /usr/local/lib/python3.11/dist-packages (from chromadb!=0.5.10,!=0.5.11,!=0.5.12,!=0.5.4,!=0.5.5,!=0.5.7,!=0.5.9,<0.6.0,>=0.4.0->langchain-chroma) (4.12.2)\n",
            "Collecting onnxruntime>=1.14.1 (from chromadb!=0.5.10,!=0.5.11,!=0.5.12,!=0.5.4,!=0.5.5,!=0.5.7,!=0.5.9,<0.6.0,>=0.4.0->langchain-chroma)\n",
            "  Downloading onnxruntime-1.20.1-cp311-cp311-manylinux_2_27_x86_64.manylinux_2_28_x86_64.whl.metadata (4.5 kB)\n",
            "Requirement already satisfied: opentelemetry-api>=1.2.0 in /usr/local/lib/python3.11/dist-packages (from chromadb!=0.5.10,!=0.5.11,!=0.5.12,!=0.5.4,!=0.5.5,!=0.5.7,!=0.5.9,<0.6.0,>=0.4.0->langchain-chroma) (1.29.0)\n",
            "Collecting opentelemetry-exporter-otlp-proto-grpc>=1.2.0 (from chromadb!=0.5.10,!=0.5.11,!=0.5.12,!=0.5.4,!=0.5.5,!=0.5.7,!=0.5.9,<0.6.0,>=0.4.0->langchain-chroma)\n",
            "  Downloading opentelemetry_exporter_otlp_proto_grpc-1.29.0-py3-none-any.whl.metadata (2.2 kB)\n",
            "Collecting opentelemetry-instrumentation-fastapi>=0.41b0 (from chromadb!=0.5.10,!=0.5.11,!=0.5.12,!=0.5.4,!=0.5.5,!=0.5.7,!=0.5.9,<0.6.0,>=0.4.0->langchain-chroma)\n",
            "  Downloading opentelemetry_instrumentation_fastapi-0.50b0-py3-none-any.whl.metadata (2.1 kB)\n",
            "Requirement already satisfied: opentelemetry-sdk>=1.2.0 in /usr/local/lib/python3.11/dist-packages (from chromadb!=0.5.10,!=0.5.11,!=0.5.12,!=0.5.4,!=0.5.5,!=0.5.7,!=0.5.9,<0.6.0,>=0.4.0->langchain-chroma) (1.29.0)\n",
            "Collecting tokenizers<=0.20.3,>=0.13.2 (from chromadb!=0.5.10,!=0.5.11,!=0.5.12,!=0.5.4,!=0.5.5,!=0.5.7,!=0.5.9,<0.6.0,>=0.4.0->langchain-chroma)\n",
            "  Downloading tokenizers-0.20.3-cp311-cp311-manylinux_2_17_x86_64.manylinux2014_x86_64.whl.metadata (6.7 kB)\n",
            "Collecting pypika>=0.48.9 (from chromadb!=0.5.10,!=0.5.11,!=0.5.12,!=0.5.4,!=0.5.5,!=0.5.7,!=0.5.9,<0.6.0,>=0.4.0->langchain-chroma)\n",
            "  Downloading PyPika-0.48.9.tar.gz (67 kB)\n",
            "\u001b[2K     \u001b[90m━━━━━━━━━━━━━━━━━━━━━━━━━━━━━━━━━━━━━━━━\u001b[0m \u001b[32m67.3/67.3 kB\u001b[0m \u001b[31m3.4 MB/s\u001b[0m eta \u001b[36m0:00:00\u001b[0m\n",
            "\u001b[?25h  Installing build dependencies ... \u001b[?25l\u001b[?25hdone\n",
            "  Getting requirements to build wheel ... \u001b[?25l\u001b[?25hdone\n",
            "  Preparing metadata (pyproject.toml) ... \u001b[?25l\u001b[?25hdone\n",
            "Requirement already satisfied: tqdm>=4.65.0 in /usr/local/lib/python3.11/dist-packages (from chromadb!=0.5.10,!=0.5.11,!=0.5.12,!=0.5.4,!=0.5.5,!=0.5.7,!=0.5.9,<0.6.0,>=0.4.0->langchain-chroma) (4.67.1)\n",
            "Collecting overrides>=7.3.1 (from chromadb!=0.5.10,!=0.5.11,!=0.5.12,!=0.5.4,!=0.5.5,!=0.5.7,!=0.5.9,<0.6.0,>=0.4.0->langchain-chroma)\n",
            "  Downloading overrides-7.7.0-py3-none-any.whl.metadata (5.8 kB)\n",
            "Requirement already satisfied: importlib-resources in /usr/local/lib/python3.11/dist-packages (from chromadb!=0.5.10,!=0.5.11,!=0.5.12,!=0.5.4,!=0.5.5,!=0.5.7,!=0.5.9,<0.6.0,>=0.4.0->langchain-chroma) (6.5.2)\n",
            "Requirement already satisfied: grpcio>=1.58.0 in /usr/local/lib/python3.11/dist-packages (from chromadb!=0.5.10,!=0.5.11,!=0.5.12,!=0.5.4,!=0.5.5,!=0.5.7,!=0.5.9,<0.6.0,>=0.4.0->langchain-chroma) (1.69.0)\n",
            "Collecting bcrypt>=4.0.1 (from chromadb!=0.5.10,!=0.5.11,!=0.5.12,!=0.5.4,!=0.5.5,!=0.5.7,!=0.5.9,<0.6.0,>=0.4.0->langchain-chroma)\n",
            "  Downloading bcrypt-4.2.1-cp39-abi3-manylinux_2_28_x86_64.whl.metadata (9.8 kB)\n",
            "Requirement already satisfied: typer>=0.9.0 in /usr/local/lib/python3.11/dist-packages (from chromadb!=0.5.10,!=0.5.11,!=0.5.12,!=0.5.4,!=0.5.5,!=0.5.7,!=0.5.9,<0.6.0,>=0.4.0->langchain-chroma) (0.15.1)\n",
            "Collecting kubernetes>=28.1.0 (from chromadb!=0.5.10,!=0.5.11,!=0.5.12,!=0.5.4,!=0.5.5,!=0.5.7,!=0.5.9,<0.6.0,>=0.4.0->langchain-chroma)\n",
            "  Downloading kubernetes-31.0.0-py2.py3-none-any.whl.metadata (1.5 kB)\n",
            "Requirement already satisfied: tenacity>=8.2.3 in /usr/local/lib/python3.11/dist-packages (from chromadb!=0.5.10,!=0.5.11,!=0.5.12,!=0.5.4,!=0.5.5,!=0.5.7,!=0.5.9,<0.6.0,>=0.4.0->langchain-chroma) (9.0.0)\n",
            "Requirement already satisfied: PyYAML>=6.0.0 in /usr/local/lib/python3.11/dist-packages (from chromadb!=0.5.10,!=0.5.11,!=0.5.12,!=0.5.4,!=0.5.5,!=0.5.7,!=0.5.9,<0.6.0,>=0.4.0->langchain-chroma) (6.0.2)\n",
            "Collecting mmh3>=4.0.1 (from chromadb!=0.5.10,!=0.5.11,!=0.5.12,!=0.5.4,!=0.5.5,!=0.5.7,!=0.5.9,<0.6.0,>=0.4.0->langchain-chroma)\n",
            "  Downloading mmh3-5.0.1-cp311-cp311-manylinux_2_5_x86_64.manylinux1_x86_64.manylinux_2_17_x86_64.manylinux2014_x86_64.whl.metadata (14 kB)\n",
            "Requirement already satisfied: orjson>=3.9.12 in /usr/local/lib/python3.11/dist-packages (from chromadb!=0.5.10,!=0.5.11,!=0.5.12,!=0.5.4,!=0.5.5,!=0.5.7,!=0.5.9,<0.6.0,>=0.4.0->langchain-chroma) (3.10.14)\n",
            "Requirement already satisfied: httpx>=0.27.0 in /usr/local/lib/python3.11/dist-packages (from chromadb!=0.5.10,!=0.5.11,!=0.5.12,!=0.5.4,!=0.5.5,!=0.5.7,!=0.5.9,<0.6.0,>=0.4.0->langchain-chroma) (0.28.1)\n",
            "Requirement already satisfied: rich>=10.11.0 in /usr/local/lib/python3.11/dist-packages (from chromadb!=0.5.10,!=0.5.11,!=0.5.12,!=0.5.4,!=0.5.5,!=0.5.7,!=0.5.9,<0.6.0,>=0.4.0->langchain-chroma) (13.9.4)\n",
            "Collecting starlette<0.42.0,>=0.40.0 (from fastapi<1,>=0.95.2->langchain-chroma)\n",
            "  Downloading starlette-0.41.3-py3-none-any.whl.metadata (6.0 kB)\n",
            "Requirement already satisfied: jsonpatch<2.0,>=1.33 in /usr/local/lib/python3.11/dist-packages (from langchain-core!=0.3.0,!=0.3.1,!=0.3.10,!=0.3.11,!=0.3.12,!=0.3.13,!=0.3.14,!=0.3.2,!=0.3.3,!=0.3.4,!=0.3.5,!=0.3.6,!=0.3.7,!=0.3.8,!=0.3.9,<0.4.0,>=0.2.43->langchain-chroma) (1.33)\n",
            "Requirement already satisfied: langsmith<0.3,>=0.1.125 in /usr/local/lib/python3.11/dist-packages (from langchain-core!=0.3.0,!=0.3.1,!=0.3.10,!=0.3.11,!=0.3.12,!=0.3.13,!=0.3.14,!=0.3.2,!=0.3.3,!=0.3.4,!=0.3.5,!=0.3.6,!=0.3.7,!=0.3.8,!=0.3.9,<0.4.0,>=0.2.43->langchain-chroma) (0.2.10)\n",
            "Requirement already satisfied: packaging<25,>=23.2 in /usr/local/lib/python3.11/dist-packages (from langchain-core!=0.3.0,!=0.3.1,!=0.3.10,!=0.3.11,!=0.3.12,!=0.3.13,!=0.3.14,!=0.3.2,!=0.3.3,!=0.3.4,!=0.3.5,!=0.3.6,!=0.3.7,!=0.3.8,!=0.3.9,<0.4.0,>=0.2.43->langchain-chroma) (24.2)\n",
            "Collecting pyproject_hooks (from build>=1.0.3->chromadb!=0.5.10,!=0.5.11,!=0.5.12,!=0.5.4,!=0.5.5,!=0.5.7,!=0.5.9,<0.6.0,>=0.4.0->langchain-chroma)\n",
            "  Downloading pyproject_hooks-1.2.0-py3-none-any.whl.metadata (1.3 kB)\n",
            "Requirement already satisfied: anyio in /usr/local/lib/python3.11/dist-packages (from httpx>=0.27.0->chromadb!=0.5.10,!=0.5.11,!=0.5.12,!=0.5.4,!=0.5.5,!=0.5.7,!=0.5.9,<0.6.0,>=0.4.0->langchain-chroma) (3.7.1)\n",
            "Requirement already satisfied: certifi in /usr/local/lib/python3.11/dist-packages (from httpx>=0.27.0->chromadb!=0.5.10,!=0.5.11,!=0.5.12,!=0.5.4,!=0.5.5,!=0.5.7,!=0.5.9,<0.6.0,>=0.4.0->langchain-chroma) (2024.12.14)\n",
            "Requirement already satisfied: httpcore==1.* in /usr/local/lib/python3.11/dist-packages (from httpx>=0.27.0->chromadb!=0.5.10,!=0.5.11,!=0.5.12,!=0.5.4,!=0.5.5,!=0.5.7,!=0.5.9,<0.6.0,>=0.4.0->langchain-chroma) (1.0.7)\n",
            "Requirement already satisfied: idna in /usr/local/lib/python3.11/dist-packages (from httpx>=0.27.0->chromadb!=0.5.10,!=0.5.11,!=0.5.12,!=0.5.4,!=0.5.5,!=0.5.7,!=0.5.9,<0.6.0,>=0.4.0->langchain-chroma) (3.10)\n",
            "Requirement already satisfied: h11<0.15,>=0.13 in /usr/local/lib/python3.11/dist-packages (from httpcore==1.*->httpx>=0.27.0->chromadb!=0.5.10,!=0.5.11,!=0.5.12,!=0.5.4,!=0.5.5,!=0.5.7,!=0.5.9,<0.6.0,>=0.4.0->langchain-chroma) (0.14.0)\n",
            "Requirement already satisfied: jsonpointer>=1.9 in /usr/local/lib/python3.11/dist-packages (from jsonpatch<2.0,>=1.33->langchain-core!=0.3.0,!=0.3.1,!=0.3.10,!=0.3.11,!=0.3.12,!=0.3.13,!=0.3.14,!=0.3.2,!=0.3.3,!=0.3.4,!=0.3.5,!=0.3.6,!=0.3.7,!=0.3.8,!=0.3.9,<0.4.0,>=0.2.43->langchain-chroma) (3.0.0)\n",
            "Requirement already satisfied: six>=1.9.0 in /usr/local/lib/python3.11/dist-packages (from kubernetes>=28.1.0->chromadb!=0.5.10,!=0.5.11,!=0.5.12,!=0.5.4,!=0.5.5,!=0.5.7,!=0.5.9,<0.6.0,>=0.4.0->langchain-chroma) (1.17.0)\n",
            "Requirement already satisfied: python-dateutil>=2.5.3 in /usr/local/lib/python3.11/dist-packages (from kubernetes>=28.1.0->chromadb!=0.5.10,!=0.5.11,!=0.5.12,!=0.5.4,!=0.5.5,!=0.5.7,!=0.5.9,<0.6.0,>=0.4.0->langchain-chroma) (2.8.2)\n",
            "Requirement already satisfied: google-auth>=1.0.1 in /usr/local/lib/python3.11/dist-packages (from kubernetes>=28.1.0->chromadb!=0.5.10,!=0.5.11,!=0.5.12,!=0.5.4,!=0.5.5,!=0.5.7,!=0.5.9,<0.6.0,>=0.4.0->langchain-chroma) (2.27.0)\n",
            "Requirement already satisfied: websocket-client!=0.40.0,!=0.41.*,!=0.42.*,>=0.32.0 in /usr/local/lib/python3.11/dist-packages (from kubernetes>=28.1.0->chromadb!=0.5.10,!=0.5.11,!=0.5.12,!=0.5.4,!=0.5.5,!=0.5.7,!=0.5.9,<0.6.0,>=0.4.0->langchain-chroma) (1.8.0)\n",
            "Requirement already satisfied: requests in /usr/local/lib/python3.11/dist-packages (from kubernetes>=28.1.0->chromadb!=0.5.10,!=0.5.11,!=0.5.12,!=0.5.4,!=0.5.5,!=0.5.7,!=0.5.9,<0.6.0,>=0.4.0->langchain-chroma) (2.32.3)\n",
            "Requirement already satisfied: requests-oauthlib in /usr/local/lib/python3.11/dist-packages (from kubernetes>=28.1.0->chromadb!=0.5.10,!=0.5.11,!=0.5.12,!=0.5.4,!=0.5.5,!=0.5.7,!=0.5.9,<0.6.0,>=0.4.0->langchain-chroma) (1.3.1)\n",
            "Requirement already satisfied: oauthlib>=3.2.2 in /usr/local/lib/python3.11/dist-packages (from kubernetes>=28.1.0->chromadb!=0.5.10,!=0.5.11,!=0.5.12,!=0.5.4,!=0.5.5,!=0.5.7,!=0.5.9,<0.6.0,>=0.4.0->langchain-chroma) (3.2.2)\n",
            "Requirement already satisfied: urllib3>=1.24.2 in /usr/local/lib/python3.11/dist-packages (from kubernetes>=28.1.0->chromadb!=0.5.10,!=0.5.11,!=0.5.12,!=0.5.4,!=0.5.5,!=0.5.7,!=0.5.9,<0.6.0,>=0.4.0->langchain-chroma) (2.3.0)\n",
            "Collecting durationpy>=0.7 (from kubernetes>=28.1.0->chromadb!=0.5.10,!=0.5.11,!=0.5.12,!=0.5.4,!=0.5.5,!=0.5.7,!=0.5.9,<0.6.0,>=0.4.0->langchain-chroma)\n",
            "  Downloading durationpy-0.9-py3-none-any.whl.metadata (338 bytes)\n",
            "Requirement already satisfied: requests-toolbelt<2.0.0,>=1.0.0 in /usr/local/lib/python3.11/dist-packages (from langsmith<0.3,>=0.1.125->langchain-core!=0.3.0,!=0.3.1,!=0.3.10,!=0.3.11,!=0.3.12,!=0.3.13,!=0.3.14,!=0.3.2,!=0.3.3,!=0.3.4,!=0.3.5,!=0.3.6,!=0.3.7,!=0.3.8,!=0.3.9,<0.4.0,>=0.2.43->langchain-chroma) (1.0.0)\n",
            "Collecting coloredlogs (from onnxruntime>=1.14.1->chromadb!=0.5.10,!=0.5.11,!=0.5.12,!=0.5.4,!=0.5.5,!=0.5.7,!=0.5.9,<0.6.0,>=0.4.0->langchain-chroma)\n",
            "  Downloading coloredlogs-15.0.1-py2.py3-none-any.whl.metadata (12 kB)\n",
            "Requirement already satisfied: flatbuffers in /usr/local/lib/python3.11/dist-packages (from onnxruntime>=1.14.1->chromadb!=0.5.10,!=0.5.11,!=0.5.12,!=0.5.4,!=0.5.5,!=0.5.7,!=0.5.9,<0.6.0,>=0.4.0->langchain-chroma) (24.12.23)\n",
            "Requirement already satisfied: protobuf in /usr/local/lib/python3.11/dist-packages (from onnxruntime>=1.14.1->chromadb!=0.5.10,!=0.5.11,!=0.5.12,!=0.5.4,!=0.5.5,!=0.5.7,!=0.5.9,<0.6.0,>=0.4.0->langchain-chroma) (4.25.5)\n",
            "Requirement already satisfied: sympy in /usr/local/lib/python3.11/dist-packages (from onnxruntime>=1.14.1->chromadb!=0.5.10,!=0.5.11,!=0.5.12,!=0.5.4,!=0.5.5,!=0.5.7,!=0.5.9,<0.6.0,>=0.4.0->langchain-chroma) (1.13.1)\n",
            "Requirement already satisfied: deprecated>=1.2.6 in /usr/local/lib/python3.11/dist-packages (from opentelemetry-api>=1.2.0->chromadb!=0.5.10,!=0.5.11,!=0.5.12,!=0.5.4,!=0.5.5,!=0.5.7,!=0.5.9,<0.6.0,>=0.4.0->langchain-chroma) (1.2.15)\n",
            "Requirement already satisfied: importlib-metadata<=8.5.0,>=6.0 in /usr/local/lib/python3.11/dist-packages (from opentelemetry-api>=1.2.0->chromadb!=0.5.10,!=0.5.11,!=0.5.12,!=0.5.4,!=0.5.5,!=0.5.7,!=0.5.9,<0.6.0,>=0.4.0->langchain-chroma) (8.5.0)\n",
            "Requirement already satisfied: googleapis-common-protos~=1.52 in /usr/local/lib/python3.11/dist-packages (from opentelemetry-exporter-otlp-proto-grpc>=1.2.0->chromadb!=0.5.10,!=0.5.11,!=0.5.12,!=0.5.4,!=0.5.5,!=0.5.7,!=0.5.9,<0.6.0,>=0.4.0->langchain-chroma) (1.66.0)\n",
            "Collecting opentelemetry-exporter-otlp-proto-common==1.29.0 (from opentelemetry-exporter-otlp-proto-grpc>=1.2.0->chromadb!=0.5.10,!=0.5.11,!=0.5.12,!=0.5.4,!=0.5.5,!=0.5.7,!=0.5.9,<0.6.0,>=0.4.0->langchain-chroma)\n",
            "  Downloading opentelemetry_exporter_otlp_proto_common-1.29.0-py3-none-any.whl.metadata (1.8 kB)\n",
            "Collecting opentelemetry-proto==1.29.0 (from opentelemetry-exporter-otlp-proto-grpc>=1.2.0->chromadb!=0.5.10,!=0.5.11,!=0.5.12,!=0.5.4,!=0.5.5,!=0.5.7,!=0.5.9,<0.6.0,>=0.4.0->langchain-chroma)\n",
            "  Downloading opentelemetry_proto-1.29.0-py3-none-any.whl.metadata (2.3 kB)\n",
            "Collecting protobuf (from onnxruntime>=1.14.1->chromadb!=0.5.10,!=0.5.11,!=0.5.12,!=0.5.4,!=0.5.5,!=0.5.7,!=0.5.9,<0.6.0,>=0.4.0->langchain-chroma)\n",
            "  Downloading protobuf-5.29.3-cp38-abi3-manylinux2014_x86_64.whl.metadata (592 bytes)\n",
            "Collecting opentelemetry-instrumentation-asgi==0.50b0 (from opentelemetry-instrumentation-fastapi>=0.41b0->chromadb!=0.5.10,!=0.5.11,!=0.5.12,!=0.5.4,!=0.5.5,!=0.5.7,!=0.5.9,<0.6.0,>=0.4.0->langchain-chroma)\n",
            "  Downloading opentelemetry_instrumentation_asgi-0.50b0-py3-none-any.whl.metadata (1.9 kB)\n",
            "Collecting opentelemetry-instrumentation==0.50b0 (from opentelemetry-instrumentation-fastapi>=0.41b0->chromadb!=0.5.10,!=0.5.11,!=0.5.12,!=0.5.4,!=0.5.5,!=0.5.7,!=0.5.9,<0.6.0,>=0.4.0->langchain-chroma)\n",
            "  Downloading opentelemetry_instrumentation-0.50b0-py3-none-any.whl.metadata (6.1 kB)\n",
            "Requirement already satisfied: opentelemetry-semantic-conventions==0.50b0 in /usr/local/lib/python3.11/dist-packages (from opentelemetry-instrumentation-fastapi>=0.41b0->chromadb!=0.5.10,!=0.5.11,!=0.5.12,!=0.5.4,!=0.5.5,!=0.5.7,!=0.5.9,<0.6.0,>=0.4.0->langchain-chroma) (0.50b0)\n",
            "Collecting opentelemetry-util-http==0.50b0 (from opentelemetry-instrumentation-fastapi>=0.41b0->chromadb!=0.5.10,!=0.5.11,!=0.5.12,!=0.5.4,!=0.5.5,!=0.5.7,!=0.5.9,<0.6.0,>=0.4.0->langchain-chroma)\n",
            "  Downloading opentelemetry_util_http-0.50b0-py3-none-any.whl.metadata (2.5 kB)\n",
            "Requirement already satisfied: wrapt<2.0.0,>=1.0.0 in /usr/local/lib/python3.11/dist-packages (from opentelemetry-instrumentation==0.50b0->opentelemetry-instrumentation-fastapi>=0.41b0->chromadb!=0.5.10,!=0.5.11,!=0.5.12,!=0.5.4,!=0.5.5,!=0.5.7,!=0.5.9,<0.6.0,>=0.4.0->langchain-chroma) (1.17.0)\n",
            "Collecting asgiref~=3.0 (from opentelemetry-instrumentation-asgi==0.50b0->opentelemetry-instrumentation-fastapi>=0.41b0->chromadb!=0.5.10,!=0.5.11,!=0.5.12,!=0.5.4,!=0.5.5,!=0.5.7,!=0.5.9,<0.6.0,>=0.4.0->langchain-chroma)\n",
            "  Downloading asgiref-3.8.1-py3-none-any.whl.metadata (9.3 kB)\n",
            "Collecting monotonic>=1.5 (from posthog>=2.4.0->chromadb!=0.5.10,!=0.5.11,!=0.5.12,!=0.5.4,!=0.5.5,!=0.5.7,!=0.5.9,<0.6.0,>=0.4.0->langchain-chroma)\n",
            "  Downloading monotonic-1.6-py2.py3-none-any.whl.metadata (1.5 kB)\n",
            "Collecting backoff>=1.10.0 (from posthog>=2.4.0->chromadb!=0.5.10,!=0.5.11,!=0.5.12,!=0.5.4,!=0.5.5,!=0.5.7,!=0.5.9,<0.6.0,>=0.4.0->langchain-chroma)\n",
            "  Downloading backoff-2.2.1-py3-none-any.whl.metadata (14 kB)\n",
            "Requirement already satisfied: annotated-types>=0.6.0 in /usr/local/lib/python3.11/dist-packages (from pydantic>=1.9->chromadb!=0.5.10,!=0.5.11,!=0.5.12,!=0.5.4,!=0.5.5,!=0.5.7,!=0.5.9,<0.6.0,>=0.4.0->langchain-chroma) (0.7.0)\n",
            "Requirement already satisfied: pydantic-core==2.27.2 in /usr/local/lib/python3.11/dist-packages (from pydantic>=1.9->chromadb!=0.5.10,!=0.5.11,!=0.5.12,!=0.5.4,!=0.5.5,!=0.5.7,!=0.5.9,<0.6.0,>=0.4.0->langchain-chroma) (2.27.2)\n",
            "Requirement already satisfied: markdown-it-py>=2.2.0 in /usr/local/lib/python3.11/dist-packages (from rich>=10.11.0->chromadb!=0.5.10,!=0.5.11,!=0.5.12,!=0.5.4,!=0.5.5,!=0.5.7,!=0.5.9,<0.6.0,>=0.4.0->langchain-chroma) (3.0.0)\n",
            "Requirement already satisfied: pygments<3.0.0,>=2.13.0 in /usr/local/lib/python3.11/dist-packages (from rich>=10.11.0->chromadb!=0.5.10,!=0.5.11,!=0.5.12,!=0.5.4,!=0.5.5,!=0.5.7,!=0.5.9,<0.6.0,>=0.4.0->langchain-chroma) (2.18.0)\n",
            "Requirement already satisfied: huggingface-hub<1.0,>=0.16.4 in /usr/local/lib/python3.11/dist-packages (from tokenizers<=0.20.3,>=0.13.2->chromadb!=0.5.10,!=0.5.11,!=0.5.12,!=0.5.4,!=0.5.5,!=0.5.7,!=0.5.9,<0.6.0,>=0.4.0->langchain-chroma) (0.27.1)\n",
            "Requirement already satisfied: click>=8.0.0 in /usr/local/lib/python3.11/dist-packages (from typer>=0.9.0->chromadb!=0.5.10,!=0.5.11,!=0.5.12,!=0.5.4,!=0.5.5,!=0.5.7,!=0.5.9,<0.6.0,>=0.4.0->langchain-chroma) (8.1.8)\n",
            "Requirement already satisfied: shellingham>=1.3.0 in /usr/local/lib/python3.11/dist-packages (from typer>=0.9.0->chromadb!=0.5.10,!=0.5.11,!=0.5.12,!=0.5.4,!=0.5.5,!=0.5.7,!=0.5.9,<0.6.0,>=0.4.0->langchain-chroma) (1.5.4)\n",
            "Collecting httptools>=0.6.3 (from uvicorn[standard]>=0.18.3->chromadb!=0.5.10,!=0.5.11,!=0.5.12,!=0.5.4,!=0.5.5,!=0.5.7,!=0.5.9,<0.6.0,>=0.4.0->langchain-chroma)\n",
            "  Downloading httptools-0.6.4-cp311-cp311-manylinux_2_5_x86_64.manylinux1_x86_64.manylinux_2_17_x86_64.manylinux2014_x86_64.whl.metadata (3.6 kB)\n",
            "Collecting python-dotenv>=0.13 (from uvicorn[standard]>=0.18.3->chromadb!=0.5.10,!=0.5.11,!=0.5.12,!=0.5.4,!=0.5.5,!=0.5.7,!=0.5.9,<0.6.0,>=0.4.0->langchain-chroma)\n",
            "  Downloading python_dotenv-1.0.1-py3-none-any.whl.metadata (23 kB)\n",
            "Collecting uvloop!=0.15.0,!=0.15.1,>=0.14.0 (from uvicorn[standard]>=0.18.3->chromadb!=0.5.10,!=0.5.11,!=0.5.12,!=0.5.4,!=0.5.5,!=0.5.7,!=0.5.9,<0.6.0,>=0.4.0->langchain-chroma)\n",
            "  Downloading uvloop-0.21.0-cp311-cp311-manylinux_2_17_x86_64.manylinux2014_x86_64.whl.metadata (4.9 kB)\n",
            "Collecting watchfiles>=0.13 (from uvicorn[standard]>=0.18.3->chromadb!=0.5.10,!=0.5.11,!=0.5.12,!=0.5.4,!=0.5.5,!=0.5.7,!=0.5.9,<0.6.0,>=0.4.0->langchain-chroma)\n",
            "  Downloading watchfiles-1.0.4-cp311-cp311-manylinux_2_17_x86_64.manylinux2014_x86_64.whl.metadata (4.9 kB)\n",
            "Requirement already satisfied: websockets>=10.4 in /usr/local/lib/python3.11/dist-packages (from uvicorn[standard]>=0.18.3->chromadb!=0.5.10,!=0.5.11,!=0.5.12,!=0.5.4,!=0.5.5,!=0.5.7,!=0.5.9,<0.6.0,>=0.4.0->langchain-chroma) (14.1)\n",
            "Requirement already satisfied: sniffio>=1.1 in /usr/local/lib/python3.11/dist-packages (from anyio->httpx>=0.27.0->chromadb!=0.5.10,!=0.5.11,!=0.5.12,!=0.5.4,!=0.5.5,!=0.5.7,!=0.5.9,<0.6.0,>=0.4.0->langchain-chroma) (1.3.1)\n",
            "Requirement already satisfied: cachetools<6.0,>=2.0.0 in /usr/local/lib/python3.11/dist-packages (from google-auth>=1.0.1->kubernetes>=28.1.0->chromadb!=0.5.10,!=0.5.11,!=0.5.12,!=0.5.4,!=0.5.5,!=0.5.7,!=0.5.9,<0.6.0,>=0.4.0->langchain-chroma) (5.5.0)\n",
            "Requirement already satisfied: pyasn1-modules>=0.2.1 in /usr/local/lib/python3.11/dist-packages (from google-auth>=1.0.1->kubernetes>=28.1.0->chromadb!=0.5.10,!=0.5.11,!=0.5.12,!=0.5.4,!=0.5.5,!=0.5.7,!=0.5.9,<0.6.0,>=0.4.0->langchain-chroma) (0.4.1)\n",
            "Requirement already satisfied: rsa<5,>=3.1.4 in /usr/local/lib/python3.11/dist-packages (from google-auth>=1.0.1->kubernetes>=28.1.0->chromadb!=0.5.10,!=0.5.11,!=0.5.12,!=0.5.4,!=0.5.5,!=0.5.7,!=0.5.9,<0.6.0,>=0.4.0->langchain-chroma) (4.9)\n",
            "Requirement already satisfied: filelock in /usr/local/lib/python3.11/dist-packages (from huggingface-hub<1.0,>=0.16.4->tokenizers<=0.20.3,>=0.13.2->chromadb!=0.5.10,!=0.5.11,!=0.5.12,!=0.5.4,!=0.5.5,!=0.5.7,!=0.5.9,<0.6.0,>=0.4.0->langchain-chroma) (3.16.1)\n",
            "Requirement already satisfied: fsspec>=2023.5.0 in /usr/local/lib/python3.11/dist-packages (from huggingface-hub<1.0,>=0.16.4->tokenizers<=0.20.3,>=0.13.2->chromadb!=0.5.10,!=0.5.11,!=0.5.12,!=0.5.4,!=0.5.5,!=0.5.7,!=0.5.9,<0.6.0,>=0.4.0->langchain-chroma) (2024.10.0)\n",
            "Requirement already satisfied: zipp>=3.20 in /usr/local/lib/python3.11/dist-packages (from importlib-metadata<=8.5.0,>=6.0->opentelemetry-api>=1.2.0->chromadb!=0.5.10,!=0.5.11,!=0.5.12,!=0.5.4,!=0.5.5,!=0.5.7,!=0.5.9,<0.6.0,>=0.4.0->langchain-chroma) (3.21.0)\n",
            "Requirement already satisfied: mdurl~=0.1 in /usr/local/lib/python3.11/dist-packages (from markdown-it-py>=2.2.0->rich>=10.11.0->chromadb!=0.5.10,!=0.5.11,!=0.5.12,!=0.5.4,!=0.5.5,!=0.5.7,!=0.5.9,<0.6.0,>=0.4.0->langchain-chroma) (0.1.2)\n",
            "Requirement already satisfied: charset-normalizer<4,>=2 in /usr/local/lib/python3.11/dist-packages (from requests->kubernetes>=28.1.0->chromadb!=0.5.10,!=0.5.11,!=0.5.12,!=0.5.4,!=0.5.5,!=0.5.7,!=0.5.9,<0.6.0,>=0.4.0->langchain-chroma) (3.4.1)\n",
            "Collecting humanfriendly>=9.1 (from coloredlogs->onnxruntime>=1.14.1->chromadb!=0.5.10,!=0.5.11,!=0.5.12,!=0.5.4,!=0.5.5,!=0.5.7,!=0.5.9,<0.6.0,>=0.4.0->langchain-chroma)\n",
            "  Downloading humanfriendly-10.0-py2.py3-none-any.whl.metadata (9.2 kB)\n",
            "Requirement already satisfied: mpmath<1.4,>=1.1.0 in /usr/local/lib/python3.11/dist-packages (from sympy->onnxruntime>=1.14.1->chromadb!=0.5.10,!=0.5.11,!=0.5.12,!=0.5.4,!=0.5.5,!=0.5.7,!=0.5.9,<0.6.0,>=0.4.0->langchain-chroma) (1.3.0)\n",
            "Requirement already satisfied: pyasn1<0.7.0,>=0.4.6 in /usr/local/lib/python3.11/dist-packages (from pyasn1-modules>=0.2.1->google-auth>=1.0.1->kubernetes>=28.1.0->chromadb!=0.5.10,!=0.5.11,!=0.5.12,!=0.5.4,!=0.5.5,!=0.5.7,!=0.5.9,<0.6.0,>=0.4.0->langchain-chroma) (0.6.1)\n",
            "Downloading langchain_chroma-0.2.0-py3-none-any.whl (11 kB)\n",
            "Downloading chromadb-0.5.23-py3-none-any.whl (628 kB)\n",
            "\u001b[2K   \u001b[90m━━━━━━━━━━━━━━━━━━━━━━━━━━━━━━━━━━━━━━━━\u001b[0m \u001b[32m628.3/628.3 kB\u001b[0m \u001b[31m13.5 MB/s\u001b[0m eta \u001b[36m0:00:00\u001b[0m\n",
            "\u001b[?25hDownloading chroma_hnswlib-0.7.6-cp311-cp311-manylinux_2_17_x86_64.manylinux2014_x86_64.whl (2.4 MB)\n",
            "\u001b[2K   \u001b[90m━━━━━━━━━━━━━━━━━━━━━━━━━━━━━━━━━━━━━━━━\u001b[0m \u001b[32m2.4/2.4 MB\u001b[0m \u001b[31m14.4 MB/s\u001b[0m eta \u001b[36m0:00:00\u001b[0m\n",
            "\u001b[?25hDownloading fastapi-0.115.6-py3-none-any.whl (94 kB)\n",
            "\u001b[2K   \u001b[90m━━━━━━━━━━━━━━━━━━━━━━━━━━━━━━━━━━━━━━━━\u001b[0m \u001b[32m94.8/94.8 kB\u001b[0m \u001b[31m5.6 MB/s\u001b[0m eta \u001b[36m0:00:00\u001b[0m\n",
            "\u001b[?25hDownloading bcrypt-4.2.1-cp39-abi3-manylinux_2_28_x86_64.whl (278 kB)\n",
            "\u001b[2K   \u001b[90m━━━━━━━━━━━━━━━━━━━━━━━━━━━━━━━━━━━━━━━━\u001b[0m \u001b[32m278.6/278.6 kB\u001b[0m \u001b[31m15.5 MB/s\u001b[0m eta \u001b[36m0:00:00\u001b[0m\n",
            "\u001b[?25hDownloading build-1.2.2.post1-py3-none-any.whl (22 kB)\n",
            "Downloading kubernetes-31.0.0-py2.py3-none-any.whl (1.9 MB)\n",
            "\u001b[2K   \u001b[90m━━━━━━━━━━━━━━━━━━━━━━━━━━━━━━━━━━━━━━━━\u001b[0m \u001b[32m1.9/1.9 MB\u001b[0m \u001b[31m37.1 MB/s\u001b[0m eta \u001b[36m0:00:00\u001b[0m\n",
            "\u001b[?25hDownloading mmh3-5.0.1-cp311-cp311-manylinux_2_5_x86_64.manylinux1_x86_64.manylinux_2_17_x86_64.manylinux2014_x86_64.whl (94 kB)\n",
            "\u001b[2K   \u001b[90m━━━━━━━━━━━━━━━━━━━━━━━━━━━━━━━━━━━━━━━━\u001b[0m \u001b[32m94.8/94.8 kB\u001b[0m \u001b[31m5.9 MB/s\u001b[0m eta \u001b[36m0:00:00\u001b[0m\n",
            "\u001b[?25hDownloading onnxruntime-1.20.1-cp311-cp311-manylinux_2_27_x86_64.manylinux_2_28_x86_64.whl (13.3 MB)\n",
            "\u001b[2K   \u001b[90m━━━━━━━━━━━━━━━━━━━━━━━━━━━━━━━━━━━━━━━━\u001b[0m \u001b[32m13.3/13.3 MB\u001b[0m \u001b[31m56.4 MB/s\u001b[0m eta \u001b[36m0:00:00\u001b[0m\n",
            "\u001b[?25hDownloading opentelemetry_exporter_otlp_proto_grpc-1.29.0-py3-none-any.whl (18 kB)\n",
            "Downloading opentelemetry_exporter_otlp_proto_common-1.29.0-py3-none-any.whl (18 kB)\n",
            "Downloading opentelemetry_proto-1.29.0-py3-none-any.whl (55 kB)\n",
            "\u001b[2K   \u001b[90m━━━━━━━━━━━━━━━━━━━━━━━━━━━━━━━━━━━━━━━━\u001b[0m \u001b[32m55.8/55.8 kB\u001b[0m \u001b[31m3.2 MB/s\u001b[0m eta \u001b[36m0:00:00\u001b[0m\n",
            "\u001b[?25hDownloading opentelemetry_instrumentation_fastapi-0.50b0-py3-none-any.whl (12 kB)\n",
            "Downloading opentelemetry_instrumentation-0.50b0-py3-none-any.whl (30 kB)\n",
            "Downloading opentelemetry_instrumentation_asgi-0.50b0-py3-none-any.whl (16 kB)\n",
            "Downloading opentelemetry_util_http-0.50b0-py3-none-any.whl (6.9 kB)\n",
            "Downloading overrides-7.7.0-py3-none-any.whl (17 kB)\n",
            "Downloading posthog-3.8.3-py2.py3-none-any.whl (64 kB)\n",
            "\u001b[2K   \u001b[90m━━━━━━━━━━━━━━━━━━━━━━━━━━━━━━━━━━━━━━━━\u001b[0m \u001b[32m64.7/64.7 kB\u001b[0m \u001b[31m4.4 MB/s\u001b[0m eta \u001b[36m0:00:00\u001b[0m\n",
            "\u001b[?25hDownloading starlette-0.41.3-py3-none-any.whl (73 kB)\n",
            "\u001b[2K   \u001b[90m━━━━━━━━━━━━━━━━━━━━━━━━━━━━━━━━━━━━━━━━\u001b[0m \u001b[32m73.2/73.2 kB\u001b[0m \u001b[31m5.0 MB/s\u001b[0m eta \u001b[36m0:00:00\u001b[0m\n",
            "\u001b[?25hDownloading tokenizers-0.20.3-cp311-cp311-manylinux_2_17_x86_64.manylinux2014_x86_64.whl (3.0 MB)\n",
            "\u001b[2K   \u001b[90m━━━━━━━━━━━━━━━━━━━━━━━━━━━━━━━━━━━━━━━━\u001b[0m \u001b[32m3.0/3.0 MB\u001b[0m \u001b[31m42.4 MB/s\u001b[0m eta \u001b[36m0:00:00\u001b[0m\n",
            "\u001b[?25hDownloading uvicorn-0.34.0-py3-none-any.whl (62 kB)\n",
            "\u001b[2K   \u001b[90m━━━━━━━━━━━━━━━━━━━━━━━━━━━━━━━━━━━━━━━━\u001b[0m \u001b[32m62.3/62.3 kB\u001b[0m \u001b[31m5.1 MB/s\u001b[0m eta \u001b[36m0:00:00\u001b[0m\n",
            "\u001b[?25hDownloading backoff-2.2.1-py3-none-any.whl (15 kB)\n",
            "Downloading durationpy-0.9-py3-none-any.whl (3.5 kB)\n",
            "Downloading httptools-0.6.4-cp311-cp311-manylinux_2_5_x86_64.manylinux1_x86_64.manylinux_2_17_x86_64.manylinux2014_x86_64.whl (459 kB)\n",
            "\u001b[2K   \u001b[90m━━━━━━━━━━━━━━━━━━━━━━━━━━━━━━━━━━━━━━━━\u001b[0m \u001b[32m459.8/459.8 kB\u001b[0m \u001b[31m23.7 MB/s\u001b[0m eta \u001b[36m0:00:00\u001b[0m\n",
            "\u001b[?25hDownloading monotonic-1.6-py2.py3-none-any.whl (8.2 kB)\n",
            "Downloading protobuf-5.29.3-cp38-abi3-manylinux2014_x86_64.whl (319 kB)\n",
            "\u001b[2K   \u001b[90m━━━━━━━━━━━━━━━━━━━━━━━━━━━━━━━━━━━━━━━━\u001b[0m \u001b[32m319.7/319.7 kB\u001b[0m \u001b[31m14.1 MB/s\u001b[0m eta \u001b[36m0:00:00\u001b[0m\n",
            "\u001b[?25hDownloading python_dotenv-1.0.1-py3-none-any.whl (19 kB)\n",
            "Downloading uvloop-0.21.0-cp311-cp311-manylinux_2_17_x86_64.manylinux2014_x86_64.whl (4.0 MB)\n",
            "\u001b[2K   \u001b[90m━━━━━━━━━━━━━━━━━━━━━━━━━━━━━━━━━━━━━━━━\u001b[0m \u001b[32m4.0/4.0 MB\u001b[0m \u001b[31m44.9 MB/s\u001b[0m eta \u001b[36m0:00:00\u001b[0m\n",
            "\u001b[?25hDownloading watchfiles-1.0.4-cp311-cp311-manylinux_2_17_x86_64.manylinux2014_x86_64.whl (452 kB)\n",
            "\u001b[2K   \u001b[90m━━━━━━━━━━━━━━━━━━━━━━━━━━━━━━━━━━━━━━━━\u001b[0m \u001b[32m452.6/452.6 kB\u001b[0m \u001b[31m17.8 MB/s\u001b[0m eta \u001b[36m0:00:00\u001b[0m\n",
            "\u001b[?25hDownloading coloredlogs-15.0.1-py2.py3-none-any.whl (46 kB)\n",
            "\u001b[2K   \u001b[90m━━━━━━━━━━━━━━━━━━━━━━━━━━━━━━━━━━━━━━━━\u001b[0m \u001b[32m46.0/46.0 kB\u001b[0m \u001b[31m2.8 MB/s\u001b[0m eta \u001b[36m0:00:00\u001b[0m\n",
            "\u001b[?25hDownloading pyproject_hooks-1.2.0-py3-none-any.whl (10 kB)\n",
            "Downloading asgiref-3.8.1-py3-none-any.whl (23 kB)\n",
            "Downloading humanfriendly-10.0-py2.py3-none-any.whl (86 kB)\n",
            "\u001b[2K   \u001b[90m━━━━━━━━━━━━━━━━━━━━━━━━━━━━━━━━━━━━━━━━\u001b[0m \u001b[32m86.8/86.8 kB\u001b[0m \u001b[31m6.6 MB/s\u001b[0m eta \u001b[36m0:00:00\u001b[0m\n",
            "\u001b[?25hBuilding wheels for collected packages: pypika\n",
            "  Building wheel for pypika (pyproject.toml) ... \u001b[?25l\u001b[?25hdone\n",
            "  Created wheel for pypika: filename=PyPika-0.48.9-py2.py3-none-any.whl size=53771 sha256=e6567f51d0b9c4c16b68ef3e04ae1824c7df5a4cd37c6a6a9d85f857e5a0b9a0\n",
            "  Stored in directory: /root/.cache/pip/wheels/a3/01/bd/4c40ceb9d5354160cb186dcc153360f4ab7eb23e2b24daf96d\n",
            "Successfully built pypika\n",
            "Installing collected packages: pypika, monotonic, durationpy, uvloop, uvicorn, python-dotenv, pyproject_hooks, protobuf, overrides, opentelemetry-util-http, mmh3, humanfriendly, httptools, chroma-hnswlib, bcrypt, backoff, asgiref, watchfiles, starlette, posthog, opentelemetry-proto, coloredlogs, build, tokenizers, opentelemetry-exporter-otlp-proto-common, onnxruntime, kubernetes, fastapi, opentelemetry-instrumentation, opentelemetry-instrumentation-asgi, opentelemetry-exporter-otlp-proto-grpc, opentelemetry-instrumentation-fastapi, chromadb, langchain-chroma\n",
            "  Attempting uninstall: protobuf\n",
            "    Found existing installation: protobuf 4.25.5\n",
            "    Uninstalling protobuf-4.25.5:\n",
            "      Successfully uninstalled protobuf-4.25.5\n",
            "  Attempting uninstall: tokenizers\n",
            "    Found existing installation: tokenizers 0.21.0\n",
            "    Uninstalling tokenizers-0.21.0:\n",
            "      Successfully uninstalled tokenizers-0.21.0\n",
            "\u001b[31mERROR: pip's dependency resolver does not currently take into account all the packages that are installed. This behaviour is the source of the following dependency conflicts.\n",
            "transformers 4.47.1 requires tokenizers<0.22,>=0.21, but you have tokenizers 0.20.3 which is incompatible.\n",
            "tensorflow 2.17.1 requires protobuf!=4.21.0,!=4.21.1,!=4.21.2,!=4.21.3,!=4.21.4,!=4.21.5,<5.0.0dev,>=3.20.3, but you have protobuf 5.29.3 which is incompatible.\u001b[0m\u001b[31m\n",
            "\u001b[0mSuccessfully installed asgiref-3.8.1 backoff-2.2.1 bcrypt-4.2.1 build-1.2.2.post1 chroma-hnswlib-0.7.6 chromadb-0.5.23 coloredlogs-15.0.1 durationpy-0.9 fastapi-0.115.6 httptools-0.6.4 humanfriendly-10.0 kubernetes-31.0.0 langchain-chroma-0.2.0 mmh3-5.0.1 monotonic-1.6 onnxruntime-1.20.1 opentelemetry-exporter-otlp-proto-common-1.29.0 opentelemetry-exporter-otlp-proto-grpc-1.29.0 opentelemetry-instrumentation-0.50b0 opentelemetry-instrumentation-asgi-0.50b0 opentelemetry-instrumentation-fastapi-0.50b0 opentelemetry-proto-1.29.0 opentelemetry-util-http-0.50b0 overrides-7.7.0 posthog-3.8.3 protobuf-5.29.3 pypika-0.48.9 pyproject_hooks-1.2.0 python-dotenv-1.0.1 starlette-0.41.3 tokenizers-0.20.3 uvicorn-0.34.0 uvloop-0.21.0 watchfiles-1.0.4\n",
            "Collecting langchain-community\n",
            "  Downloading langchain_community-0.3.14-py3-none-any.whl.metadata (2.9 kB)\n",
            "Requirement already satisfied: PyYAML>=5.3 in /usr/local/lib/python3.11/dist-packages (from langchain-community) (6.0.2)\n",
            "Requirement already satisfied: SQLAlchemy<3,>=1.4 in /usr/local/lib/python3.11/dist-packages (from langchain-community) (2.0.37)\n",
            "Requirement already satisfied: aiohttp<4.0.0,>=3.8.3 in /usr/local/lib/python3.11/dist-packages (from langchain-community) (3.11.11)\n",
            "Collecting dataclasses-json<0.7,>=0.5.7 (from langchain-community)\n",
            "  Downloading dataclasses_json-0.6.7-py3-none-any.whl.metadata (25 kB)\n",
            "Collecting httpx-sse<0.5.0,>=0.4.0 (from langchain-community)\n",
            "  Downloading httpx_sse-0.4.0-py3-none-any.whl.metadata (9.0 kB)\n",
            "Requirement already satisfied: langchain<0.4.0,>=0.3.14 in /usr/local/lib/python3.11/dist-packages (from langchain-community) (0.3.14)\n",
            "Requirement already satisfied: langchain-core<0.4.0,>=0.3.29 in /usr/local/lib/python3.11/dist-packages (from langchain-community) (0.3.29)\n",
            "Requirement already satisfied: langsmith<0.3,>=0.1.125 in /usr/local/lib/python3.11/dist-packages (from langchain-community) (0.2.10)\n",
            "Requirement already satisfied: numpy<2,>=1.22.4 in /usr/local/lib/python3.11/dist-packages (from langchain-community) (1.26.4)\n",
            "Collecting pydantic-settings<3.0.0,>=2.4.0 (from langchain-community)\n",
            "  Downloading pydantic_settings-2.7.1-py3-none-any.whl.metadata (3.5 kB)\n",
            "Requirement already satisfied: requests<3,>=2 in /usr/local/lib/python3.11/dist-packages (from langchain-community) (2.32.3)\n",
            "Requirement already satisfied: tenacity!=8.4.0,<10,>=8.1.0 in /usr/local/lib/python3.11/dist-packages (from langchain-community) (9.0.0)\n",
            "Requirement already satisfied: aiohappyeyeballs>=2.3.0 in /usr/local/lib/python3.11/dist-packages (from aiohttp<4.0.0,>=3.8.3->langchain-community) (2.4.4)\n",
            "Requirement already satisfied: aiosignal>=1.1.2 in /usr/local/lib/python3.11/dist-packages (from aiohttp<4.0.0,>=3.8.3->langchain-community) (1.3.2)\n",
            "Requirement already satisfied: attrs>=17.3.0 in /usr/local/lib/python3.11/dist-packages (from aiohttp<4.0.0,>=3.8.3->langchain-community) (24.3.0)\n",
            "Requirement already satisfied: frozenlist>=1.1.1 in /usr/local/lib/python3.11/dist-packages (from aiohttp<4.0.0,>=3.8.3->langchain-community) (1.5.0)\n",
            "Requirement already satisfied: multidict<7.0,>=4.5 in /usr/local/lib/python3.11/dist-packages (from aiohttp<4.0.0,>=3.8.3->langchain-community) (6.1.0)\n",
            "Requirement already satisfied: propcache>=0.2.0 in /usr/local/lib/python3.11/dist-packages (from aiohttp<4.0.0,>=3.8.3->langchain-community) (0.2.1)\n",
            "Requirement already satisfied: yarl<2.0,>=1.17.0 in /usr/local/lib/python3.11/dist-packages (from aiohttp<4.0.0,>=3.8.3->langchain-community) (1.18.3)\n",
            "Collecting marshmallow<4.0.0,>=3.18.0 (from dataclasses-json<0.7,>=0.5.7->langchain-community)\n",
            "  Downloading marshmallow-3.25.1-py3-none-any.whl.metadata (7.3 kB)\n",
            "Collecting typing-inspect<1,>=0.4.0 (from dataclasses-json<0.7,>=0.5.7->langchain-community)\n",
            "  Downloading typing_inspect-0.9.0-py3-none-any.whl.metadata (1.5 kB)\n",
            "Requirement already satisfied: langchain-text-splitters<0.4.0,>=0.3.3 in /usr/local/lib/python3.11/dist-packages (from langchain<0.4.0,>=0.3.14->langchain-community) (0.3.5)\n",
            "Requirement already satisfied: pydantic<3.0.0,>=2.7.4 in /usr/local/lib/python3.11/dist-packages (from langchain<0.4.0,>=0.3.14->langchain-community) (2.10.5)\n",
            "Requirement already satisfied: jsonpatch<2.0,>=1.33 in /usr/local/lib/python3.11/dist-packages (from langchain-core<0.4.0,>=0.3.29->langchain-community) (1.33)\n",
            "Requirement already satisfied: packaging<25,>=23.2 in /usr/local/lib/python3.11/dist-packages (from langchain-core<0.4.0,>=0.3.29->langchain-community) (24.2)\n",
            "Requirement already satisfied: typing-extensions>=4.7 in /usr/local/lib/python3.11/dist-packages (from langchain-core<0.4.0,>=0.3.29->langchain-community) (4.12.2)\n",
            "Requirement already satisfied: httpx<1,>=0.23.0 in /usr/local/lib/python3.11/dist-packages (from langsmith<0.3,>=0.1.125->langchain-community) (0.28.1)\n",
            "Requirement already satisfied: orjson<4.0.0,>=3.9.14 in /usr/local/lib/python3.11/dist-packages (from langsmith<0.3,>=0.1.125->langchain-community) (3.10.14)\n",
            "Requirement already satisfied: requests-toolbelt<2.0.0,>=1.0.0 in /usr/local/lib/python3.11/dist-packages (from langsmith<0.3,>=0.1.125->langchain-community) (1.0.0)\n",
            "Requirement already satisfied: python-dotenv>=0.21.0 in /usr/local/lib/python3.11/dist-packages (from pydantic-settings<3.0.0,>=2.4.0->langchain-community) (1.0.1)\n",
            "Requirement already satisfied: charset-normalizer<4,>=2 in /usr/local/lib/python3.11/dist-packages (from requests<3,>=2->langchain-community) (3.4.1)\n",
            "Requirement already satisfied: idna<4,>=2.5 in /usr/local/lib/python3.11/dist-packages (from requests<3,>=2->langchain-community) (3.10)\n",
            "Requirement already satisfied: urllib3<3,>=1.21.1 in /usr/local/lib/python3.11/dist-packages (from requests<3,>=2->langchain-community) (2.3.0)\n",
            "Requirement already satisfied: certifi>=2017.4.17 in /usr/local/lib/python3.11/dist-packages (from requests<3,>=2->langchain-community) (2024.12.14)\n",
            "Requirement already satisfied: greenlet!=0.4.17 in /usr/local/lib/python3.11/dist-packages (from SQLAlchemy<3,>=1.4->langchain-community) (3.1.1)\n",
            "Requirement already satisfied: anyio in /usr/local/lib/python3.11/dist-packages (from httpx<1,>=0.23.0->langsmith<0.3,>=0.1.125->langchain-community) (3.7.1)\n",
            "Requirement already satisfied: httpcore==1.* in /usr/local/lib/python3.11/dist-packages (from httpx<1,>=0.23.0->langsmith<0.3,>=0.1.125->langchain-community) (1.0.7)\n",
            "Requirement already satisfied: h11<0.15,>=0.13 in /usr/local/lib/python3.11/dist-packages (from httpcore==1.*->httpx<1,>=0.23.0->langsmith<0.3,>=0.1.125->langchain-community) (0.14.0)\n",
            "Requirement already satisfied: jsonpointer>=1.9 in /usr/local/lib/python3.11/dist-packages (from jsonpatch<2.0,>=1.33->langchain-core<0.4.0,>=0.3.29->langchain-community) (3.0.0)\n",
            "Requirement already satisfied: annotated-types>=0.6.0 in /usr/local/lib/python3.11/dist-packages (from pydantic<3.0.0,>=2.7.4->langchain<0.4.0,>=0.3.14->langchain-community) (0.7.0)\n",
            "Requirement already satisfied: pydantic-core==2.27.2 in /usr/local/lib/python3.11/dist-packages (from pydantic<3.0.0,>=2.7.4->langchain<0.4.0,>=0.3.14->langchain-community) (2.27.2)\n",
            "Collecting mypy-extensions>=0.3.0 (from typing-inspect<1,>=0.4.0->dataclasses-json<0.7,>=0.5.7->langchain-community)\n",
            "  Downloading mypy_extensions-1.0.0-py3-none-any.whl.metadata (1.1 kB)\n",
            "Requirement already satisfied: sniffio>=1.1 in /usr/local/lib/python3.11/dist-packages (from anyio->httpx<1,>=0.23.0->langsmith<0.3,>=0.1.125->langchain-community) (1.3.1)\n",
            "Downloading langchain_community-0.3.14-py3-none-any.whl (2.5 MB)\n",
            "\u001b[2K   \u001b[90m━━━━━━━━━━━━━━━━━━━━━━━━━━━━━━━━━━━━━━━━\u001b[0m \u001b[32m2.5/2.5 MB\u001b[0m \u001b[31m27.8 MB/s\u001b[0m eta \u001b[36m0:00:00\u001b[0m\n",
            "\u001b[?25hDownloading dataclasses_json-0.6.7-py3-none-any.whl (28 kB)\n",
            "Downloading httpx_sse-0.4.0-py3-none-any.whl (7.8 kB)\n",
            "Downloading pydantic_settings-2.7.1-py3-none-any.whl (29 kB)\n",
            "Downloading marshmallow-3.25.1-py3-none-any.whl (49 kB)\n",
            "\u001b[2K   \u001b[90m━━━━━━━━━━━━━━━━━━━━━━━━━━━━━━━━━━━━━━━━\u001b[0m \u001b[32m49.6/49.6 kB\u001b[0m \u001b[31m4.1 MB/s\u001b[0m eta \u001b[36m0:00:00\u001b[0m\n",
            "\u001b[?25hDownloading typing_inspect-0.9.0-py3-none-any.whl (8.8 kB)\n",
            "Downloading mypy_extensions-1.0.0-py3-none-any.whl (4.7 kB)\n",
            "Installing collected packages: mypy-extensions, marshmallow, httpx-sse, typing-inspect, pydantic-settings, dataclasses-json, langchain-community\n",
            "Successfully installed dataclasses-json-0.6.7 httpx-sse-0.4.0 langchain-community-0.3.14 marshmallow-3.25.1 mypy-extensions-1.0.0 pydantic-settings-2.7.1 typing-inspect-0.9.0\n",
            "Collecting langchain-experimental\n",
            "  Downloading langchain_experimental-0.3.4-py3-none-any.whl.metadata (1.7 kB)\n",
            "Requirement already satisfied: langchain-community<0.4.0,>=0.3.0 in /usr/local/lib/python3.11/dist-packages (from langchain-experimental) (0.3.14)\n",
            "Requirement already satisfied: langchain-core<0.4.0,>=0.3.28 in /usr/local/lib/python3.11/dist-packages (from langchain-experimental) (0.3.29)\n",
            "Requirement already satisfied: PyYAML>=5.3 in /usr/local/lib/python3.11/dist-packages (from langchain-community<0.4.0,>=0.3.0->langchain-experimental) (6.0.2)\n",
            "Requirement already satisfied: SQLAlchemy<3,>=1.4 in /usr/local/lib/python3.11/dist-packages (from langchain-community<0.4.0,>=0.3.0->langchain-experimental) (2.0.37)\n",
            "Requirement already satisfied: aiohttp<4.0.0,>=3.8.3 in /usr/local/lib/python3.11/dist-packages (from langchain-community<0.4.0,>=0.3.0->langchain-experimental) (3.11.11)\n",
            "Requirement already satisfied: dataclasses-json<0.7,>=0.5.7 in /usr/local/lib/python3.11/dist-packages (from langchain-community<0.4.0,>=0.3.0->langchain-experimental) (0.6.7)\n",
            "Requirement already satisfied: httpx-sse<0.5.0,>=0.4.0 in /usr/local/lib/python3.11/dist-packages (from langchain-community<0.4.0,>=0.3.0->langchain-experimental) (0.4.0)\n",
            "Requirement already satisfied: langchain<0.4.0,>=0.3.14 in /usr/local/lib/python3.11/dist-packages (from langchain-community<0.4.0,>=0.3.0->langchain-experimental) (0.3.14)\n",
            "Requirement already satisfied: langsmith<0.3,>=0.1.125 in /usr/local/lib/python3.11/dist-packages (from langchain-community<0.4.0,>=0.3.0->langchain-experimental) (0.2.10)\n",
            "Requirement already satisfied: numpy<2,>=1.22.4 in /usr/local/lib/python3.11/dist-packages (from langchain-community<0.4.0,>=0.3.0->langchain-experimental) (1.26.4)\n",
            "Requirement already satisfied: pydantic-settings<3.0.0,>=2.4.0 in /usr/local/lib/python3.11/dist-packages (from langchain-community<0.4.0,>=0.3.0->langchain-experimental) (2.7.1)\n",
            "Requirement already satisfied: requests<3,>=2 in /usr/local/lib/python3.11/dist-packages (from langchain-community<0.4.0,>=0.3.0->langchain-experimental) (2.32.3)\n",
            "Requirement already satisfied: tenacity!=8.4.0,<10,>=8.1.0 in /usr/local/lib/python3.11/dist-packages (from langchain-community<0.4.0,>=0.3.0->langchain-experimental) (9.0.0)\n",
            "Requirement already satisfied: jsonpatch<2.0,>=1.33 in /usr/local/lib/python3.11/dist-packages (from langchain-core<0.4.0,>=0.3.28->langchain-experimental) (1.33)\n",
            "Requirement already satisfied: packaging<25,>=23.2 in /usr/local/lib/python3.11/dist-packages (from langchain-core<0.4.0,>=0.3.28->langchain-experimental) (24.2)\n",
            "Requirement already satisfied: pydantic<3.0.0,>=2.5.2 in /usr/local/lib/python3.11/dist-packages (from langchain-core<0.4.0,>=0.3.28->langchain-experimental) (2.10.5)\n",
            "Requirement already satisfied: typing-extensions>=4.7 in /usr/local/lib/python3.11/dist-packages (from langchain-core<0.4.0,>=0.3.28->langchain-experimental) (4.12.2)\n",
            "Requirement already satisfied: aiohappyeyeballs>=2.3.0 in /usr/local/lib/python3.11/dist-packages (from aiohttp<4.0.0,>=3.8.3->langchain-community<0.4.0,>=0.3.0->langchain-experimental) (2.4.4)\n",
            "Requirement already satisfied: aiosignal>=1.1.2 in /usr/local/lib/python3.11/dist-packages (from aiohttp<4.0.0,>=3.8.3->langchain-community<0.4.0,>=0.3.0->langchain-experimental) (1.3.2)\n",
            "Requirement already satisfied: attrs>=17.3.0 in /usr/local/lib/python3.11/dist-packages (from aiohttp<4.0.0,>=3.8.3->langchain-community<0.4.0,>=0.3.0->langchain-experimental) (24.3.0)\n",
            "Requirement already satisfied: frozenlist>=1.1.1 in /usr/local/lib/python3.11/dist-packages (from aiohttp<4.0.0,>=3.8.3->langchain-community<0.4.0,>=0.3.0->langchain-experimental) (1.5.0)\n",
            "Requirement already satisfied: multidict<7.0,>=4.5 in /usr/local/lib/python3.11/dist-packages (from aiohttp<4.0.0,>=3.8.3->langchain-community<0.4.0,>=0.3.0->langchain-experimental) (6.1.0)\n",
            "Requirement already satisfied: propcache>=0.2.0 in /usr/local/lib/python3.11/dist-packages (from aiohttp<4.0.0,>=3.8.3->langchain-community<0.4.0,>=0.3.0->langchain-experimental) (0.2.1)\n",
            "Requirement already satisfied: yarl<2.0,>=1.17.0 in /usr/local/lib/python3.11/dist-packages (from aiohttp<4.0.0,>=3.8.3->langchain-community<0.4.0,>=0.3.0->langchain-experimental) (1.18.3)\n",
            "Requirement already satisfied: marshmallow<4.0.0,>=3.18.0 in /usr/local/lib/python3.11/dist-packages (from dataclasses-json<0.7,>=0.5.7->langchain-community<0.4.0,>=0.3.0->langchain-experimental) (3.25.1)\n",
            "Requirement already satisfied: typing-inspect<1,>=0.4.0 in /usr/local/lib/python3.11/dist-packages (from dataclasses-json<0.7,>=0.5.7->langchain-community<0.4.0,>=0.3.0->langchain-experimental) (0.9.0)\n",
            "Requirement already satisfied: jsonpointer>=1.9 in /usr/local/lib/python3.11/dist-packages (from jsonpatch<2.0,>=1.33->langchain-core<0.4.0,>=0.3.28->langchain-experimental) (3.0.0)\n",
            "Requirement already satisfied: langchain-text-splitters<0.4.0,>=0.3.3 in /usr/local/lib/python3.11/dist-packages (from langchain<0.4.0,>=0.3.14->langchain-community<0.4.0,>=0.3.0->langchain-experimental) (0.3.5)\n",
            "Requirement already satisfied: httpx<1,>=0.23.0 in /usr/local/lib/python3.11/dist-packages (from langsmith<0.3,>=0.1.125->langchain-community<0.4.0,>=0.3.0->langchain-experimental) (0.28.1)\n",
            "Requirement already satisfied: orjson<4.0.0,>=3.9.14 in /usr/local/lib/python3.11/dist-packages (from langsmith<0.3,>=0.1.125->langchain-community<0.4.0,>=0.3.0->langchain-experimental) (3.10.14)\n",
            "Requirement already satisfied: requests-toolbelt<2.0.0,>=1.0.0 in /usr/local/lib/python3.11/dist-packages (from langsmith<0.3,>=0.1.125->langchain-community<0.4.0,>=0.3.0->langchain-experimental) (1.0.0)\n",
            "Requirement already satisfied: annotated-types>=0.6.0 in /usr/local/lib/python3.11/dist-packages (from pydantic<3.0.0,>=2.5.2->langchain-core<0.4.0,>=0.3.28->langchain-experimental) (0.7.0)\n",
            "Requirement already satisfied: pydantic-core==2.27.2 in /usr/local/lib/python3.11/dist-packages (from pydantic<3.0.0,>=2.5.2->langchain-core<0.4.0,>=0.3.28->langchain-experimental) (2.27.2)\n",
            "Requirement already satisfied: python-dotenv>=0.21.0 in /usr/local/lib/python3.11/dist-packages (from pydantic-settings<3.0.0,>=2.4.0->langchain-community<0.4.0,>=0.3.0->langchain-experimental) (1.0.1)\n",
            "Requirement already satisfied: charset-normalizer<4,>=2 in /usr/local/lib/python3.11/dist-packages (from requests<3,>=2->langchain-community<0.4.0,>=0.3.0->langchain-experimental) (3.4.1)\n",
            "Requirement already satisfied: idna<4,>=2.5 in /usr/local/lib/python3.11/dist-packages (from requests<3,>=2->langchain-community<0.4.0,>=0.3.0->langchain-experimental) (3.10)\n",
            "Requirement already satisfied: urllib3<3,>=1.21.1 in /usr/local/lib/python3.11/dist-packages (from requests<3,>=2->langchain-community<0.4.0,>=0.3.0->langchain-experimental) (2.3.0)\n",
            "Requirement already satisfied: certifi>=2017.4.17 in /usr/local/lib/python3.11/dist-packages (from requests<3,>=2->langchain-community<0.4.0,>=0.3.0->langchain-experimental) (2024.12.14)\n",
            "Requirement already satisfied: greenlet!=0.4.17 in /usr/local/lib/python3.11/dist-packages (from SQLAlchemy<3,>=1.4->langchain-community<0.4.0,>=0.3.0->langchain-experimental) (3.1.1)\n",
            "Requirement already satisfied: anyio in /usr/local/lib/python3.11/dist-packages (from httpx<1,>=0.23.0->langsmith<0.3,>=0.1.125->langchain-community<0.4.0,>=0.3.0->langchain-experimental) (3.7.1)\n",
            "Requirement already satisfied: httpcore==1.* in /usr/local/lib/python3.11/dist-packages (from httpx<1,>=0.23.0->langsmith<0.3,>=0.1.125->langchain-community<0.4.0,>=0.3.0->langchain-experimental) (1.0.7)\n",
            "Requirement already satisfied: h11<0.15,>=0.13 in /usr/local/lib/python3.11/dist-packages (from httpcore==1.*->httpx<1,>=0.23.0->langsmith<0.3,>=0.1.125->langchain-community<0.4.0,>=0.3.0->langchain-experimental) (0.14.0)\n",
            "Requirement already satisfied: mypy-extensions>=0.3.0 in /usr/local/lib/python3.11/dist-packages (from typing-inspect<1,>=0.4.0->dataclasses-json<0.7,>=0.5.7->langchain-community<0.4.0,>=0.3.0->langchain-experimental) (1.0.0)\n",
            "Requirement already satisfied: sniffio>=1.1 in /usr/local/lib/python3.11/dist-packages (from anyio->httpx<1,>=0.23.0->langsmith<0.3,>=0.1.125->langchain-community<0.4.0,>=0.3.0->langchain-experimental) (1.3.1)\n",
            "Downloading langchain_experimental-0.3.4-py3-none-any.whl (209 kB)\n",
            "\u001b[2K   \u001b[90m━━━━━━━━━━━━━━━━━━━━━━━━━━━━━━━━━━━━━━━━\u001b[0m \u001b[32m209.2/209.2 kB\u001b[0m \u001b[31m4.1 MB/s\u001b[0m eta \u001b[36m0:00:00\u001b[0m\n",
            "\u001b[?25hInstalling collected packages: langchain-experimental\n",
            "Successfully installed langchain-experimental-0.3.4\n",
            "Collecting llama_parse\n",
            "  Downloading llama_parse-0.5.19-py3-none-any.whl.metadata (7.0 kB)\n",
            "Requirement already satisfied: click<9.0.0,>=8.1.7 in /usr/local/lib/python3.11/dist-packages (from llama_parse) (8.1.8)\n",
            "Collecting llama-index-core>=0.11.0 (from llama_parse)\n",
            "  Downloading llama_index_core-0.12.11-py3-none-any.whl.metadata (2.5 kB)\n",
            "Requirement already satisfied: pydantic!=2.10 in /usr/local/lib/python3.11/dist-packages (from llama_parse) (2.10.5)\n",
            "Requirement already satisfied: PyYAML>=6.0.1 in /usr/local/lib/python3.11/dist-packages (from llama-index-core>=0.11.0->llama_parse) (6.0.2)\n",
            "Requirement already satisfied: SQLAlchemy>=1.4.49 in /usr/local/lib/python3.11/dist-packages (from SQLAlchemy[asyncio]>=1.4.49->llama-index-core>=0.11.0->llama_parse) (2.0.37)\n",
            "Requirement already satisfied: aiohttp<4.0.0,>=3.8.6 in /usr/local/lib/python3.11/dist-packages (from llama-index-core>=0.11.0->llama_parse) (3.11.11)\n",
            "Requirement already satisfied: dataclasses-json in /usr/local/lib/python3.11/dist-packages (from llama-index-core>=0.11.0->llama_parse) (0.6.7)\n",
            "Requirement already satisfied: deprecated>=1.2.9.3 in /usr/local/lib/python3.11/dist-packages (from llama-index-core>=0.11.0->llama_parse) (1.2.15)\n",
            "Collecting dirtyjson<2.0.0,>=1.0.8 (from llama-index-core>=0.11.0->llama_parse)\n",
            "  Downloading dirtyjson-1.0.8-py3-none-any.whl.metadata (11 kB)\n",
            "Requirement already satisfied: filetype<2.0.0,>=1.2.0 in /usr/local/lib/python3.11/dist-packages (from llama-index-core>=0.11.0->llama_parse) (1.2.0)\n",
            "Requirement already satisfied: fsspec>=2023.5.0 in /usr/local/lib/python3.11/dist-packages (from llama-index-core>=0.11.0->llama_parse) (2024.10.0)\n",
            "Requirement already satisfied: httpx in /usr/local/lib/python3.11/dist-packages (from llama-index-core>=0.11.0->llama_parse) (0.28.1)\n",
            "Requirement already satisfied: nest-asyncio<2.0.0,>=1.5.8 in /usr/local/lib/python3.11/dist-packages (from llama-index-core>=0.11.0->llama_parse) (1.6.0)\n",
            "Requirement already satisfied: networkx>=3.0 in /usr/local/lib/python3.11/dist-packages (from llama-index-core>=0.11.0->llama_parse) (3.4.2)\n",
            "Requirement already satisfied: nltk>3.8.1 in /usr/local/lib/python3.11/dist-packages (from llama-index-core>=0.11.0->llama_parse) (3.9.1)\n",
            "Requirement already satisfied: numpy in /usr/local/lib/python3.11/dist-packages (from llama-index-core>=0.11.0->llama_parse) (1.26.4)\n",
            "Requirement already satisfied: pillow>=9.0.0 in /usr/local/lib/python3.11/dist-packages (from llama-index-core>=0.11.0->llama_parse) (11.1.0)\n",
            "Requirement already satisfied: requests>=2.31.0 in /usr/local/lib/python3.11/dist-packages (from llama-index-core>=0.11.0->llama_parse) (2.32.3)\n",
            "Requirement already satisfied: tenacity!=8.4.0,<10.0.0,>=8.2.0 in /usr/local/lib/python3.11/dist-packages (from llama-index-core>=0.11.0->llama_parse) (9.0.0)\n",
            "Collecting tiktoken>=0.3.3 (from llama-index-core>=0.11.0->llama_parse)\n",
            "  Downloading tiktoken-0.8.0-cp311-cp311-manylinux_2_17_x86_64.manylinux2014_x86_64.whl.metadata (6.6 kB)\n",
            "Requirement already satisfied: tqdm<5.0.0,>=4.66.1 in /usr/local/lib/python3.11/dist-packages (from llama-index-core>=0.11.0->llama_parse) (4.67.1)\n",
            "Requirement already satisfied: typing-extensions>=4.5.0 in /usr/local/lib/python3.11/dist-packages (from llama-index-core>=0.11.0->llama_parse) (4.12.2)\n",
            "Requirement already satisfied: typing-inspect>=0.8.0 in /usr/local/lib/python3.11/dist-packages (from llama-index-core>=0.11.0->llama_parse) (0.9.0)\n",
            "Requirement already satisfied: wrapt in /usr/local/lib/python3.11/dist-packages (from llama-index-core>=0.11.0->llama_parse) (1.17.0)\n",
            "Requirement already satisfied: annotated-types>=0.6.0 in /usr/local/lib/python3.11/dist-packages (from pydantic!=2.10->llama_parse) (0.7.0)\n",
            "Requirement already satisfied: pydantic-core==2.27.2 in /usr/local/lib/python3.11/dist-packages (from pydantic!=2.10->llama_parse) (2.27.2)\n",
            "Requirement already satisfied: aiohappyeyeballs>=2.3.0 in /usr/local/lib/python3.11/dist-packages (from aiohttp<4.0.0,>=3.8.6->llama-index-core>=0.11.0->llama_parse) (2.4.4)\n",
            "Requirement already satisfied: aiosignal>=1.1.2 in /usr/local/lib/python3.11/dist-packages (from aiohttp<4.0.0,>=3.8.6->llama-index-core>=0.11.0->llama_parse) (1.3.2)\n",
            "Requirement already satisfied: attrs>=17.3.0 in /usr/local/lib/python3.11/dist-packages (from aiohttp<4.0.0,>=3.8.6->llama-index-core>=0.11.0->llama_parse) (24.3.0)\n",
            "Requirement already satisfied: frozenlist>=1.1.1 in /usr/local/lib/python3.11/dist-packages (from aiohttp<4.0.0,>=3.8.6->llama-index-core>=0.11.0->llama_parse) (1.5.0)\n",
            "Requirement already satisfied: multidict<7.0,>=4.5 in /usr/local/lib/python3.11/dist-packages (from aiohttp<4.0.0,>=3.8.6->llama-index-core>=0.11.0->llama_parse) (6.1.0)\n",
            "Requirement already satisfied: propcache>=0.2.0 in /usr/local/lib/python3.11/dist-packages (from aiohttp<4.0.0,>=3.8.6->llama-index-core>=0.11.0->llama_parse) (0.2.1)\n",
            "Requirement already satisfied: yarl<2.0,>=1.17.0 in /usr/local/lib/python3.11/dist-packages (from aiohttp<4.0.0,>=3.8.6->llama-index-core>=0.11.0->llama_parse) (1.18.3)\n",
            "Requirement already satisfied: joblib in /usr/local/lib/python3.11/dist-packages (from nltk>3.8.1->llama-index-core>=0.11.0->llama_parse) (1.4.2)\n",
            "Requirement already satisfied: regex>=2021.8.3 in /usr/local/lib/python3.11/dist-packages (from nltk>3.8.1->llama-index-core>=0.11.0->llama_parse) (2024.11.6)\n",
            "Requirement already satisfied: charset-normalizer<4,>=2 in /usr/local/lib/python3.11/dist-packages (from requests>=2.31.0->llama-index-core>=0.11.0->llama_parse) (3.4.1)\n",
            "Requirement already satisfied: idna<4,>=2.5 in /usr/local/lib/python3.11/dist-packages (from requests>=2.31.0->llama-index-core>=0.11.0->llama_parse) (3.10)\n",
            "Requirement already satisfied: urllib3<3,>=1.21.1 in /usr/local/lib/python3.11/dist-packages (from requests>=2.31.0->llama-index-core>=0.11.0->llama_parse) (2.3.0)\n",
            "Requirement already satisfied: certifi>=2017.4.17 in /usr/local/lib/python3.11/dist-packages (from requests>=2.31.0->llama-index-core>=0.11.0->llama_parse) (2024.12.14)\n",
            "Requirement already satisfied: greenlet!=0.4.17 in /usr/local/lib/python3.11/dist-packages (from SQLAlchemy>=1.4.49->SQLAlchemy[asyncio]>=1.4.49->llama-index-core>=0.11.0->llama_parse) (3.1.1)\n",
            "Requirement already satisfied: mypy-extensions>=0.3.0 in /usr/local/lib/python3.11/dist-packages (from typing-inspect>=0.8.0->llama-index-core>=0.11.0->llama_parse) (1.0.0)\n",
            "Requirement already satisfied: marshmallow<4.0.0,>=3.18.0 in /usr/local/lib/python3.11/dist-packages (from dataclasses-json->llama-index-core>=0.11.0->llama_parse) (3.25.1)\n",
            "Requirement already satisfied: anyio in /usr/local/lib/python3.11/dist-packages (from httpx->llama-index-core>=0.11.0->llama_parse) (3.7.1)\n",
            "Requirement already satisfied: httpcore==1.* in /usr/local/lib/python3.11/dist-packages (from httpx->llama-index-core>=0.11.0->llama_parse) (1.0.7)\n",
            "Requirement already satisfied: h11<0.15,>=0.13 in /usr/local/lib/python3.11/dist-packages (from httpcore==1.*->httpx->llama-index-core>=0.11.0->llama_parse) (0.14.0)\n",
            "Requirement already satisfied: packaging>=17.0 in /usr/local/lib/python3.11/dist-packages (from marshmallow<4.0.0,>=3.18.0->dataclasses-json->llama-index-core>=0.11.0->llama_parse) (24.2)\n",
            "Requirement already satisfied: sniffio>=1.1 in /usr/local/lib/python3.11/dist-packages (from anyio->httpx->llama-index-core>=0.11.0->llama_parse) (1.3.1)\n",
            "Downloading llama_parse-0.5.19-py3-none-any.whl (15 kB)\n",
            "Downloading llama_index_core-0.12.11-py3-none-any.whl (1.6 MB)\n",
            "\u001b[2K   \u001b[90m━━━━━━━━━━━━━━━━━━━━━━━━━━━━━━━━━━━━━━━━\u001b[0m \u001b[32m1.6/1.6 MB\u001b[0m \u001b[31m20.2 MB/s\u001b[0m eta \u001b[36m0:00:00\u001b[0m\n",
            "\u001b[?25hDownloading dirtyjson-1.0.8-py3-none-any.whl (25 kB)\n",
            "Downloading tiktoken-0.8.0-cp311-cp311-manylinux_2_17_x86_64.manylinux2014_x86_64.whl (1.2 MB)\n",
            "\u001b[2K   \u001b[90m━━━━━━━━━━━━━━━━━━━━━━━━━━━━━━━━━━━━━━━━\u001b[0m \u001b[32m1.2/1.2 MB\u001b[0m \u001b[31m14.9 MB/s\u001b[0m eta \u001b[36m0:00:00\u001b[0m\n",
            "\u001b[?25hInstalling collected packages: dirtyjson, tiktoken, llama-index-core, llama_parse\n",
            "Successfully installed dirtyjson-1.0.8 llama-index-core-0.12.11 llama_parse-0.5.19 tiktoken-0.8.0\n",
            "Collecting redis\n",
            "  Downloading redis-5.2.1-py3-none-any.whl.metadata (9.1 kB)\n",
            "Downloading redis-5.2.1-py3-none-any.whl (261 kB)\n",
            "\u001b[2K   \u001b[90m━━━━━━━━━━━━━━━━━━━━━━━━━━━━━━━━━━━━━━━━\u001b[0m \u001b[32m261.5/261.5 kB\u001b[0m \u001b[31m4.3 MB/s\u001b[0m eta \u001b[36m0:00:00\u001b[0m\n",
            "\u001b[?25hInstalling collected packages: redis\n",
            "Successfully installed redis-5.2.1\n"
          ]
        }
      ],
      "source": [
        "!pip install langchain\n",
        "!pip install langchain-google-genai\n",
        "!pip install langchain-chroma\n",
        "!pip install langchain-community\n",
        "!pip install langchain-experimental\n",
        "!pip install llama_parse\n",
        "!pip install redis"
      ]
    },
    {
      "cell_type": "code",
      "source": [
        "import os\n",
        "from google.colab import userdata\n",
        "os.environ[\"LLAMA_CLOUD_API_KEY\"] = userdata.get('LLAMA_API_KEY')"
      ],
      "metadata": {
        "id": "aRdmyr961jXw"
      },
      "id": "aRdmyr961jXw",
      "execution_count": 2,
      "outputs": []
    },
    {
      "cell_type": "markdown",
      "id": "74b56bde-1ba0-4525-a11d-cab02c5659e4",
      "metadata": {
        "id": "74b56bde-1ba0-4525-a11d-cab02c5659e4"
      },
      "source": [
        "## Data Loading\n",
        "\n",
        "### Partition PDF tables, text\n",
        "  "
      ]
    },
    {
      "cell_type": "code",
      "source": [
        "import nest_asyncio\n",
        "nest_asyncio.apply()"
      ],
      "metadata": {
        "id": "azjr5PUj1ywO"
      },
      "id": "azjr5PUj1ywO",
      "execution_count": 3,
      "outputs": []
    },
    {
      "cell_type": "code",
      "source": [
        "from langchain_community.document_loaders import UnstructuredPDFLoader\n",
        "from llama_parse import LlamaParse\n",
        "doc = '/content/Sample Financial Statement.pdf'\n",
        "\n",
        "data = LlamaParse(result_type=\"markdown\").load_data(doc)"
      ],
      "metadata": {
        "id": "CMdrpENK3QYH",
        "colab": {
          "base_uri": "https://localhost:8080/"
        },
        "outputId": "a01ced72-a771-463f-e7ff-4e060e506630"
      },
      "id": "CMdrpENK3QYH",
      "execution_count": 4,
      "outputs": [
        {
          "output_type": "stream",
          "name": "stdout",
          "text": [
            "Started parsing the file under job_id a403c1fd-ca40-473e-843c-0d395554703d\n"
          ]
        }
      ]
    },
    {
      "cell_type": "code",
      "source": [
        "len(data)"
      ],
      "metadata": {
        "colab": {
          "base_uri": "https://localhost:8080/"
        },
        "id": "A3atyj9a52a9",
        "outputId": "9b53dbe9-6f00-44ea-8b75-43060e70a9fe"
      },
      "id": "A3atyj9a52a9",
      "execution_count": null,
      "outputs": [
        {
          "output_type": "execute_result",
          "data": {
            "text/plain": [
              "40"
            ]
          },
          "metadata": {},
          "execution_count": 9
        }
      ]
    },
    {
      "cell_type": "code",
      "source": [
        "data"
      ],
      "metadata": {
        "colab": {
          "base_uri": "https://localhost:8080/"
        },
        "collapsed": true,
        "id": "hx-LILl02HdG",
        "outputId": "74bce479-e464-439a-d73c-91126cbfb3aa"
      },
      "id": "hx-LILl02HdG",
      "execution_count": null,
      "outputs": [
        {
          "output_type": "execute_result",
          "data": {
            "text/plain": [
              "[Document(id_='76b5d918-ecd1-40c3-8b80-3d987f9cbb4f', embedding=None, metadata={}, excluded_embed_metadata_keys=[], excluded_llm_metadata_keys=[], relationships={}, metadata_template='{key}: {value}', metadata_separator='\\n', text_resource=MediaResource(embeddings=None, data=None, text='# INFOSYS LIMITED AND SUBSIDIARIES\\n\\n# Condensed Consolidated Financial Statements under Indian Accounting Standards (Ind AS)\\n\\n# for the three months and year ended March 31, 2024\\n\\n# Index\\n\\n|Condensed Consolidated Balance Sheet|1|\\n|---|---|\\n|Condensed Consolidated Statement of Profit and Loss|2|\\n|Condensed Consolidated Statement of Changes in Equity|3|\\n|Condensed Consolidated Statement of Cash Flows|5|\\n|Overview and Notes to the Interim Condensed Consolidated Financial Statements| |\\n|1. Overview| |\\n|1.1 Company overview|7|\\n|1.2 Basis of preparation of financial statements|7|\\n|1.3 Basis of consolidation|7|\\n|1.4 Use of estimates and judgments|7|\\n|1.5 Critical accounting estimates and judgments|8|\\n|2. Notes to the Interim Condensed Consolidated Financial Statements| |\\n|2.1 Business Combinations|10|\\n|2.2 Property, plant and equipment|12|\\n|2.3 Goodwill and other intangible assets|14|\\n|2.4 Investments|15|\\n|2.5 Loans|16|\\n|2.6 Other financial assets|16|\\n|2.7 Trade receivables|16|\\n|2.8 Cash and cash equivalents|17|\\n|2.9 Other assets|17|\\n|2.10 Financial instruments|18|\\n|2.11 Equity|22|\\n|2.12 Other financial liabilities|25|\\n|2.13 Other liabilities|25|\\n|2.14 Provisions|26|\\n|2.15 Income taxes|27|\\n|2.16 Revenue from operations|28|\\n|2.17 Other income, net|30|\\n|2.18 Expenses|31|\\n|2.19 Leases|32|\\n|2.20 Basic and diluted shares used in computing earnings per equity share|34|\\n|2.21 Contingent liabilities and commitments|34|\\n|2.22 Related party transactions|36|\\n|2.23 Segment reporting|37|\\n|2.24 Function wise classification of Condensed Consolidated Statement of Profit and Loss|39|', path=None, url=None, mimetype=None), image_resource=None, audio_resource=None, video_resource=None, text_template='{metadata_str}\\n\\n{content}'),\n",
              " Document(id_='0a425af8-b691-4304-861a-2fcf6c6d8699', embedding=None, metadata={}, excluded_embed_metadata_keys=[], excluded_llm_metadata_keys=[], relationships={}, metadata_template='{key}: {value}', metadata_separator='\\n', text_resource=MediaResource(embeddings=None, data=None, text='# INFOSYS LIMITED AND SUBSIDIARIES\\n\\n# (In ₹ crore)\\n\\n# Condensed Consolidated Balance Sheets as at\\n\\n| | |Note No.|March 31, 2024|March 31, 2023|\\n|---|---|---|---|---|\\n|ASSETS| | | | |\\n|Non-current assets| | | | |\\n|Property, plant and equipment|2.2|12,370|13,346| |\\n|Right-of-use assets|2.19|6,552|6,882| |\\n|Capital work-in-progress| |293|288| |\\n|Goodwill|2.3|7,303|7,248| |\\n|Other intangible assets| |1,397|1,749| |\\n|Financial assets| | | | |\\n|Investments|2.4|11,708|12,569| |\\n|Loans|2.5|34|39| |\\n|Other financial assets|2.6|3,105|2,798| |\\n|Deferred tax assets (net)| |454|1,245| |\\n|Income tax assets (net)| |3,045|6,453| |\\n|Other non-current assets|2.9|2,121|2,318| |\\n|Total non-current assets| |48,382|54,935| |\\n|Current assets| | | | |\\n|Financial assets| | | | |\\n|Investments|2.4|12,915|6,909| |\\n|Trade receivables|2.7|30,193|25,424| |\\n|Cash and cash equivalents|2.8|14,786|12,173| |\\n|Loans|2.5|248|289| |\\n|Other financial assets|2.6|12,085|11,604| |\\n|Income tax assets (net)| |6,397|6| |\\n|Other current assets|2.9|12,808|14,476| |\\n|Total current assets| |89,432|70,881| |\\n|Total assets| |137,814|125,816| |\\n|EQUITY AND LIABILITIES| | | | |\\n|Equity| | | | |\\n|Equity share capital|2.11|2,071|2,069| |\\n|Other equity| |86,045|73,338| |\\n|Total equity attributable to equity holders of the Company| |88,116|75,407| |\\n|Non-controlling interests| |345|388| |\\n|Total equity| |88,461|75,795| |\\n|Liabilities| | | | |\\n|Non-current liabilities| | | | |\\n|Financial Liabilities| | | | |\\n|Lease liabilities|2.19|6,400|7,057| |\\n|Other financial liabilities|2.12|2,130|2,058| |\\n|Deferred tax liabilities (net)| |1,794|1,220| |\\n|Other non-current liabilities|2.13|235|500| |\\n|Total non-current liabilities| |10,559|10,835| |\\n|Current liabilities| | | | |\\n|Financial Liabilities| | | | |\\n|Lease liabilities|2.19|1,959|1,242| |\\n|Trade payables| |3,956|3,865| |\\n|Other financial liabilities|2.12|16,959|18,558| |\\n|Other current liabilities|2.13|10,539|10,830| |\\n|Provisions|2.14|1,796|1,307| |\\n|Income tax liabilities (net)| |3,585|3,384| |\\n|Total current liabilities| |38,794|39,186| |\\n|Total equity and liabilities| |137,814|125,816| |\\n\\nThe accompanying notes form an integral part of the interim condensed consolidated financial statements\\n\\nAs per our report of even date attached\\n\\nfor  Deloitte Haskins & Sells LLP                                                  for and on behalf of the Board of Directors of Infosys Limited\\n\\nChartered Accountants\\n\\nFirm’s Registration No :\\n\\n117366W/ W-100018\\n\\nSanjiv V. Pilgaonkar                                                               D. Sundaram                                                     Salil Parekh                                                 Bobby Parikh\\n\\nPartner                                                                            Lead Independent Director                                       Chief Executive Officer                                      Director\\n\\nMembership No. 039826                                                                                                                              and Managing Director\\n\\nBengaluru                                                                          Jayesh Sanghrajka                                               A.G.S. Manikantha\\n\\nApril 18, 2024                                                                     Chief Financial Officer                                         Company Secretary', path=None, url=None, mimetype=None), image_resource=None, audio_resource=None, video_resource=None, text_template='{metadata_str}\\n\\n{content}'),\n",
              " Document(id_='38813a8c-aaa4-4fe1-8165-d5b834e23355', embedding=None, metadata={}, excluded_embed_metadata_keys=[], excluded_llm_metadata_keys=[], relationships={}, metadata_template='{key}: {value}', metadata_separator='\\n', text_resource=MediaResource(embeddings=None, data=None, text='# INFOSYS LIMITED AND SUBSIDIARIES\\n\\n# (In ₹ crore, except equity share and per equity share data)\\n\\n# Condensed Consolidated Statement of Profit and Loss for the\\n\\n| |Note No.|Three months ended March 31, 2024|Three months ended March 31, 2023|Year ended March 31, 2024|Year ended March 31, 2023| |\\n|---|---|---|---|---|---|---|\\n| |2.16|37,923|37,441|153,670|146,767| |\\n| |2.17|2,729|671|4,711|2,701| |\\n|Total income| |40,652|38,112|158,381|149,468| |\\n\\n# Expenses\\n\\n| |Note No.|Three months ended March 31, 2024|Three months ended March 31, 2023|Year ended March 31, 2024|Year ended March 31, 2023| | |\\n|---|---|---|---|---|---|---|---|\\n| |2.18|20,393|20,311|82,620| |78,359| |\\n| | |2,967|3,116|12,232| |14,062| |\\n| | |471|426|1,759| |1,525| |\\n| |2.18|3,687|2,886|13,515| |10,902| |\\n| | |147|171|677| |713| |\\n| | |489|387|1,726| |1,684| |\\n| | |1,163|1,121|4,678| |4,225| |\\n| | |110|82|470| |284| |\\n| |2.18|985|1,146|4,716| |4,392| |\\n|Total expenses| |30,412|29,646|122,393| |116,146| |\\n\\n# Profit before tax\\n\\n10,240\\n8,466\\n35,988\\n33,322\\n# Tax expense:\\n\\n|Current tax|2.15|1,173|2,260|8,390|9,287|\\n|---|---|---|---|---|---|\\n|Deferred tax|2.15|1,092|72|1,350|(73)|\\n\\n# Profit for the period\\n\\n7,975\\n6,134\\n26,248\\n24,108\\n# Other comprehensive income\\n\\n# Items that will not be reclassified subsequently to profit or loss\\n\\n|Remeasurement of the net defined benefit liability/asset, net|26|25|120|8|\\n|---|---|---|---|---|\\n|Equity instruments through other comprehensive income, net|(12)|(15)|19|(7)|\\n| |14|10|139|1|\\n\\n# Items that will be reclassified subsequently to profit or loss\\n\\n|Fair value changes on derivatives designated as cash flow hedge, net|28|36|11|(7)|\\n|---|---|---|---|---|\\n|Exchange differences on translation of foreign operations|(231)|61|226|776|\\n|Fair value changes on investments, net|37|42|144|(256)|\\n| |(166)|139|381|513|\\n\\n# Total other comprehensive income /(loss), net of tax\\n\\n(152)\\n(149)\\n520\\n514\\n# Total comprehensive income for the period\\n\\n7,823\\n6,283\\n26,768\\n24,622\\n# Profit attributable to:\\n\\n|Owners of the Company|7,969|6,128|26,233|24,095|\\n|---|---|---|---|---|\\n|Non-controlling interests|6|6|15|13|\\n| |7,975|6,134|26,248|24,108|\\n\\n# Total comprehensive income attributable to:\\n\\n|Owners of the Company|7,821|6,276|26,754|24,598|\\n|---|---|---|---|---|\\n|Non-controlling interests|2|7|14|24|\\n| |7,823|6,283|26,768|24,622|\\n\\n# Earnings per equity share\\n\\n# Equity shares of par value ₹5/- each\\n\\n|Basic (in ₹ per share)|19.25|14.79|63.39|57.63|\\n|---|---|---|---|---|\\n|Diluted (in ₹ per share)|19.22|14.77|63.29|57.54|\\n\\n# Weighted average equity shares used in computing earnings per equity share\\n\\n|Basic (in shares)|2.20|4,139,432,133|4,144,013,195|4,138,568,090|4,180,897,857|\\n|---|---|---|---|---|---|\\n|Diluted (in shares)|2.20|4,145,052,370|4,149,555,426|4,144,680,425|4,187,731,070|\\n\\nThe accompanying notes form an integral part of the interim condensed consolidated financial statements\\n\\nAs per our report of even date attached\\n\\nfor  Deloitte Haskins & Sells LLP                                                for and on behalf of the Board of Directors of Infosys Limited\\n\\nChartered Accountants\\n\\nFirm’s Registration No :\\n\\n117366W/ W-100018\\n\\nSanjiv V. Pilgaonkar                                                                                D. Sundaram                                                                           Salil Parekh                                                                     Bobby Parikh\\n\\nPartner                                                                                             Lead Independent Director                                                             Chief Executive Officer                                                          Director\\n\\nMembership No. 039826\\n\\nBengaluru                                                                                           Jayesh Sanghrajka                                                                     A.G.S. Manikantha\\n\\nApril 18, 2024                                                                                      Chief Financial Officer                                                               Company Secretary', path=None, url=None, mimetype=None), image_resource=None, audio_resource=None, video_resource=None, text_template='{metadata_str}\\n\\n{content}'),\n",
              " Document(id_='a2b7bdd3-2a62-428c-840b-939f6e72f88d', embedding=None, metadata={}, excluded_embed_metadata_keys=[], excluded_llm_metadata_keys=[], relationships={}, metadata_template='{key}: {value}', metadata_separator='\\n', text_resource=MediaResource(embeddings=None, data=None, text='# INFOSYS LIMITED AND SUBSIDIARIES\\n\\n# Condensed Consolidated Statement of Changes in Equity\\n\\n|Particulars| | | | | | | |OTHER EQUITY|Other comprehensive income|Total equity|Non-controlling interest|Total equity attributable to other equity holders of the Company| | | | | | | |\\n|---|---|---|---|---|---|---|---|---|---|---|---|---|---|---|---|---|---|---|---|\\n| |Capital Equity|Capital reserve|Securities redemption reserve|Retained earnings|General reserve|Share Options Outstanding|Special Economic Zone Re-investment Account|Other reserves (3)|Equity instruments through other comprehensive income|Effective portion of cash flow hedges|Other items of comprehensive income / (loss)|Exchange differences on translating the financial statements of a foreign operation|Total comprehensive income| | | | | | |\\n|Balance as at April 1, 2022|2,098|54|139|200|61,313|1,061|606|8,339|16| |254|1,560|2| |(292)|75,350|386|75,736| |\\n|Impact on adoption of amendment to Ind AS 37#|—|—|—|—|(19)|—|—|—|—|—|—|—|—|(19)|—|(19)| | | |\\n| |2,098|54|139|200|61,294|1,061|606|8,339|16| |254|1,560|2| |(292)|75,331|386|75,717| |\\n|Changes in equity for the year ended March 31, 2023| | | | | | | | | | | | | | | | | | | |\\n|Profit for the period|—|—|—|—|24,095|—|—|—|—|—|—|—|—|24,095| |13|24,108| | |\\n|Remeasurement of the net defined benefit liability/asset, net*|—|—|—|—|—|—|—|—|—|—|—| | | |8|8|—|8| |\\n|Equity instruments through other comprehensive income, net*|—|—|—|—|—|—|—|—|—| |(7)|—|—|(7)|—|(7)| | | |\\n|Fair value changes on derivatives designated as cash flow hedge, net*|—|—|—|—|—|—|—|—|—|—| | | |(7)|—|(7)|—|(7)| |\\n|Exchange differences on translation of foreign operations|—|—|—|—|—|—|—|—|—|—| |765|—|765| |11|776| | |\\n|Fair value changes on investments, net*|—|—|—|—|—|—|—|—|—|—|—| | | |(256)|(256)|—|(256)| |\\n|Total Comprehensive income for the period|—|—|—|—|24,095|—|—|—|—| |(7)| |765|(7)|(248)|24,598|24|24,622| |\\n|Shares issued on exercise of employee stock options (Refer to Note 2.11)| |1|—|—|34|—|—|—|—|—|—|—| | | |35|—|35| |\\n|Employee stock compensation expense (Refer to Note 2.11)|—|—|—|—|—|—|514|—|—|—|—|514|—|514| | | | | |\\n|Transferred on account of options not exercised|—|—|—|—|—|2| |(2)|—|—|—|—|—|—|—|—| | | |\\n|Buyback of equity shares (Refer to Note 2.11) **|(30)|—|—|(340)|(11,096)|—|—|—|—|—|—|—| | | |(11,466)|—|(11,466)| |\\n|Transaction costs relating to buyback*|—|—|—|(19)|(5)|—|—|—|—|—|—| | | | |(24)|—|(24)| |\\n|Amount transferred to capital redemption reserve upon buyback|—|—|30|—|(21)|(9)|—|—|—|—|—|—|—|—|—| | | | |\\n|Transferred to Special Economic Zone Re-investment reserve|—|—|—|—|(3,139)|—|—|3,139|—|—|—|—|—|—|—| | | | |\\n|Transfer to legal reserve|—|—|—|—|(3)|—|—|3|—|—|—|—|—|—|—| | | | |\\n|Transferred on account of exercise of stock options (Refer to note 2.11)|—|—|—|291|—|—|(291)|—|—|—|—|—|—|—|—| | | | |\\n|Income tax benefit arising on exercise of stock options|—|—|—|—|—|—|51|—|—|—|—|51|—|51| | | | | |\\n|Dividends (1)|—|—|—|—|(13,632)|—|—|—|—|—|—|—|(13,632)|—|(13,632)| | | | |\\n|Dividends paid to non controlling interest of subsidiary|—|—|—|—|—|—|—|—|—|—|—|—| | | | |(22)|—|(22)|\\n|Transferred from Special Economic Zone Re-investment reserve on utilization|—|—|—|—|1,464|—|—|(1,464)|—|—|—|—|—|—|—| | | | |\\n|Balance as at March 31, 2023|2,069|54|169|166|58,957|1,054|878|10,014|19| |247|2,325| |(5)|(540)|75,407|388|75,795| |', path=None, url=None, mimetype=None), image_resource=None, audio_resource=None, video_resource=None, text_template='{metadata_str}\\n\\n{content}'),\n",
              " Document(id_='ba611f37-e715-4763-82b1-fe42022832f8', embedding=None, metadata={}, excluded_embed_metadata_keys=[], excluded_llm_metadata_keys=[], relationships={}, metadata_template='{key}: {value}', metadata_separator='\\n', text_resource=MediaResource(embeddings=None, data=None, text='# Condensed Consolidated Statement of Changes in Equity (contd.)\\n\\n|Particulars| | | | | | | |OTHER EQUITY|Total equity| | | | | | | | | | | | |\\n|---|---|---|---|---|---|---|---|---|---|---|---|---|---|---|---|---|---|---|---|---|---|\\n|Share capital (1)|Capital reserve|Securities redemption reserve|Capital Premium|Retained earnings|General reserve|Share Options Outstanding|Special Economic Zone Re-investment reserve (2)| | | |Other comprehensive income|Exchange differences on translating the financial statements of a foreign operation|Effective portion of cash flow hedges|Other items of comprehensive income / (loss)|Non-controlling interest|Total equity| | | | | |\\n|Balance as at April 1, 2023|2,069|54|169|166|58,957|1,054|878|10,014|19|247| |2,325| |(5)| |(540)| |75,407|388|75,795| |\\n|Changes in equity for the year ended March 31, 2024| | | | | | | | | | | | | | | | | | | | | |\\n|Profit for the period|—|—|—|—|26,233|—|—|—|—|—|—|—|26,233| | | | | |15|26,248| |\\n|Remeasurement of the net defined benefit liability/asset, net*|—|—|—|—|—|—|—|—|—|—| | | | |120|120|—|120| | | |\\n|Equity instruments through other comprehensive income, net*|—|—|—|—|—|—|—|—| | |19|—|—|—|19|—|19| | | | |\\n|Fair value changes on derivatives designated as cash flow hedge, net*|—|—|—|—|—|—|—|—|—| | | |11|—|11|—|11| | | | |\\n|Exchange differences on translation of foreign operations|—|—|—|—|—|—|—|—|—| |227|—|227| | | | | |(1)|226| |\\n|Fair value changes on investments, net*|—|—|—|—|—|—|—|—|—|—| | | | |144|144|—|144| | | |\\n|Total Comprehensive income for the period|—|—|—|—|26,233|—|—|—| | |19|227| |11| |264| |26,754| |14|26,768|\\n|Shares issued on exercise of employee stock options (Refer to Note 2.11)|—|—| | |3|—|—|—|—|—|—|—|—| | | | | |5|—|5|\\n|Employee stock compensation expense (Refer to Note 2.11)|—|—|—|—|—| |639|—|—|—|—|—|639|—|639| | | | | | |\\n|Transferred on account of exercise of stock options (Refer to note 2.11)|—|—|—|447|—|—|(447)|—|—|—|—|—|—|—| | | | | | | |\\n|Transferred on account of options not exercised|—|—|—|—| |160|(160)|—|—|—|—|—|—|—|—| | | | | | |\\n|Income tax benefit arising on exercise of stock options|—|—|—|—|—| |3|—|—|—|—|—|3|—|3| | | | | | |\\n|Transfer to legal reserve|—|—|—|—|(3)|—|—|3|—|—|—|—|—|—| | | | | | | |\\n|Dividends (1)|—|—|—|—|(14,692)|—|—|—|—|—|—|(14,692)|—|(14,692)| | | | | | | |\\n|Dividends paid to non controlling interest of subsidiary|—|—|—|—|—|—|—|—|—|—|—|—| | | | | | |(39)|(39)| |\\n|Buyback of shares pertaining to non controlling interest of subsidiary|—|—|—|—|—|—|—|—|—|—|—|—| | | | | | |(18)|(18)| |\\n|Transferred to Special Economic Zone Re-investment reserve|—|—|—|—|(2,957)|—|—|2,957|—|—|—|—|—|—| | | | | | | |\\n|Transferred from Special Economic Zone Re-investment reserve on utilization|—|—|—|—|867|—|—|(867)|—|—|—|—|—|—| | | | | | | |\\n|Balance as at March 31, 2024|2,071|54|169|616|68,405|1,214|913|12,104|22|266| |2,552|6| | |(276)| |88,116|345|88,461| |\\n\\n* Net of tax\\n\\n** Including tax on buyback of ₹2,166 crore for the year ended March 31, 2023.\\n\\n# Impact on account of adoption of amendment to Ind AS 37 Provisions, Contingent Liabilities and Contingents Assets\\n\\n(1) Net of treasury shares\\n\\n(2) The Special Economic Zone Re-investment Reserve has been created out of the profit of eligible SEZ units in terms of the provisions of Sec 10AA(1)(ii) of Income Tax Act, 1961. The reserve should be utilized by the Group for acquiring new plant and machinery for the purpose of its business in the terms of the Sec 10AA(2) of the Income Tax Act, 1961.\\n\\n(3) Under the Swiss Code of Obligation, few subsidiaries of Infosys Consulting are required to appropriate a certain percentage of the annual profit to legal reserve which may be used only to cover losses or for measures designed to sustain the Company through difficult times, to prevent unemployment or to mitigate its consequences.\\n\\nThe accompanying notes form an integral part of the interim condensed consolidated financial statements.\\n\\nAs per our report of even date attached for Deloitte Haskins & Sells LLP Chartered Accountants Firm’s Registration No : 117366W/ W-100018\\n\\nfor and on behalf of the Board of Directors of Infosys Limited\\n\\nSanjiv V. Pilgaonkar\\n\\nPartner\\n\\nMembership No. 039826\\n\\nBengaluru\\n\\nApril 18, 2024\\n\\nD. Sundaram\\n\\nLead Independent Director\\n\\nSalil Parekh\\n\\nChief Executive Officer and Managing Director\\n\\nBobby Parikh\\n\\nDirector\\n\\nJayesh Sanghrajka\\n\\nChief Financial Officer\\n\\nA.G.S. Manikantha\\n\\nCompany Secretary', path=None, url=None, mimetype=None), image_resource=None, audio_resource=None, video_resource=None, text_template='{metadata_str}\\n\\n{content}'),\n",
              " Document(id_='2333c4cb-3e88-45a3-84e3-d00dfd212f3e', embedding=None, metadata={}, excluded_embed_metadata_keys=[], excluded_llm_metadata_keys=[], relationships={}, metadata_template='{key}: {value}', metadata_separator='\\n', text_resource=MediaResource(embeddings=None, data=None, text='# INFOSYS LIMITED AND SUBSIDIARIES\\n\\n# Condensed Consolidated Statement of Cash Flows\\n\\n# Accounting policy\\n\\nCash flows are reported using the indirect method, whereby profit for the period is adjusted for the effects of transactions of a non-cash nature, any deferrals or accruals of past or future operating cash receipts or payments and item of income or expenses associated with investing or financing cash flows. The cash flows from operating, investing and financing activities of the Group are segregated. The Group considers all highly liquid investments that are readily convertible to known amounts of cash to be cash equivalents.\\n\\n|Particulars|Note No.|Year ended March 31, 2024|Year ended March 31, 2023|\\n|---|---|---|---|\\n|Cash flow from operating activities| | | |\\n|Profit for the period| |26,248|24,108|\\n|Adjustments to reconcile net profit to net cash provided by operating activities:| | | |\\n|Income tax expense|2.15|9,740|9,214|\\n|Depreciation and amortization| |4,678|4,225|\\n|Interest and dividend income| |(2,067)|(1,817)|\\n|Finance cost| |470|284|\\n|Impairment loss recognized / (reversed) under expected credit loss model| |121|283|\\n|Exchange differences on translation of assets and liabilities, net| |76|161|\\n|Stock compensation expense| |652|519|\\n|Interest on income tax refund| |(1,934)|—|\\n|Provision for post sale client support| |75|120|\\n|Other adjustments| |1,464|508|\\n|Changes in assets and liabilities| | | |\\n|Trade receivables and unbilled revenue| |(2,667)|(7,076)|\\n|Loans, other financial assets and other assets| |(1,172)|(3,108)|\\n|Trade payables| |91|(279)|\\n|Other financial liabilities, other liabilities and provisions| |(1,334)|4,119|\\n|Cash generated from operations| |34,441|31,261|\\n|Income taxes paid| |(9,231)|(8,794)|\\n|Net cash generated by operating activities| |25,210|22,467|\\n|Cash flows from investing activities| | | |\\n|Expenditure on property, plant and equipment and intangibles| |(2,201)|(2,579)|\\n|Deposits placed with corporation| |(847)|(996)|\\n|Redemption of deposits placed with Corporation| |710|762|\\n|Interest and dividend received| |1,768|1,525|\\n|Payment towards acquisition of business, net of cash acquired|2.1|—|(910)|\\n|Payment of contingent consideration pertaining to acquisition of business| |(101)|(60)|\\n|Escrow and other deposits pertaining to Buyback| |—|(483)|\\n|Redemption of escrow and other deposits pertaining to Buyback| |—|483|\\n|Other receipts| |128|71|\\n|Payments to acquire Investments| | | |\\n|Liquid mutual fund units| |(66,191)|(70,631)|\\n|Target maturity fund units| |—|(400)|\\n|Certificates of deposit| |(8,509)|(10,348)|\\n|Commercial Papers| |(10,387)|(3,003)|\\n|Non-convertible debentures| |(1,526)|(249)|\\n|Tax free bonds and government bonds| |—|(27)|\\n|Government securities| |—|(1,569)|\\n|Other Investments| |(14)|(20)|\\n|Proceeds on sale of Investments| | | |\\n|Tax free bonds and government bonds| |150|221|\\n|Liquid mutual funds units| |64,767|71,851|\\n|Certificates of deposit| |9,205|10,404|\\n|Commercial Papers| |6,479|2,298|\\n|Non-convertible debentures| |1,230|470|\\n|Government securities| |304|1,882|\\n|Equity and preference securities| |26|99|\\n|Net cash generated / (used in) from investing activities| |(5,009)|(1,209)|', path=None, url=None, mimetype=None), image_resource=None, audio_resource=None, video_resource=None, text_template='{metadata_str}\\n\\n{content}'),\n",
              " Document(id_='a0fbaae6-7fbc-4128-af26-261ff77c98f1', embedding=None, metadata={}, excluded_embed_metadata_keys=[], excluded_llm_metadata_keys=[], relationships={}, metadata_template='{key}: {value}', metadata_separator='\\n', text_resource=MediaResource(embeddings=None, data=None, text='# Cash flows from financing activities\\n\\n|Payment of lease liabilities|(2,024)|(1,231)| |\\n|---|---|---|---|\\n|Payment of dividends|(14,692)|(13,631)| |\\n|Payment of dividend to non-controlling interest of subsidiary|(39)|(22)| |\\n|Payment towards buyback of shares pertaining to non controlling interest of subsidiary|(18)|—| |\\n|Shares issued on exercise of employee stock options|5|35| |\\n|Other receipts|-|132| |\\n|Other payments|(736)|(479)| |\\n|Buyback of equity shares including transaction cost and tax on buyback|-|(11,499)| |\\n|Net cash used in financing activities|(17,504)|(26,695)| |\\n|Net increase / (decrease) in cash and cash equivalents|2,697|(5,437)| |\\n|Effect of exchange rate changes on cash and cash equivalents|(84)|138| |\\n|Cash and cash equivalents at the beginning of the period|2.8|12,173|17,472|\\n|Cash and cash equivalents at the end of the period|2.8|14,786|12,173|\\n\\n# Supplementary information:\\n\\nRestricted cash balance\\n2.8\\n348\\n362\\nThe accompanying notes form an integral part of the interim condensed consolidated financial statements\\n\\nAs per our report of even date attached\\n\\nfor  Deloitte Haskins & Sells LLP                                    for and on behalf of the Board of Directors of Infosys Limited\\n\\nChartered Accountants\\n\\nFirm’s Registration No :\\n\\n117366W/ W-100018\\n\\nSanjiv V. Pilgaonkar                                                 D. Sundaram                                                      Salil Parekh                            Bobby Parikh\\n\\nPartner                                                              Lead Independent Director                                        Chief Executive Officer                 Director\\n\\nMembership No. 039826                                                                                                                 and Managing Director\\n\\nBengaluru                                                            Jayesh Sanghrajka                                                A.G.S. Manikantha\\n\\nApril 18, 2024                                                       Chief Financial Officer                                          Company Secretary', path=None, url=None, mimetype=None), image_resource=None, audio_resource=None, video_resource=None, text_template='{metadata_str}\\n\\n{content}'),\n",
              " Document(id_='98f5c27d-d939-4cdd-a189-5eed65e7d7de', embedding=None, metadata={}, excluded_embed_metadata_keys=[], excluded_llm_metadata_keys=[], relationships={}, metadata_template='{key}: {value}', metadata_separator='\\n', text_resource=MediaResource(embeddings=None, data=None, text='# INFOSYS LIMITED AND SUBSIDIARIES\\n\\n# Overview and notes to the Interim Condensed Consolidated Financial Statements\\n\\n# 1. Overview\\n\\n# 1.1 Company overview\\n\\nInfosys Limited (\\'the Company\\' or Infosys) provides consulting, technology, outsourcing and next-generation digital services, to enable clients to execute strategies for their digital transformation. Infosys strategic objective is to build a sustainable organization that remains relevant to the agenda of clients, while creating growth opportunities for employees and generating profitable returns for investors. Infosys strategy is to be a navigator for our clients as they ideate, plan and execute on their journey to a digital future.\\n\\nInfosys together with its subsidiaries and controlled trusts is hereinafter referred to as \"the Group\".\\n\\nThe Company is a public limited company incorporated and domiciled in India and has its registered office at Electronics city, Hosur Road, Bengaluru 560100, Karnataka, India. The Company has its primary listings on the BSE Ltd. and National Stock Exchange of India Limited. The Company’s American Depositary Shares (ADS) representing equity shares are listed on the New York Stock Exchange (NYSE).\\n\\nThe Group\\'s interim condensed consolidated financial statements are approved for issue by the Company\\'s Board of Directors on April 18, 2024.\\n\\n# 1.2 Basis of preparation of financial statements\\n\\nThese interim condensed consolidated financial statements are prepared in compliance with Indian Accounting Standard (Ind AS) 34 Interim Financial Reporting, under the historical cost convention on accrual basis except for certain financial instruments which are measured at fair values, the provisions of the Companies Act, 2013 (\\'the Act\\') and guidelines issued by the Securities and Exchange Board of India (SEBI). Accordingly, these interim condensed consolidated financial statements do not include all the information required for a complete set of financial statements. These interim condensed consolidated financial statements should be read in conjunction with the consolidated financial statements and related notes included in the Company’s Annual Report for the year ended March 31, 2023. The Ind AS are prescribed under Section 133 of the Act read with Rule 3 of the Companies (Indian Accounting Standards) Rules, 2015 and relevant amendment rules issued thereafter.\\n\\nAccounting policies have been consistently applied except where a newly issued accounting standard is initially adopted or a revision to an existing accounting standard requires a change in the accounting policy hitherto in use. The material accounting policy information used in preparation of the audited condensed consolidated interim financial statements have been discussed in the respective notes.\\n\\nAs the quarter and year-to-date figures are taken from the source and rounded to the nearest digits, the quarter figures in this statement added up to the figures reported for the previous quarters might not always add up to the year-to-date figures reported in this statement.\\n\\n# 1.3 Basis of consolidation\\n\\nInfosys consolidates entities which it owns or controls. The interim condensed consolidated financial statements comprise the financial statements of the Company, its controlled trusts and its subsidiaries. Control exists when the parent has power over the entity, is exposed, or has rights to variable returns from its involvement with the entity and has the ability to affect those returns by using its power over the entity. Power is demonstrated through existing rights that give the ability to direct relevant activities, those which significantly affect the entity\\'s returns. Subsidiaries are consolidated from the date control commences until the date control ceases.\\n\\nThe financial statements of the Group companies are consolidated on a line-by-line basis and intra-group balances and transactions including unrealized gain/loss from such transactions are eliminated upon consolidation. These financial statements are prepared by applying uniform accounting policies in use at the Group. Non-controlling interests which represent part of the net profit or loss and net assets of subsidiaries that are not, directly or indirectly, owned or controlled by the Company, are excluded.\\n\\n# 1.4 Use of estimates and judgments\\n\\nThe preparation of the interim condensed consolidated financial statements in conformity with Ind AS requires the Management to make estimates, judgments and assumptions. These estimates, judgments and assumptions affect the application of accounting policies and the reported amounts of assets and liabilities, the disclosures of contingent assets and liabilities at the date of the interim condensed consolidated financial statements and reported amounts of revenues and expenses during the period. The application of accounting policies that require critical accounting estimates involving complex and subjective judgments and the use of assumptions in these financial statements have been disclosed in Note no. 1.5. Accounting estimates could change from period to period. Actual results could differ from those estimates. Appropriate changes in estimates are made as Management becomes aware of changes in circumstances surrounding the estimates. Changes in estimates and judgements are reflected in the interim condensed consolidated financial statements in the period in which changes are made and, if material, their effects are disclosed in the notes to the interim condensed consolidated financial statements.', path=None, url=None, mimetype=None), image_resource=None, audio_resource=None, video_resource=None, text_template='{metadata_str}\\n\\n{content}'),\n",
              " Document(id_='03323b98-b5f6-4af0-8fa2-3999747e8b3a', embedding=None, metadata={}, excluded_embed_metadata_keys=[], excluded_llm_metadata_keys=[], relationships={}, metadata_template='{key}: {value}', metadata_separator='\\n', text_resource=MediaResource(embeddings=None, data=None, text=\"# 1.5 Critical accounting estimates and judgments\\n\\n# a. Revenue recognition\\n\\nThe Group’s contracts with customers include promises to transfer multiple products and services to a customer. Revenues from customer contracts are considered for recognition and measurement when the contract has been approved, in writing, by the parties to the contract, the parties to contract are committed to perform their respective obligations under the contract, and the contract is legally enforceable. The Group assesses the services promised in a contract and identifies distinct performance obligations in the contract. Identification of distinct performance obligations to determine the deliverables and the ability of the customer to benefit independently from such deliverables, and allocation of transaction price to these distinct performance obligations involves significant judgment.\\n\\nFixed price maintenance revenue is recognized ratably on a straight-line basis when services are performed through an indefinite number of repetitive acts over a specified period. Revenue from fixed price maintenance contract is recognized ratably using a percentage of completion method when the pattern of benefits from the services rendered to the customer and the Group’s costs to fulfil the contract is not even through the period of the contract because the services are generally discrete in nature and not repetitive. The use of method to recognize the maintenance revenues requires judgment and is based on the promises in the contract and nature of the deliverables.\\n\\nThe Group uses the percentage-of-completion method in accounting for other fixed-price contracts. Use of the percentage-of-completion method requires the Group to determine the actual efforts or costs expended to date as a proportion of the estimated total efforts or costs to be incurred. Efforts or costs expended have been used to measure progress towards completion as there is a direct relationship between input and productivity. The estimation of total efforts or costs involves significant judgment and is assessed throughout the period of the contract to reflect any changes based on the latest available information.\\n\\nContracts with customers includes subcontractor services or third-party vendor equipment or software in certain integrated services arrangements. In these types of arrangements, revenue from sales of third-party vendor products or services is recorded net of costs when the Group is acting as an agent between the customer and the vendor, and gross when the Group is the principal for the transaction. In doing so, the Group first evaluates whether it obtains control of the specified goods or services before they are transferred to the customer. The Group considers whether it is primarily responsible for fulfilling the promise to provide the specified goods or services, inventory risk, pricing discretion and other factors to determine whether it controls the specified goods or services and therefore, is acting as a principal or an agent.\\n\\nProvisions for estimated losses, if any, on incomplete contracts are recorded in the period in which such losses become probable based on the estimated efforts or costs to complete the contract.\\n\\n# b. Income taxes\\n\\nThe Group's two major tax jurisdictions are India and the United States, though the Company also files tax returns in other overseas jurisdictions.\\n\\nSignificant judgments are involved in determining the provision for income taxes, including amount expected to be paid / recovered for uncertain tax positions.\\n\\nIn assessing the realizability of deferred income tax assets, the Management considers whether some portion or all of the deferred income tax assets will not be realized. The ultimate realization of deferred income tax assets is dependent upon the generation of future taxable income during the periods in which the temporary differences become deductible. Management considers the scheduled reversals of deferred income tax liabilities, projected future taxable income and tax planning strategies in making this assessment. Based on the level of historical taxable income and projections for future taxable income over the periods in which the deferred income tax assets are deductible, the Management believes that the Group will realize the benefits of those deductible differences. The amount of the deferred income tax assets considered realizable, however, could be reduced in the near term if estimates of future taxable income during the carry forward period are reduced (Refer to Notes 2.15).\\n\\n# c. Business combinations and intangible assets\\n\\nBusiness combinations are accounted for using Ind AS 103, Business Combinations. Ind AS 103 requires the identifiable intangible assets and contingent consideration to be fair valued in order to ascertain the fair value of identifiable assets, liabilities and contingent liabilities of the acquiree. These valuations are conducted by external valuation experts. Estimates are required to be made in determining the value of contingent consideration, value of option arrangements and intangible assets. These measurements are based on information available at the acquisition date and are based on expectations and assumptions that have been deemed reasonable by the Management (Refer to Note 2.1).\\n\\n# d. Property, plant and equipment\\n\\nProperty, plant and equipment represent a significant proportion of the asset base of the Group. The charge in respect of periodic depreciation is derived after determining an estimate of an asset’s expected useful life and the expected residual value at the end of its life. The useful lives and residual values of Group's assets are determined by the Management at the time the asset is acquired and reviewed periodically, including at each financial year end. The lives are based on historical experience with similar assets as well as anticipation of future events, which may impact their life, such as changes in technology (Refer to Note 2.2).\", path=None, url=None, mimetype=None), image_resource=None, audio_resource=None, video_resource=None, text_template='{metadata_str}\\n\\n{content}'),\n",
              " Document(id_='71573176-e960-40f1-93b4-b23cc978a870', embedding=None, metadata={}, excluded_embed_metadata_keys=[], excluded_llm_metadata_keys=[], relationships={}, metadata_template='{key}: {value}', metadata_separator='\\n', text_resource=MediaResource(embeddings=None, data=None, text='# e. Impairment of Goodwill\\n\\nGoodwill is tested for impairment on an annual basis and whenever there is an indication that the recoverable amount of a cash generating unit (CGUs) is less than its carrying amount. For the impairment test, goodwill is allocated to the CGU or groups of CGUs which benefit from the synergies of the acquisition and which represent the lowest level at which goodwill is monitored for internal management purposes.\\n\\nThe recoverable amount of CGUs is determined based on higher of value-in-use and fair value less cost to sell. Key assumptions in the cash flow projections are prepared based on current economic conditions and comprises estimated long term growth rates, weighted average cost of capital and estimated operating margins (Refer to Note 2.3.1).', path=None, url=None, mimetype=None), image_resource=None, audio_resource=None, video_resource=None, text_template='{metadata_str}\\n\\n{content}'),\n",
              " Document(id_='25312adf-9f5e-45ee-a23d-58ab2a741ba9', embedding=None, metadata={}, excluded_embed_metadata_keys=[], excluded_llm_metadata_keys=[], relationships={}, metadata_template='{key}: {value}', metadata_separator='\\n', text_resource=MediaResource(embeddings=None, data=None, text=\"# 2. Notes to the Interim Condensed Consolidated Financial Statements\\n\\n# 2.1 BUSINESS COMBINATIONS\\n\\n# Accounting policy\\n\\nBusiness combinations have been accounted for using the acquisition method under the provisions of Ind AS 103, Business Combinations. The purchase price in an acquisition is measured at the fair value of the assets transferred, equity instruments issued and liabilities incurred or assumed at the date of acquisition, which is the date on which control is transferred to the Group. The purchase price also includes the fair value of any contingent consideration. Identifiable assets acquired and liabilities and contingent liabilities assumed in a business combination are measured initially at their fair value on the date of acquisition. Contingent consideration is remeasured at fair value at each reporting date and changes in the fair value of the contingent consideration are recognized in the Consolidated Statement of Profit and Loss.\\n\\nThe interest of non-controlling shareholders is initially measured either at fair value or at the non-controlling interests’ proportionate share of the acquiree’s identifiable net assets. The choice of measurement basis is made on an acquisition-by-acquisition basis. Subsequent to acquisition, the carrying amount of non-controlling interests is the amount of those interests at initial recognition plus the non-controlling interests’ share of subsequent changes in equity of subsidiaries.\\n\\nBusiness combinations between entities under common control is accounted for at carrying value of the assets acquired and liabilities assumed in the Group's consolidated financial statements.\\n\\nThe payments related to options issued by the Group over the non-controlling interests in its subsidiaries are accounted as financial liabilities and initially recognized at the estimated present value of gross obligations. Such options are subsequently measured at fair value in order to reflect the amount payable under the option at the date at which it becomes exercisable. In the event that the option expires unexercised, the liability is derecognized.\\n\\n# Acquisitions during the year ended March 31, 2023\\n\\nDuring the year ended March 31, 2023 the Group, completed two business combinations to complement its digital offerings by acquiring 100% voting interests in:\\n\\n1. oddity GmbH, oddity group services GmbH, oddity space GmbH, oddity jungle GmbH, oddity code GmbH and oddity waves GmbH (collectively known as oddity), a Germany-based digital marketing, experience, and commerce agencies on April 20, 2022.\\n2. BASE life science A/S, a consulting and technology firm in the life Science industry in Europe on September 1, 2022.\\n\\nThese acquisitions are expected to strengthen the Group’s creative, branding and experience design capabilities and augment the Group’s life sciences expertise, scales its digital transformation capabilities with cloud based industry solutions and expand its presence across Europe.\\n\\n# The purchase price is allocated to assets acquired and liabilities assumed based upon determination of fair values at the dates of acquisition as follows:\\n\\n|Component|Acquiree's carrying amount|Fair value adjustments|Purchase price allocated|\\n|---|---|---|---|\\n|Net Assets(1)|103|-|103|\\n|Intangible assets :| | | |\\n|Customer contracts and relationships|-|274|274|\\n|Vendor relationships|-|30|30|\\n|Brand|-|24|24|\\n|Deferred tax liabilities on intangible assets|-|(80)|(80)|\\n|Total|103|248|351|\\n|Goodwill|630|630|630|\\n|Total purchase price|981|981|981|\\n\\n(1) Includes cash and cash equivalents acquired of ₹ 26 crore.\\n\\nThe excess of the purchase consideration paid over the fair value of assets acquired has been attributed to goodwill. The primary items that generated this goodwill are the value of the acquired assembled workforce and estimated synergies, neither of which qualify as an intangible asset.\\n\\nGoodwill is not tax-deductible. Goodwill pertaining to these business combinations is allocated to operating segments as more fully described in Note 2.3.1.\\n\\nThe purchase consideration of ₹981 crore includes cash of ₹936 crore and contingent consideration with an estimated fair value of ₹45 crore as on the date of acquisition. At the acquisition date, the key inputs used in determination of the fair value of contingent consideration are the probabilities assigned towards achievement of financial targets and discount rate of 12.5%. As of March 31, 2024 the contingent consideration was fully paid.\\n\\nAdditionally, these acquisitions have shareholder and employee retention bonus payable to the employees of the acquiree over three years, subject to their continuous employment with the Group along with achievement of financial targets for the respective years. Performance and Retention Bonus is recognized in employee benefit expenses in the Interim Condensed Consolidated Statement of Statement of Profit or Loss over the period of service.\\n\\nFair value of trade receivables acquired, is ₹111 crore as of acquisition date and as of March 31, 2024 the amounts are fully collected. Transaction costs that the Group incurs in connection with a business combination such as finder’s fees, legal fees, due diligence fees, and other professional and consulting fees are expensed as incurred. The transaction costs of ₹7 crore related to the acquisition have been included under administrative expenses in the Interim Condensed Consolidated Statement of Statement of Profit or Loss for the year ended March 31, 2023.\", path=None, url=None, mimetype=None), image_resource=None, audio_resource=None, video_resource=None, text_template='{metadata_str}\\n\\n{content}'),\n",
              " Document(id_='c88b8319-913f-4a9a-b0eb-a9d057714d64', embedding=None, metadata={}, excluded_embed_metadata_keys=[], excluded_llm_metadata_keys=[], relationships={}, metadata_template='{key}: {value}', metadata_separator='\\n', text_resource=MediaResource(embeddings=None, data=None, text='# Proposed acquisitions\\n\\nOn January 11, 2024, Infosys Limited entered into a definitive agreement to acquire 100% of the equity share capital in InSemi Technology Services Private Limited, a semiconductor design services company headquartered in India, for a consideration including earn-outs, and management incentives and retention bonuses totaling up to ₹280 crore (approximately $34 million), subject to customary closing adjustments.\\n\\nOn April 18, 2024, Infosys Germany GmBH, a wholly owned step down subsidiary of Infosys Limited, entered into a definitive agreement to acquire 100% of the equity share capital in in-tech Holding GmbH, a leading provider of Engineering R&D services headquartered in Germany, for a consideration including earn-outs amounting up to EUR 450 million (approximately ₹4,045 crore), subject to customary closing adjustments.', path=None, url=None, mimetype=None), image_resource=None, audio_resource=None, video_resource=None, text_template='{metadata_str}\\n\\n{content}'),\n",
              " Document(id_='f4b624a5-d969-4314-94a0-b6ba727c5006', embedding=None, metadata={}, excluded_embed_metadata_keys=[], excluded_llm_metadata_keys=[], relationships={}, metadata_template='{key}: {value}', metadata_separator='\\n', text_resource=MediaResource(embeddings=None, data=None, text='# 2.2 PROPERTY, PLANT AND EQUIPMENT\\n\\n# Accounting policy\\n\\nProperty, plant and equipment are stated at cost, less accumulated depreciation and impairment, if any. Costs directly attributable to acquisition are capitalized until the property, plant and equipment are ready for use, as intended by the Management. The charge in respect of periodic depreciation is derived at after determining an estimate of an asset’s expected useful life and the expected residual value at the end of its life. The Group depreciates property, plant and equipment over their estimated useful lives using the straight-line method. The estimated useful lives of assets are as follows:\\n\\n|Buildings (1)|22-25 years|\\n|---|---|\\n|Plant and machinery (1)(2)|5 years|\\n|Office equipment|5 years|\\n|Computer equipment (1)|3-5 years|\\n|Furniture and fixtures (1)|5 years|\\n|Vehicles(1)|5 years|\\n|Leasehold improvements|Lower of useful life of the asset or lease term|\\n\\n(1) Based on technical evaluation, the Management believes that the useful lives as given above best represent the period over which the Management expects to use these assets. Hence, the useful lives for these assets is different from the useful lives as prescribed under Part C of Schedule II of the Companies Act 2013.\\n\\n(2) Includes Solar plant with a useful life of 25 years.\\n\\nDepreciation methods, useful lives and residual values are reviewed periodically, including at each financial year end. The useful lives are based on historical experience with similar assets as well as anticipation of future events, which may impact their life, such as changes in technology.\\n\\nAdvances paid towards the acquisition of property, plant and equipment outstanding at each Balance Sheet date is classified as capital advances under other non-current assets and the cost of assets not ready to use before such date are disclosed under ‘Capital work-in-progress’. Subsequent expenditures relating to property, plant and equipment is capitalized only when it is probable that future economic benefits associated with these will flow to the Group and the cost of the item can be measured reliably. The cost and related accumulated depreciation are eliminated from the financial statements upon sale or retirement of the asset.\\n\\n# Impairment\\n\\nProperty, plant and equipment are evaluated for recoverability whenever events or changes in circumstances indicate that their carrying amounts may not be recoverable. For the purpose of impairment testing, the recoverable amount (i.e. the higher of the fair value less cost to sell and the value-in-use) is determined on an individual asset basis unless the asset does not generate cash flows that are largely independent of those from other assets. In such cases, the recoverable amount is determined for the Cash Generating Unit (CGU) to which the asset belongs.\\n\\nIf such assets are considered to be impaired, the impairment to be recognized in the Consolidated Statement of Profit and Loss is measured by the amount by which the carrying value of the assets exceeds the estimated recoverable amount of the asset. An impairment loss is reversed in the Consolidated Statement of Profit and Loss if there has been a change in the estimates used to determine the recoverable amount. The carrying amount of the asset is increased to its revised recoverable amount, provided that this amount does not exceed the carrying amount that would have been determined (net of any accumulated depreciation) had no impairment loss been recognized for the asset in prior years.\\n\\n# The changes in the carrying value of property, plant and equipment for the three months ended March 31, 2024 are as follows:\\n\\n|Particulars|Land - Freehold|Buildings (1)|Plant and machinery|Office Equipment|Computer equipment|Furniture and fixtures|Leasehold Improvements|Vehicles|Total|\\n|---|---|---|---|---|---|---|---|---|---|\\n|Gross carrying value as at January 1, 2024|1,432|11,498|3,305|1,510|8,497|2,308|1,456|45|30,051|\\n|Additions|—|287|140|33|345|54|35|—|894|\\n|Deletions**|—|—|(16)|(14)|(224)|(34)|(37)|—|(325)|\\n|Translation difference|—|(15)|(1)|(1)|(7)|(2)|(7)|—|(33)|\\n|Gross carrying value as at March 31, 2024|1,432|11,770|3,428|1,528|8,611|2,326|1,447|45|30,587|\\n|Accumulated depreciation as at January 1, 2024|—|(4,814)|(2,584)|(1,253)|(6,267)|(1,807)|(1,131)|(42)|(17,898)|\\n|Depreciation|—|(111)|(63)|(32)|(336)|(58)|(46)|—|(646)|\\n|Accumulated depreciation on deletions**|—|—|16|14|219|26|34|—|309|\\n|Translation difference|—|4|1|2|4|2|5|—|18|\\n|Accumulated depreciation as at March 31, 2024|—|(4,921)|(2,630)|(1,269)|(6,380)|(1,837)|(1,138)|(42)|(18,217)|\\n|Carrying value as at January 1, 2024|1,432|6,684|721|257|2,230|501|325|3|12,153|\\n|Carrying value as at March 31, 2024|1,432|6,849|798|259|2,231|489|309|3|12,370|\\n\\n# The changes in the carrying value of property, plant and equipment for the three months ended March 31, 2023 were as follows:\\n\\n|Particulars|Land - Freehold|Buildings (1)|Plant and machinery|Office Equipment|Computer equipment|Furniture and fixtures|Leasehold Improvements|Vehicles|Total|\\n|---|---|---|---|---|---|---|---|---|---|\\n|Gross carrying value as at January 1, 2023|1,431|11,530|3,368|1,466|8,895|2,450|1,353|44|30,537|\\n|Additions|2|29|109|55|494|162|103|1|955|\\n|Deletions*|(2)|—|(175)|(40)|(877)|(311)|(13)|—|(1,418)|\\n|Translation difference|—|3|—|1|7|2|2|—|15|\\n|Gross carrying value as at March 31, 2023|1,431|11,562|3,302|1,482|8,519|2,303|1,445|45|30,089|\\n|Accumulated depreciation as at January 1, 2023|—|(4,425)|(2,547)|(1,206)|(6,339)|(1,922)|(992)|(39)|(17,470)|\\n|Depreciation|—|(109)|(65)|(31)|(354)|(62)|(48)|(1)|(670)|\\n|Accumulated depreciation on deletions*|—|—|175|40|871|310|9|—|1,405|\\n|Translation difference|—|(1)|—|(1)|(4)|(1)|(1)|—|(8)|\\n|Accumulated depreciation as at March 31, 2023|—|(4,535)|(2,437)|(1,198)|(5,826)|(1,675)|(1,032)|(40)|(16,743)|\\n|Carrying value as at January 1, 2023|1,431|7,105|821|260|2,556|528|361|5|13,067|\\n|Carrying value as at March 31, 2023|1,431|7,027|865|284|2,693|628|413|5|13,346|', path=None, url=None, mimetype=None), image_resource=None, audio_resource=None, video_resource=None, text_template='{metadata_str}\\n\\n{content}'),\n",
              " Document(id_='b58ca150-b43b-4f62-81ab-698e95771a51', embedding=None, metadata={}, excluded_embed_metadata_keys=[], excluded_llm_metadata_keys=[], relationships={}, metadata_template='{key}: {value}', metadata_separator='\\n', text_resource=MediaResource(embeddings=None, data=None, text='# The changes in the carrying value of property, plant and equipment for the year ended March 31, 2024 are as follows:\\n\\n|Particulars|Land - Freehold|Buildings|Plant and machinery|Office Equipment|Computer Furniture and fixtures|Leasehold Improvements|Vehicles|Total|\\n|---|---|---|---|---|---|---|---|---|\\n|Gross carrying value as at April 1, 2023|1,431|11,562|3,302|1,482|8,519|2,303|1,445|30,089|\\n|Additions|1|300|193|106|931|121|108|1,761|\\n|Deletions**|—|(55)|(64)|(60)|(846)|(99)|(102)|(1,227)|\\n|Translation difference|—|(37)|(3)|—|7|1|(4)|(36)|\\n|Gross carrying value as at March 31, 2024|1,432|11,770|3,428|1,528|8,611|2,326|1,447|30,587|\\n|Accumulated depreciation as at April 1, 2023|—|(4,535)|(2,437)|(1,198)|(5,826)|(1,675)|(1,032)|(16,743)|\\n|Depreciation|—|(450)|(259)|(130)|(1,387)|(250)|(206)|(2,685)|\\n|Accumulated depreciation on deletions**|—|55|64|59|836|89|97|1,201|\\n|Translation difference|—|9|2|—|(3)|(1)|3|10|\\n|Accumulated depreciation as at March 31, 2024|—|(4,921)|(2,630)|(1,269)|(6,380)|(1,837)|(1,138)|(18,217)|\\n|Carrying value as at April 1, 2023|1,431|7,027|865|284|2,693|628|413|13,346|\\n|Carrying value as at March 31, 2024|1,432|6,849|798|259|2,231|489|309|12,370|\\n\\n** During the three months and year ended March 31, 2024, certain assets which were not in use having gross book value of ₹181 crore (net book value: Nil) and ₹775 crore (net book value: Nil), respectively were retired.\\n\\n# The changes in the carrying value of property, plant and equipment for the year ended March 31, 2023 are as follows:\\n\\n|Particulars|Land - Freehold|Buildings|Plant and machinery|Office Equipment|Computer Furniture and fixtures|Leasehold Improvements|Vehicles|Total|\\n|---|---|---|---|---|---|---|---|---|\\n|Gross carrying value as at April 1, 2022|1,431|11,224|3,210|1,427|8,527|2,278|1,234|29,375|\\n|Additions - Business Combination (Refer to Note 2.1)|—|—|—|5|6|1|2|14|\\n|Additions|2|337|273|122|1,510|364|220|2,830|\\n|Deletions*|(2)|—|(182)|(76)|(1,563)|(348)|(25)|(2,197)|\\n|Translation difference|—|1|1|4|39|8|14|67|\\n|Gross carrying value as at March 31, 2023|1,431|11,562|3,302|1,482|8,519|2,303|1,445|30,089|\\n|Accumulated depreciation as at April 1, 2022|—|(4,100)|(2,344)|(1,150)|(6,034)|(1,779)|(856)|(16,300)|\\n|Depreciation|—|(434)|(273)|(121)|(1,322)|(236)|(187)|(2,577)|\\n|Accumulated depreciation on deletions*|—|—|181|76|1,556|347|21|2,182|\\n|Translation difference|—|(1)|(1)|(3)|(26)|(7)|(10)|(48)|\\n|Accumulated depreciation as at March 31, 2023|—|(4,535)|(2,437)|(1,198)|(5,826)|(1,675)|(1,032)|(16,743)|\\n|Carrying value as at April 1, 2022|1,431|7,124|866|277|2,493|499|378|13,075|\\n|Carrying value as at March 31, 2023|1,431|7,027|865|284|2,693|628|413|13,346|\\n\\n* During the three months and year ended March 31, 2023, certain assets which were old and not in use having gross book value of ₹1,414 crore (net book value: Nil) and ₹1,918 crore (net book value: Nil), respectively were retired.\\n\\n(1) Buildings include ₹250/- being the value of five shares of ₹50/- each in Mittal Towers Premises Co-operative Society Limited.\\n\\nThe aggregate depreciation has been included under depreciation and amortization expense in the interim condensed Consolidated Statement of Profit and Loss.\\n\\nRepairs and maintenance costs are recognized in the Consolidated Statement of Profit and Loss when incurred.\\n\\nConsequent to the Companies (Corporate Social Responsibility Policy) Amendment Rules, 2021 (“the Rules”), the Company was required to transfer its CSR capital assets installed prior to January 2021. Towards this the Company had incorporated a subsidiary ‘Infosys Green Forum’ (IGF) under Section 8 of the Companies Act, 2013. During the year ended March 31, 2022 the Company had completed the transfer of assets upon obtaining the required approvals from regulatory authorities, as applicable. During March 31, 2024, the application filed by IGF for registration u/s.12AB of the Income Tax Act was rejected and registration cancelled. IGF is in the process of challenging the rejection order.', path=None, url=None, mimetype=None), image_resource=None, audio_resource=None, video_resource=None, text_template='{metadata_str}\\n\\n{content}'),\n",
              " Document(id_='3c8cd867-3086-4667-bf1b-0f3b63e131d8', embedding=None, metadata={}, excluded_embed_metadata_keys=[], excluded_llm_metadata_keys=[], relationships={}, metadata_template='{key}: {value}', metadata_separator='\\n', text_resource=MediaResource(embeddings=None, data=None, text=\"# 2.3 GOODWILL AND OTHER INTANGIBLE ASSETS\\n\\n# 2.3.1 Goodwill\\n\\n# Accounting policy\\n\\nGoodwill represents the purchase consideration in excess of the Group's interest in the net fair value of identifiable assets, liabilities and contingent liabilities of the acquired entity. When the net fair value of the identifiable assets, liabilities and contingent liabilities acquired exceeds purchase consideration, the fair value of net assets acquired is reassessed and the bargain purchase gain is recognized in capital reserve. Goodwill is measured at cost less accumulated impairment losses.\\n\\n# Impairment\\n\\nGoodwill is tested for impairment on an annual basis and whenever there is an indication that the recoverable amount of a cash generating unit (CGU) is less than its carrying amount. For the impairment test, goodwill is allocated to the CGU or groups of CGUs which benefit from the synergies of the acquisition and which represents the lowest level at which goodwill is monitored for internal management purposes. A CGU is the smallest identifiable group of assets that generates cash inflows that are largely independent of the cash inflows from other assets or group of assets. Impairment occurs when the carrying amount of a CGU including the goodwill, exceeds the estimated recoverable amount of the CGU. The recoverable amount of a CGU is the higher of its fair value less cost to sell and its value-in-use. Value-in-use is the present value of future cash flows expected to be derived from the CGU. Key assumptions in the cash flow projections are prepared based on current economic conditions and includes estimated long term growth rates, weighted average cost of capital and estimated operating margins.\\n\\n# Following is a summary of changes in the carrying amount of goodwill:\\n\\n|Particulars|As at March 31, 2024|March 31, 2023|\\n|---|---|---|\\n|Carrying value at the beginning|7,248|6,195|\\n|Goodwill on acquisitions (Refer to note 2.1)|—|630|\\n|Translation differences|55|423|\\n|Carrying value at the end|7,303|7,248|\\n\\nFor the purpose of impairment testing, goodwill acquired in a business combination is allocated to the CGU or groups of CGUs, which benefit from the synergies of the acquisition.\\n\\n# 2.3.2 Intangible Assets\\n\\n# Accounting policy\\n\\nIntangible assets are stated at cost less accumulated amortization and impairment. Intangible assets are amortized over their respective individual estimated useful lives on a straight-line basis, from the date that they are available for use. The estimated useful life of an identifiable intangible asset is based on a number of factors including the effects of obsolescence, demand, competition, and other economic factors (such as the stability of the industry, and known technological advances) and the level of maintenance expenditures required to obtain the expected future cash flows from the asset. Amortization methods and useful lives are reviewed periodically including at each financial year end.\\n\\nResearch costs are expensed as incurred. Software product development costs are expensed as incurred unless technical and commercial feasibility of the project is demonstrated, future economic benefits are probable, the Group has an intention and ability to complete and use or sell the software and the costs can be measured reliably. The costs which can be capitalized include the cost of material, direct labor, overhead costs that are directly attributable to prepare the asset for its intended use.\\n\\n# Impairment\\n\\nIntangible assets are evaluated for recoverability whenever events or changes in circumstances indicate that their carrying amounts may not be recoverable. For the purpose of impairment testing, the recoverable amount (i.e. the higher of the fair value less cost to sell and the value-in-use) is determined on an individual asset basis unless the asset does not generate cash flows that are largely independent of those from other assets. In such cases, the recoverable amount is determined for the CGU to which the asset belongs.\\n\\nIf such assets are considered to be impaired, the impairment to be recognized in the Consolidated Statement of Profit and Loss is measured by the amount by which the carrying value of the assets exceeds the estimated recoverable amount of the asset. An impairment loss is reversed in the Consolidated Statement of Profit and Loss if there has been a change in the estimates used to determine the recoverable amount. The carrying amount of the asset is increased to its revised recoverable amount, provided that this amount does not exceed the carrying amount that would have been determined (net of any accumulated amortization) had no impairment loss been recognized for the asset in prior years.\", path=None, url=None, mimetype=None), image_resource=None, audio_resource=None, video_resource=None, text_template='{metadata_str}\\n\\n{content}'),\n",
              " Document(id_='e16b9ee0-956b-4561-8214-d120438ce520', embedding=None, metadata={}, excluded_embed_metadata_keys=[], excluded_llm_metadata_keys=[], relationships={}, metadata_template='{key}: {value}', metadata_separator='\\n', text_resource=MediaResource(embeddings=None, data=None, text='# 2.4 INVESTMENTS\\n\\n|Particulars|As at March 31, 2024|As at March 31, 2023|\\n|---|---|---|\\n|Non-current Investments| | |\\n|Unquoted| | |\\n|Investments carried at fair value through other comprehensive income| | |\\n|Preference securities|91|193|\\n|Equity securities|2|3|\\n| |93|196|\\n|Investments carried at fair value through profit or loss| | |\\n|Target maturity fund units|431|402|\\n|Others (1)|198|169|\\n| |629|571|\\n|Quoted| | |\\n|Investments carried at amortized cost| | |\\n|Government bonds|28|28|\\n|Tax free bonds|1,731|1,742|\\n| |1,759|1,770|\\n|Investments carried at fair value through other comprehensive income| | |\\n|Non convertible debentures|2,217|2,713|\\n|Equity securities|113|—|\\n|Government securities|6,897|7,319|\\n| |9,227|10,032|\\n|Total non-current investments|11,708|12,569|\\n|Current Investments| | |\\n|Unquoted| | |\\n|Investments carried at fair value through profit or loss| | |\\n|Liquid mutual fund units|2,615|975|\\n| |2,615|975|\\n|Investments carried at fair value through other comprehensive income| | |\\n|Commercial Papers|4,830|742|\\n|Certificates of deposit|3,043|3,574|\\n| |7,873|4,316|\\n|Quoted| | |\\n|Investments carried at amortized cost| | |\\n|Tax free bonds|—|150|\\n| |—|150|\\n|Investments carried at fair value through other comprehensive income| | |\\n|Non convertible debentures|1,962|1,155|\\n|Government securities|465|313|\\n| |2,427|1,468|\\n|Total current investments|12,915|6,909|\\n|Total investments|24,623|19,478|\\n|Aggregate amount of quoted investments|13,413|13,420|\\n|Market value of quoted investments (including interest accrued), current|2,428|1,637|\\n|Market value of quoted investments (including interest accrued), non current|11,201|12,042|\\n|Aggregate amount of unquoted investments|11,210|6,058|\\n|Investments carried at amortized cost|1,759|1,920|\\n|Investments carried at fair value through other comprehensive income|19,620|16,012|\\n|Investments carried at fair value through profit or loss|3,244|1,546|\\n|(1) Uncalled capital commitments outstanding as at March 31, 2024 and March 31, 2023 was ₹79 crore and ₹92 crore, respectively.| | |\\n\\n# Method of fair valuation:\\n\\n|Class of investment|Method|Fair value as at March 31, 2024|Fair value as at March 31, 2023|\\n|---|---|---|---|\\n|Liquid mutual fund units - carried at fair value through profit or loss|Quoted price|2,615|975|\\n|Target maturity fund units - carried at fair value through profit or loss|Quoted price|431|402|\\n|Tax free bonds and government bonds - carried at amortized cost|Quoted price and market observable inputs|1,973|2,148|\\n|Non-convertible debentures - carried at fair value through other comprehensive income|Quoted price and market observable inputs|4,179|3,868|\\n|Government securities - carried at fair value through other comprehensive income|Quoted price and market observable inputs|7,362|7,632|\\n|Commercial Papers - carried at fair value through other comprehensive income|Market observable inputs|4,830|742|\\n|Certificates of deposit - carried at fair value through other comprehensive income|Market observable inputs|3,043|3,574|\\n|Quoted Equity securities - carried at fair value through other comprehensive income|Quoted price|113|—|\\n|Unquoted equity and preference securities - carried at fair value through other comprehensive income|Discounted cash flows method, Market multiples method, Option pricing model|93|196|\\n|Others - carried at fair value through profit or loss|Discounted cash flows method, Market multiples method, Option pricing model|198|169|\\n|Total| |24,837|19,706|\\n\\nNote: Certain quoted investments are classified as Level 2 in the absence of active market for such investments.', path=None, url=None, mimetype=None), image_resource=None, audio_resource=None, video_resource=None, text_template='{metadata_str}\\n\\n{content}'),\n",
              " Document(id_='2ccbaf61-3df8-4b5b-b6f6-4017352d237e', embedding=None, metadata={}, excluded_embed_metadata_keys=[], excluded_llm_metadata_keys=[], relationships={}, metadata_template='{key}: {value}', metadata_separator='\\n', text_resource=MediaResource(embeddings=None, data=None, text='# 2.5 LOANS\\n\\n|Particulars|As at March 31, 2024|As at March 31, 2023|\\n|---|---|---|\\n|Non Current| | |\\n|Loans considered good - Unsecured| | |\\n|Other loans|34|39|\\n|Loans credit impaired - Unsecured| | |\\n|Other loans|2|2|\\n|Less: Allowance for credit impairment|(2)|(2)|\\n|Total non-current loans|34|39|\\n|Current| | |\\n|Loans considered good - Unsecured| | |\\n|Other loans|248|289|\\n|Total current loans|248|289|\\n|Total loans|282|328|\\n\\n# 2.6 OTHER FINANCIAL ASSETS\\n\\n|Particulars|As at March 31, 2024|As at March 31, 2023|\\n|---|---|---|\\n|Non Current| | |\\n|Security deposits (1)|259|287|\\n|Unbilled revenues (1)#|1,677|1,185|\\n|Net investment in sublease of right-of-use asset (1)|3|305|\\n|Restricted deposits (1)*|47|96|\\n|Others (1)|1,119|925|\\n|Total non-current other financial assets|3,105|2,798|\\n|Current| | |\\n|Security deposits (1)|75|42|\\n|Restricted deposits (1)*|2,535|2,348|\\n|Unbilled revenues (1)#|7,923|8,317|\\n|Interest accrued but not due (1)|537|488|\\n|Foreign currency forward and options contracts (2) (3)|84|101|\\n|Net investment in sublease of right of-use-asset (1)|6|53|\\n|Others (1)**|925|255|\\n|Total current other financial assets|12,085|11,604|\\n|Total other financial assets|15,190|14,402|\\n|(1) Financial assets carried at amortized cost|15,106|14,301|\\n|(2) Financial assets carried at fair value through other comprehensive income|23|32|\\n|(3) Financial assets carried at fair value through profit or loss|61|69|\\n\\n* Restricted deposits represent deposits with financial institutions to settle employee related obligations as and when they arise during the normal course of business.\\n\\n# Classified as financial asset as right to consideration is unconditional and is due only after a passage of time.\\n\\n** Primarily includes net investment in lease\\n\\n# 2.7 TRADE RECEIVABLES\\n\\n|Particulars|As at March 31, 2024|As at March 31, 2023|\\n|---|---|---|\\n|Current| | |\\n|Trade Receivable considered good - Unsecured|30,713|25,965|\\n|Less: Allowance for expected credit loss|520|541|\\n|Trade Receivable considered good - Unsecured|30,193|25,424|\\n|Trade Receivable - credit impaired - Unsecured|196|142|\\n|Less: Allowance for credit impairment|196|142|\\n|Trade Receivable - credit impaired - Unsecured|—|—|\\n|Total trade receivables|30,193|25,424|', path=None, url=None, mimetype=None), image_resource=None, audio_resource=None, video_resource=None, text_template='{metadata_str}\\n\\n{content}'),\n",
              " Document(id_='49d3961e-4d2e-4013-9caf-c55175daf8ee', embedding=None, metadata={}, excluded_embed_metadata_keys=[], excluded_llm_metadata_keys=[], relationships={}, metadata_template='{key}: {value}', metadata_separator='\\n', text_resource=MediaResource(embeddings=None, data=None, text='# 2.8 CASH AND CASH EQUIVALENTS\\n\\n|Particulars|As at March 31, 2024|As at March 31, 2023|\\n|---|---|---|\\n|Balances with banks| | |\\n|In current and deposit accounts|14,786|10,026|\\n|Cash on hand|—|—|\\n|Others| | |\\n|Deposits with financial institutions|—|2,147|\\n|Total cash and cash equivalents|14,786|12,173|\\n|Balances with banks in unpaid dividend accounts|37|37|\\n|Deposit with more than 12 months maturity|57|833|\\n\\nCash and cash equivalents as at March 31, 2024 and March 31, 2023 include restricted cash and bank balances of ₹348 crore and ₹362 crore respectively. The restrictions are primarily on account of bank balances held by irrevocable trusts controlled by the company.\\n\\nThe deposits maintained by the Group with banks and financial institutions comprise of time deposits, which can be withdrawn by the Group at any point without prior notice or penalty on the principal.\\n\\n# 2.9 OTHER ASSETS\\n\\n|Particulars|As at March 31, 2024|As at March 31, 2023|\\n|---|---|---|\\n|Non-current| | |\\n|Capital advances|155|159|\\n|Advances other than capital advances| | |\\n|Others| | |\\n|Withholding taxes and others|673|684|\\n|Unbilled revenues #|103|264|\\n|Defined benefit plan assets|31|36|\\n|Prepaid expenses|343|332|\\n|Deferred Contract Cost| | |\\n|Cost of obtaining a contract *|129|191|\\n|Cost of fulfillment|687|652|\\n|Other receivables|—|—|\\n|Total non-current other assets|2,121|2,318|\\n\\n|Particulars|As at March 31, 2024|As at March 31, 2023|\\n|---|---|---|\\n|Current| | |\\n|Advances other than capital advances| | |\\n|Payment to vendors for supply of goods|356|202|\\n|Others| | |\\n|Unbilled revenues #|4,845|6,972|\\n|Withholding taxes and others|3,540|3,268|\\n|Prepaid expenses|3,329|2,745|\\n|Deferred Contract Cost| | |\\n|Cost of obtaining a contract *|200|853|\\n|Cost of fulfillment|358|175|\\n|Other receivables|180|261|\\n|Total current other assets|12,808|14,476|\\n\\nTotal other assets\\n\\n14,929\\n\\n16,794\\n\\n# Classified as non financial asset as the contractual right to consideration is dependent on completion of contractual milestones.\\n\\n* Includes technology assets taken over by the Group from a customer as a part of transformation project which is not considered as distinct goods or services and the control related to the assets is not transferred to the Group in accordance with Ind AS 115 - Revenue from contract with customers. Accordingly, the same has been considered as a reduction to the total contract value and accounted as Deferred contract cost. The Group has entered into financing arrangements with a third party for these assets. As at March 31, 2024 and March 31, 2023, the financial liability pertaining to such arrangements amounts to ₹372 crore and ₹731 crore, respectively. For the year ended March 31, 2023 ₹118 crore was settled directly by the third party to the customer on behalf of the Group and accordingly considered as non-cash transaction (Refer to note 2.13)\\n\\nWithholding taxes and others primarily consist of input tax credits and Cenvat/VAT recoverable from Government of India.', path=None, url=None, mimetype=None), image_resource=None, audio_resource=None, video_resource=None, text_template='{metadata_str}\\n\\n{content}'),\n",
              " Document(id_='4762b026-8ad5-4efe-9c7c-bfe6377eeffc', embedding=None, metadata={}, excluded_embed_metadata_keys=[], excluded_llm_metadata_keys=[], relationships={}, metadata_template='{key}: {value}', metadata_separator='\\n', text_resource=MediaResource(embeddings=None, data=None, text=\"# 2.10 FINANCIAL INSTRUMENTS\\n\\n# X10AO\\n\\n# Accounting policy\\n\\n# 2.10.1 Initial recognition\\n\\nThe Group recognizes financial assets and financial liabilities when it becomes a party to the contractual provisions of the instrument. All financial assets and liabilities are recognized at fair value on initial recognition, except for trade receivables which are initially measured at transaction price. Transaction costs that are directly attributable to the acquisition or issue of financial assets and financial liabilities, which are not at fair value through profit or loss, are added to the fair value on initial recognition. Regular way purchase and sale of financial assets are accounted for at trade date.\\n\\n# 2.10.2 Subsequent measurement\\n\\n# a. Non-derivative financial instruments\\n\\n# (i) Financial assets carried at amortized cost\\n\\nA financial asset is subsequently measured at amortized cost if it is held within a business model whose objective is to hold the asset in order to collect contractual cash flows and the contractual terms of the financial asset give rise on specified dates to cash flows that are solely payments of principal and interest on the principal amount outstanding.\\n\\n# (ii) Financial assets carried at fair value through other comprehensive income (FVOCI)\\n\\nA financial asset is subsequently measured at fair value through other comprehensive income if it is held within a business model whose objective is achieved by both collecting contractual cash flows and selling financial assets and the contractual terms of the financial asset give rise on specified dates to cash flows that are solely payments of principal and interest on the principal amount outstanding. The Group has made an irrevocable election for its investments which are classified as equity instruments to present the subsequent changes in fair value in other comprehensive income based on its business model.\\n\\n# (iii) Financial assets carried at fair value through profit or loss (FVTPL)\\n\\nA financial asset which is not classified in any of the above categories is subsequently fair valued through profit or loss.\\n\\n# (iv) Financial liabilities\\n\\nFinancial liabilities are subsequently carried at amortized cost using the effective interest method, except for contingent consideration and financial liability under option arrangements recognized in a business combination which is subsequently measured at fair value through profit or loss.\\n\\n# b. Derivative financial instruments\\n\\nThe Group holds derivative financial instruments such as foreign exchange forward and option contracts to mitigate the risk of changes in exchange rates on foreign currency exposures. The counterparty for such contracts is generally a bank.\\n\\n# (i) Financial assets or financial liabilities, carried at fair value through profit or loss.\\n\\nThis category includes derivative financial assets or liabilities which are not designated as hedges.\\n\\nAlthough the Group believes that these derivatives constitute hedges from an economic perspective, they may not qualify for hedge accounting under Ind AS 109, Financial Instruments. Any derivative that is either not designated as hedge, or is so designated but is ineffective as per Ind AS 109, is categorized as a financial asset or financial liability, at fair value through profit or loss.\\n\\nDerivatives not designated as hedges are recognized initially at fair value and attributable transaction costs are recognized in net profit in the Consolidated Statement of Profit and Loss when incurred. Subsequent to initial recognition, these derivatives are measured at fair value through profit or loss and the resulting exchange gains or losses are included in other income. Assets/ liabilities in this category are presented as current assets/current liabilities if they are either held for trading or are expected to be realized within 12 months after the Balance Sheet date.\\n\\n# (ii) Cash flow hedge\\n\\nThe Group designates certain foreign exchange forward and options contracts as cash flow hedges to mitigate the risk of foreign exchange exposure on highly probable forecast cash transactions.\\n\\nWhen a derivative is designated as a cash flow hedging instrument, the effective portion of changes in the fair value of the derivative is recognized in other comprehensive income and accumulated in the cash flow hedging reserve. Any ineffective portion of changes in the fair value of the derivative is recognized immediately in the net profit in the Consolidated Statement of Profit and Loss. If the hedging instrument no longer meets the criteria for hedge accounting, then hedge accounting is discontinued prospectively. If the hedging instrument expires or is sold, terminated or exercised, the cumulative gain or loss on the hedging instrument recognized in cash flow hedging reserve till the period the hedge was effective remains in cash flow hedging reserve until the forecasted transaction occurs. The cumulative gain or loss previously recognized in the cash flow hedging reserve is transferred to the net profit in the Consolidated Statement of Profit and Loss upon the occurrence of the related forecasted transaction. If the forecasted transaction is no longer expected to occur, then the amount accumulated in cash flow hedging reserve is reclassified to net profit in the Consolidated Statement of Profit and Loss.\\n\\n# 2.10.3 Derecognition of financial instruments\\n\\nThe Group derecognizes a financial asset when the contractual rights to the cash flows from the financial asset expire or it transfers the financial asset and the transfer qualifies for derecognition under Ind AS 109. A financial liability (or a part of a financial liability) is derecognized from the Group's Balance Sheet when the obligation specified in the contract is discharged or cancelled or expires.\", path=None, url=None, mimetype=None), image_resource=None, audio_resource=None, video_resource=None, text_template='{metadata_str}\\n\\n{content}'),\n",
              " Document(id_='a7315bc5-ef23-41c4-9b44-b4a8769a31f5', embedding=None, metadata={}, excluded_embed_metadata_keys=[], excluded_llm_metadata_keys=[], relationships={}, metadata_template='{key}: {value}', metadata_separator='\\n', text_resource=MediaResource(embeddings=None, data=None, text=\"# 2.10.4 Fair value of financial instruments\\n\\nIn determining the fair value of its financial instruments, the Group uses a variety of methods and assumptions that are based on market conditions and risks existing at each reporting date. The methods used to determine fair value include discounted cash flow analysis, option pricing model, market multiples, available quoted market prices and dealer quotes. All methods of assessing fair value result in general approximation of value, and such value may never actually be realized.\\n\\nRefer to table 'Financial instruments by category' below for the disclosure on carrying value and fair value of financial assets and liabilities. For financial assets and liabilities maturing within one year from the Balance Sheet date and which are not carried at fair value, the carrying amounts approximates fair value due to the short maturity of these instruments.\\n\\n# 2.10.5 Impairment\\n\\nThe Group recognizes loss allowances using the expected credit loss (ECL) model for the financial assets and unbilled revenue which are not fair valued through profit or loss. Loss allowance for trade receivables and unbilled revenues with no significant financing component is measured at an amount equal to lifetime ECL. For all other financial assets, ECLs are measured at an amount equal to the 12-month ECL, unless there has been a significant increase in credit risk from initial recognition in which case those are measured at lifetime ECL.\\n\\nThe Group determines the allowance for credit losses based on historical loss experience adjusted to reflect current and estimated future economic conditions. The Group considers current and anticipated future economic conditions relating to industries the Group deals with and the countries where it operates.\\n\\nThe amount of ECL (or reversal) that is required to adjust the loss allowance at the reporting date to the amount that is required to be recorded is recognized as an impairment loss or gain in Consolidated Statement of Profit and Loss.\\n\\n# Financial instruments by category\\n\\nThe carrying value and fair value of financial instruments by categories as at March 31, 2024 are as follows:\\n\\n|Particulars|Amortized cost|Financial assets/ liabilities at fair value through profit or loss|Financial assets/liabilities at fair value through OCI|Total carrying value|Total fair value|\\n|---|---|---|---|---|---|\\n|Assets:| | | | | |\\n|Cash and cash equivalents (Refer to Note 2.8)|14,786|—|—|—|14,786|\\n|Investments (Refer to Note 2.4)| | | | | |\\n|Equity and preference securities|—|—|—|206|206|\\n|Tax free bonds and government bonds|1,759|—|—|1,759|1,973 (1)|\\n|Liquid mutual fund units|—|—|2,615|—|2,615|\\n|Target maturity fund units|—|—|431|—|431|\\n|Non convertible debentures|—|—|—|4,179|4,179|\\n|Government securities|—|—|—|7,362|7,362|\\n|Commercial papers|—|—|—|4,830|4,830|\\n|Certificates of deposit|—|—|—|3,043|3,043|\\n|Other investments|—|—|198|—|198|\\n|Trade receivables (Refer to Note 2.7)|30,193|—|—|30,193|30,193|\\n|Loans (Refer to Note 2.5)|282|—|—|282|282|\\n|Other financials assets (Refer to Note 2.6) (3)|15,106|—|61|—|15,190|\\n|Total|62,126|—|3,305|19,437|85,074|\\n|Liabilities:| | | | | |\\n|Trade payables|3,956|—|—|3,956|3,956|\\n|Lease liabilities (Refer to Note 2.19)|8,359|—|—|8,359|8,359|\\n|Financial Liability under option arrangements (Refer to Note 2.12)|—|—|597|—|597|\\n|Other financial liabilities (Refer to Note 2.12)|15,750|—|30|15,781|15,781|\\n|Total|28,065|—|627|28,693|28,693|\\n\\n(1) On account of fair value changes including interest accrued\\n\\n(2) Excludes interest accrued on tax free bonds and government bonds carried at amortized cost of ₹84 crore\\n\\n(3) Excludes unbilled revenue on contracts where the right to consideration is dependent on completion of contractual milestones\", path=None, url=None, mimetype=None), image_resource=None, audio_resource=None, video_resource=None, text_template='{metadata_str}\\n\\n{content}'),\n",
              " Document(id_='48f8fd9e-a854-4fd1-b713-c70c03d5c1d5', embedding=None, metadata={}, excluded_embed_metadata_keys=[], excluded_llm_metadata_keys=[], relationships={}, metadata_template='{key}: {value}', metadata_separator='\\n', text_resource=MediaResource(embeddings=None, data=None, text='# The carrying value and fair value of financial instruments by categories as at March 31, 2023 were as follows:\\n\\n|Particulars|Amortized cost|Financial assets/ liabilities at fair value through profit or loss|Financial assets/liabilities at fair value through OCI|Total carrying value|Total fair value|\\n|---|---|---|---|---|---|\\n|Assets:| | | | | |\\n|Cash and cash equivalents (Refer to Note 2.8)|12,173|—|—|—|12,173|\\n|Investments (Refer to Note 2.4)| | | | | |\\n|Equity and preference securities|—|—|—|196|196|\\n|Tax free bonds and government bonds|1,920|—|—|2,148|2,148|\\n|Liquid mutual fund units|—|—|975|975|975|\\n|Target maturity fund units|—|—|402|402|402|\\n|Non convertible debentures|—|—|—|3,868|3,868|\\n|Government securities|—|—|—|7,632|7,632|\\n|Commercial papers|—|—|—|742|742|\\n|Certificates of deposit|—|—|—|3,574|3,574|\\n|Other investments|—|—|169|169|169|\\n|Trade receivables (Refer to Note 2.7)|25,424|—|—|25,424|25,424|\\n|Loans (Refer to Note 2.5)|328|—|—|328|328|\\n|Other financials assets (Refer to Note 2.6) (3)|14,301|—|69|14,402|14,318|\\n|Total|54,146|—|1,615|71,805|71,949|\\n|Liabilities:| | | | | |\\n|Trade payables|3,865|—|—|3,865|3,865|\\n|Lease liabilities (Refer to Note 2.19)|8,299|—|—|8,299|8,299|\\n|Financial Liability under option arrangements (Refer to Note 2.12)|—|—|600|600|600|\\n|Other financial liabilities (Refer to Note 2.12)|17,359|—|161|17,534|17,534|\\n|Total|29,523|—|761|30,298|30,298|\\n\\n(1) On account of fair value changes including interest accrued\\n\\n(2) Excludes interest accrued on tax free bonds and government bonds carried at amortized cost of ₹84 crore\\n\\n(3) Excludes unbilled revenue on contracts where the right to consideration is dependent on completion of contractual milestones\\n\\nFor trade receivables, trade payables, other assets and payables maturing within one year from the Balance Sheet date, the carrying amounts approximate the fair value due to the short maturity of these instruments.\\n\\n# Fair value hierarchy\\n\\nLevel 1 - Quoted prices (unadjusted) in active markets for identical assets or liabilities.\\n\\nLevel 2 - Inputs other than quoted prices included within Level 1 that are observable for the asset or liability, either directly (i.e. as prices) or indirectly (i.e. derived from prices).\\n\\nLevel 3 - Inputs for the assets or liabilities that are not based on observable market data (unobservable inputs).\\n\\n# The fair value hierarchy of assets and liabilities measured at fair value on a recurring basis as at March 31, 2024 is as follows:\\n\\n|Particulars|As at March 31, 2024|Fair value measurement at end of the reporting period using| | | | | | | |\\n|---|---|---|---|---|---|---|---|---|---|\\n| | | | | |Level 1|Level 2|Level 3| | |\\n|Assets| | | | | | | | | |\\n|Investments (Refer to note 2.4)| | | | | | | | | |\\n|Investments in liquid mutual funds| | | |2,615|2,615|—|—| | |\\n|Investments in target maturity fund units| | | |431|431|—|—| | |\\n|Investments in tax free bonds| | | |1,944|1,944|—|—| | |\\n|Investments in government bonds| | | |29|29|—|—| | |\\n|Investments in non convertible debentures| | | |4,179|3,922|257|—| | |\\n|Investment in government securities| | | |7,362|7,289|73|—| | |\\n|Investments in equity securities| | | |115|—|—|115| | |\\n|Investments in preference securities| | | |91|—|—|91| | |\\n|Investments in commercial papers| | | |4,830|—|4,830|—| | |\\n|Investments in certificates of deposit| | | |3,043|—|3,043|—| | |\\n|Other investments| | | |198|—|—|198| | |\\n|Others| | | | | | | | | |\\n|Derivative financial instruments - gain on outstanding foreign exchange forward and option contracts (Refer to Note 2.6)| | | | |84|—|84|—| |\\n|Liabilities| | | | | | | | | |\\n|Derivative financial instruments - loss on outstanding foreign exchange forward and option contracts (Refer to Note 2.12)| | | | | |31|—|31|—|\\n|Financial liability under option arrangements (Refer to Note 2.12) (1)| | | |597|—|—|597| | |\\n\\n(1) Discount rate ranges from 9% to 15%', path=None, url=None, mimetype=None), image_resource=None, audio_resource=None, video_resource=None, text_template='{metadata_str}\\n\\n{content}'),\n",
              " Document(id_='bae4442c-e5fd-4f92-a07d-157ee4fd80c3', embedding=None, metadata={}, excluded_embed_metadata_keys=[], excluded_llm_metadata_keys=[], relationships={}, metadata_template='{key}: {value}', metadata_separator='\\n', text_resource=MediaResource(embeddings=None, data=None, text=\"During the year ended March 31, 2024, government securities, non convertible debentures and tax free bonds of ₹2,143 crore was transferred from Level 2 to Level 1 of fair value hierarchy, since these were valued based on quoted price. Further, government securities of ₹ 73 crore were transferred from Level 1 to Level 2 of fair value hierarchy, since these were valued based on market observable inputs.\\n\\n# The fair value hierarchy of assets and liabilities measured at fair value on a recurring basis as at March 31, 2023 was as follows:\\n\\n|Particulars|As at March 31, 2023|Fair value measurement at end of the reporting period using| | | | |\\n|---|---|---|---|---|---|---|\\n|Assets| | | | | | |\\n|Investments (Refer to note 2.4)| | | | | | |\\n|Investments in liquid mutual funds|975|Level 1: 975|Level 2: —|Level 3: —| | |\\n|Investments in target maturity fund units|402|Level 1: 402|Level 2: —|Level 3: —| | |\\n|Investments in tax free bonds|2,120|Level 1: 1,331|Level 2: 789|Level 3: —| | |\\n|Investments in government bonds|28|Level 1: 28|Level 2: —|Level 3: —| | |\\n|Investments in non convertible debentures|3,868|Level 1: 1,793|Level 2: 2,075|Level 3: —| | |\\n|Investment in government securities|7,632|Level 1: 7,549|Level 2: 83|Level 3: —| | |\\n|Investments in equity securities|3|Level 1: —|Level 2: —|Level 3: 3| | |\\n|Investments in preference securities|193|Level 1: —|Level 2: —|Level 3: 193| | |\\n|Investments in commercial papers|742|Level 1: —|Level 2: 742|Level 3: —| | |\\n|Investments in certificates of deposit|3,574|Level 1: —|Level 2: 3,574|Level 3: —| | |\\n|Other investments|169|Level 1: —|Level 2: —|Level 3: 169| | |\\n|Others| | | | | | |\\n|Derivative financial instruments - gain on outstanding foreign exchange forward and option contracts (Refer to Note 2.6)|101|Level 1: —|Level 2: 101|Level 3: —| | |\\n|Liabilities| | | | | | |\\n|Derivative financial instruments - loss on outstanding foreign exchange forward and option contracts (Refer to Note 2.12)| | |78|Level 1: —|Level 2: 78|Level 3: —|\\n|Financial liability under option arrangements (Refer to Note 2.12) (1)|600|Level 1: —|Level 2: —|Level 3: 600| | |\\n|Liability towards contingent consideration (Refer to Note 2.12) (1)|97|Level 1: —|Level 2: —|Level 3: 97| | |\\n\\n(1) Discount rate ranges from 10% to 15%\\n\\nDuring the year ended March 31, 2023, government securities and tax free bonds of ₹383 crore was transferred from Level 2 to Level 1 of fair value hierarchy, since these were valued based on quoted price. Further, non-convertible debentures of ₹1,611 crore were transferred from Level 1 to Level 2 of fair value hierarchy, since these were valued based on market observable inputs.\\n\\nA one percentage point change in the unobservable inputs used in fair valuation of Level 3 assets and liabilities does not have a significant impact in its value.\\n\\nMajority of investments of the Group are fair valued based on Level 1 or Level 2 inputs. These investments primarily include investment in liquid mutual fund units, target maturity fund units, tax free bonds, certificates of deposit, commercial papers, treasury bills, government securities, non-convertible debentures, quoted bonds issued by government and quasi-government organizations. The Group invests after considering counterparty risks based on multiple criteria including Tier I capital, Capital Adequacy Ratio, Credit Rating, Profitability, NPA levels and Deposit base of banks and financial institutions. These risks are monitored regularly as per Group's risk management program.\", path=None, url=None, mimetype=None), image_resource=None, audio_resource=None, video_resource=None, text_template='{metadata_str}\\n\\n{content}'),\n",
              " Document(id_='6b335f92-2161-442c-963a-989f4da61452', embedding=None, metadata={}, excluded_embed_metadata_keys=[], excluded_llm_metadata_keys=[], relationships={}, metadata_template='{key}: {value}', metadata_separator='\\n', text_resource=MediaResource(embeddings=None, data=None, text=\"# OA11X2.11 EQUITY\\n\\n# Accounting policy\\n\\n# Ordinary Shares\\n\\nOrdinary shares are classified as equity share capital. Incremental costs directly attributable to the issuance of new ordinary shares, share options and buyback are recognized as a deduction from equity, net of any tax effects.\\n\\n# Treasury Shares\\n\\nWhen any entity within the Group purchases the company's ordinary shares, the consideration paid including any directly attributable incremental cost is presented as a deduction from total equity, until they are cancelled, sold or reissued. When treasury shares are sold or reissued subsequently, the amount received is recognized as an increase in equity, and the resulting surplus or deficit on the transaction is transferred to / from securities premium.\\n\\n# Description of reserves\\n\\n# Capital Redemption Reserve\\n\\nIn accordance with section 69 of the Indian Companies Act, 2013, the Company creates capital redemption reserve equal to the nominal value of the shares bought back as an appropriation from general reserve / retained earnings.\\n\\n# Retained earnings\\n\\nRetained earnings represent the amount of accumulated earnings of the Group.\\n\\n# Securities premium\\n\\nThe amount received in excess of the par value of equity shares has been classified as securities premium. Amounts have been utilized for bonus issue and share buyback from share premium account.\\n\\n# Share options outstanding account\\n\\nThe share options outstanding account is used to record the fair value of equity-settled share based payment transactions with employees. The amounts recorded in share options outstanding account are transferred to securities premium upon exercise of stock options and transferred to general reserve on account of stock options not exercised by employees.\\n\\n# Special Economic Zone Re-investment reserve\\n\\nThe Special Economic Zone Re-investment reserve has been created out of the profit of the eligible SEZ unit in terms of the provisions of Sec 10AA (1)(ii) of Income Tax Act, 1961. The reserve should be utilized by the Company for acquiring new plant and machinery for the purpose of its business in terms of the provisions of the Sec 10AA (2) of the Income Tax Act, 1961.\\n\\n# Other components of equity\\n\\nOther components of equity include currency translation, remeasurement of net defined benefit liability / asset, equity instruments fair valued through other comprehensive income, changes on fair valuation of investments and changes in fair value of derivatives designated as cash flow hedges, net of taxes.\\n\\n# Currency translation reserve\\n\\nThe exchange differences arising from the translation of financial statements of foreign subsidiaries with functional currency other than Indian rupees is recognized in other comprehensive income and is presented within equity.\\n\\n# Cash flow hedge reserve\\n\\nWhen a derivative is designated as a cash flow hedging instrument, the effective portion of changes in the fair value of the derivative is recognized in other comprehensive income and accumulated in the cash flow hedging reserve. The cumulative gain or loss previously recognized in the cash flow hedging reserve is transferred to the interim condensed Consolidated Statement of Profit and Loss upon the occurrence of the related forecasted transaction.\\n\\n# EQUITY SHARE CAPITAL\\n\\n|Particulars|As at March 31, 2024|As at March 31, 2023| |\\n|---|---|---|---|\\n|Authorized|Equity shares, ₹5/- par value 4,80,00,00,000 (4,80,00,00,000) equity shares|2,400|2,400|\\n|Issued, Subscribed and Paid-Up|Equity shares, ₹5/- par value(1) 4,13,99,50,635 (4,13,63,87,925) equity shares fully paid-up(2)|2,071|2,069|\\n|Note: Forfeited shares amounted to ₹1,500 (₹1,500)|(1) Refer to Note 2.20 for details of basic and diluted shares| | |\\n| |(2) Net of treasury shares 1,09,16,829 (1,21,72,119)| | |\\n\\nThe Company has only one class of shares referred to as equity shares having a par value of ₹5/-. Each holder of equity shares is entitled to one vote per share. The equity shares represented by American Depositary Shares (ADS) carry similar rights to voting and dividends as the other equity shares. Each ADS represents one underlying equity share.\\n\\nIn the event of liquidation of the Company, the holders of equity shares will be entitled to receive any of the remaining assets of the Company in proportion to the number of equity shares held by the shareholders, after distribution of all preferential amounts. However, no such preferential amounts exist currently, other than the amounts held by irrevocable controlled trusts. For irrevocable controlled trusts, the corpus would be settled in favor of the beneficiaries.\\n\\nThere are no voting, dividend or liquidation rights to the holders of options issued under the company's share option plans.\\n\\nFor details of shares reserved for issue under the employee stock option plan of the Company refer to the note below.\", path=None, url=None, mimetype=None), image_resource=None, audio_resource=None, video_resource=None, text_template='{metadata_str}\\n\\n{content}'),\n",
              " Document(id_='91cf99a6-207c-4969-bfec-7585b1d7f696', embedding=None, metadata={}, excluded_embed_metadata_keys=[], excluded_llm_metadata_keys=[], relationships={}, metadata_template='{key}: {value}', metadata_separator='\\n', text_resource=MediaResource(embeddings=None, data=None, text=\"# The reconciliation of the number of shares outstanding and the amount of share capital as at March 31, 2024 and March 31, 2023 are as follows:\\n\\n|Particulars| |As at March 31, 2024|As at March 31, 2023| |\\n|---|---|---|---|---|\\n| |Number of shares|Amount|Number of shares|Amount|\\n|As at the beginning of the period|413,63,87,925|2,069|419,30,12,929|2,098|\\n|Add: Shares issued on exercise of employee stock options|35,62,710|2|38,01,344|1|\\n|Less: Shares bought back|—|—|6,04,26,348|30|\\n|As at the end of the period|413,99,50,635|2,071|413,63,87,925|2,069|\\n\\n# Capital allocation policy\\n\\nEffective from financial year 2025, the Company expects to continue the policy of returning approximately 85% of the free cash flow cumulatively over a 5-year period through a combination of semi-annual dividends and/or share buyback/ special dividends subject to applicable laws and requisite approvals, if any. Under this policy, the Company expects to progressively increase its annual dividend per share (excluding special dividend if any).\\n\\nFree cash flow is defined as net cash provided by operating activities less capital expenditure as per the consolidated statement of cash flows prepared under IFRS. Dividend and buyback include applicable taxes.\\n\\n# Buyback completed in February 2023\\n\\nIn line with the capital allocation policy, the Board, at its meeting held on October 13, 2022, approved the buyback of equity shares, from the open market route through the Indian stock exchanges, amounting to ₹9,300 crore (Maximum Buyback Size, excluding buyback tax) at a price not exceeding ₹1,850 per share (Maximum Buyback Price), subject to shareholders' approval by way of Postal Ballot.\\n\\nThe shareholders approved the proposal of buyback of Equity Shares recommended by its Board of Directors by way of e-voting on the postal ballot, the results of which were declared on December 3, 2022. The buyback was offered to all equity shareholders of the Company (other than the Promoters, the Promoter Group and Persons in Control of the Company) under the open market route through the stock exchange. The buyback of equity shares through the stock exchange commenced on December 7, 2022 and was completed on February 13, 2023. During this buyback period the Company had purchased and extinguished a total of 60,426,348 equity shares from the stock exchange at a volume weighted average buyback price of ₹1,539.06/- per equity share comprising 1.44% of the pre buyback paid-up equity share capital of the Company. The buyback resulted in a cash outflow of ₹9,300 crore (excluding transaction costs and tax on buyback). The Company funded the buyback from its free reserves including Securities Premium as explained in Section 68 of the Companies Act, 2013.\\n\\nIn accordance with section 69 of the Companies Act, 2013, as at March 31, 2023, the Company has created ‘Capital Redemption Reserve’ of ₹30 crore equal to the nominal value of the shares bought back as an appropriation from general reserve and retained earnings.\\n\\nThe Company’s objective when managing capital is to safeguard its ability to continue as a going concern and to maintain an optimal capital structure so as to maximize shareholder value. In order to maintain or achieve an optimal capital structure, the Company may adjust the amount of dividend payment, return capital to shareholders, issue new shares or buy back issued shares. As of March 31, 2024, the Company has only one class of equity shares and has no debt. Consequent to the above capital structure there are no externally imposed capital requirements.\\n\\n# Dividend\\n\\nThe final dividend on shares is recorded as a liability on the date of approval by the shareholders and interim dividends are recorded as a liability on the date of declaration by the Company's Board of Directors. Income tax consequences of dividends on financial instruments classified as equity will be recognized according to where the entity originally recognized those past transactions or events that generated distributable profits.\\n\\nThe Company declares and pays dividends in Indian rupees. Companies are required to pay/distribute dividend after deducting applicable taxes. The remittance of dividends outside India is governed by Indian law on foreign exchange and is also subject to withholding tax at applicable rates.\\n\\n# The amount of per share dividend recognized as distribution to equity shareholders is as follows:\\n\\n|Particulars|Three months ended March 31, 2024|Year ended March 31, 2024|Year ended March 31, 2023|\\n|---|---|---|---|\\n|Final dividend for fiscal 2022|—|—|16.00|\\n|Interim dividend for fiscal 2023|—|—|16.50|\\n|Final dividend for fiscal 2023|—|17.50|—|\\n|Interim dividend for fiscal 2024|—|18.00|—|\\n\\nDuring the year ended March 31, 2024, on account of the final dividend for fiscal 2023 and interim dividend for fiscal 2024, the Company has incurred a net cash outflow of ₹14,692 crore (excluding dividend paid on treasury shares).\\n\\nThe Board of Directors in their meeting held on April 18, 2024 recommended a final dividend of ₹20/- per equity share for the financial year ended March 31, 2024 and a special dividend of ₹8/- per equity share. The payment is subject to the approval of shareholders in the AGM of the Company to be held on June 26, 2024 and if approved, would result in a net cash outflow of approximately ₹11,592 crore (excluding dividend paid on treasury shares).\\n\\n# Employee Stock Option Plan (ESOP):\\n\\n# Accounting policy\\n\\nThe Group recognizes compensation expense relating to share-based payments in net profit based on estimated fair values of the awards on the grant date. The estimated fair value of awards is recognized as an expense in the statement of profit and loss on a straight-line basis over the requisite service period for each separately vesting portion of the award as if the award was in-substance, multiple awards with a corresponding increase to share options outstanding account.\\n\\n# Infosys Expanded Stock Ownership Program 2019 (the 2019 Plan):\\n\\nOn June 22, 2019 pursuant to approval by the shareholders in the Annual General Meeting, the Board has been authorized to introduce, offer, issue and provide share-based incentives to eligible employees of the Company and its subsidiaries under the 2019 Plan. The maximum number of shares under the 2019 Plan shall not exceed 5,00,00,000 equity shares. To implement the 2019 Plan, up to 4,50,00,000 equity shares may be issued by way of secondary acquisition of shares by Infosys Expanded Stock Ownership Trust. The Restricted Stock Units (RSUs) granted under the 2019 Plan shall vest based on the achievement of defined annual performance parameters as determined by the administrator (Nomination and Remuneration Committee). The performance parameters will be based on a combination of relative Total Shareholder Return (TSR) against selected industry peers and certain broader market domestic and global indices and operating performance metrics of the Company as decided by administrator. Each of the above performance parameters will be distinct for the purposes of calculation of quantity of shares to vest based on performance. These instruments will generally vest between a minimum of 1 to maximum of 3 years from the grant date.\\n\\n# 2015 Stock Incentive Compensation Plan (the 2015 Plan):\\n\\nOn March 31, 2016, pursuant to the approval by the shareholders through postal ballot, the Board was authorized to introduce, offer, issue and allot share-based incentives to eligible employees of the Company and its subsidiaries under the 2015 Stock Incentive Compensation Plan. The maximum number of shares under the 2015 Plan shall not exceed 2,40,38,883 equity shares (this includes 1,12,23,576 equity shares which are held by the trust towards the 2011 Plan as at March 31, 2016). These instruments will generally vest over a period of 4 years. The plan numbers mentioned above are further adjusted with the September 2018 bonus issue.\\n\\nThe equity settled and cash settled RSUs and stock options would vest generally over a period of 4 years and shall be exercisable within the period as approved by the Nomination and Remuneration Committee (NARC). The exercise price of the RSUs will be equal to the par value of the shares and the exercise price of the stock options would be the market price as on the date of grant.\\n\\nControlled trust holds 10,916,829 and 1,21,72,119 shares as at March 31, 2024 and March 31, 2023, respectively, under the 2015 Plan. Out of these shares, 2,00,000 equity shares each have been earmarked for welfare activities of the employees as at March 31, 2024 and March 31, 2023.\", path=None, url=None, mimetype=None), image_resource=None, audio_resource=None, video_resource=None, text_template='{metadata_str}\\n\\n{content}'),\n",
              " Document(id_='a4ab9251-09c3-4d39-a9c9-1f76e9744eee', embedding=None, metadata={}, excluded_embed_metadata_keys=[], excluded_llm_metadata_keys=[], relationships={}, metadata_template='{key}: {value}', metadata_separator='\\n', text_resource=MediaResource(embeddings=None, data=None, text=\"# Summary of Grants\\n\\nThe following is the summary of grants made during the three months and year ended March 31, 2024 and March 31, 2023:\\n\\n|Particulars|2019 Plan| | |2015 Plan| | | | | |\\n|---|---|---|---|---|---|---|---|---|---|\\n| |Three months ended|Year ended March 31,|Three months ended|Year ended|March 31,|2024|2023|2024|2023|\\n| |2024|2023|2024|2023|2024|2023|2024|2023| |\\n|Equity Settled RSUs|26,900|33,750|141,171|210,643|77,094|80,154|498,730|367,479| |\\n|Employees other than KMP|3,582,471|3,329,240|4,046,731|3,704,014|3,442,700|1,736,925|4,640,640|1,784,975| |\\n|Total|3,609,371|3,362,990|4,187,902|3,914,657|3,519,794|1,817,079|5,139,370|2,152,454| |\\n|Cash settled RSU|-|-|-|-|169,040|92,400|176,990|92,400| |\\n|Total Grants|3,609,371|3,362,990|4,187,902|3,914,657|3,688,834|1,909,479|5,316,360|2,244,854| |\\n\\n# Notes on Grants to KMP:\\n\\n# CEO & MD\\n\\nUnder the 2015 Plan:\\n\\nThe Board, on April 13, 2023, based on the recommendations of the Nomination and Remuneration Committee approved the following grants for fiscal 2024. In accordance with such approval the following grants were made effective May 2, 2023.\\n\\n- 2,72,026 performance-based RSUs (Annual performance equity grant) of fair value of ₹34.75 crore. These RSUs will vest in line with the employment agreement based on achievement of certain performance targets.\\n- 15,656 performance-based grant of RSUs (Annual performance equity ESG grant) of fair value of ₹2 crore. These RSUs will vest in line with the employment agreement based on achievement of certain environment, social and governance milestones as determined by the Board.\\n- 39,140 performance-based grant of RSUs (Annual performance Equity TSR grant) of fair value of ₹5 crore. These RSUs will vest in line with the employment agreement based on Company’s performance on cumulative relative TSR over the years and as determined by the Board.\\n\\nFurther, in accordance with the employee agreement which has been approved by the shareholders, the CEO is eligible to receive an annual grant of RSUs of fair value ₹3 crore which will vest overtime in three equal annual installments upon the completion of each year of service from the respective grant date. Accordingly, annual time-based grant of 18,104 RSUs was made effective February 1, 2024 for fiscal 2024.\\n\\nThough the annual time based grants and annual performance equity TSR grant for the remaining employment term ending on March 31, 2027 have not been granted as of March 31, 2024, since the service commencement date precedes the grant date, the company has recorded employment stock compensation expense in accordance with Ind AS 102, Share based payment. The grant date for this purpose in accordance with Ind AS 102, Share based payment is July 1, 2022.\\n\\nUnder the 2019 Plan:\\n\\nThe Board, on April 13, 2023, based on the recommendations of the Nomination and Remuneration Committee, approved performance-based grant of RSUs amounting to ₹10 crore for fiscal 2024 under the 2019 Plan. These RSUs will vest based on achievement of certain performance targets. Accordingly, 78,281 performance based RSU’s were granted effective May 2, 2023.\\n\\n# Other KMP\\n\\nUnder the 2015 Plan:\\n\\nDuring the year ended March 31, 2024, based on recommendations of Nomination and Remuneration Committee, the Board approved 1,47,030 time based RSUs and 6,774 performance based RSUs to other KMP under the 2015 plan. Time based RSUs will vest over three to four years and performance based RSUs will vest over three years based on certain performance targets.\\n\\nUnder the 2019 Plan:\\n\\nDuring the year ended March 31, 2024, based on recommendations of Nomination and Remuneration Committee, the Board approved performance based grants of 62,890 RSUs to other KMPs under the 2019 plan. These RSUs will vest over three years based on achievement of certain performance targets.\\n\\n# Break-up of Employee Stock Compensation Expense\\n\\n|Particulars|Three months ended|Year ended| | | | |\\n|---|---|---|---|---|---|---|\\n| |March 31,|2024|2023|2024|2023| |\\n|Granted to:|KMP| |17|8|68|49|\\n|Employees other than KMP| | |208|125|584|470|\\n|Total (1)| | |225|133|652|519|\\n|(1) Cash-settled stock compensation expense included in the above| |4|2|13|5| |\\n\\nThe fair value of the awards are estimated using the Black-Scholes Model for time and non-market performance based options and Monte Carlo simulation model is used for TSR based options.\\n\\nThe inputs to the model include the share price at date of grant, exercise price, expected volatility, expected dividends, expected term and the risk free rate of interest. Expected volatility during the expected term of the options is based on historical volatility of the observed market prices of the Company's publicly traded equity shares during a period equivalent to the expected term of the options. Expected volatility of the comparative company have been modelled based on historical movements in the market prices of their publicly traded equity shares during a period equivalent to the expected term of the options. Correlation coefficient is calculated between each peer entity and the indices as a whole or between each entity in the peer group.\\n\\nThe fair value of each equity settled award is estimated on the date of grant using the following assumptions:\\n\\n|Particulars|For options granted in|Fiscal 2024-|Fiscal 2024-|Fiscal 2023-|Fiscal 2023-|\\n|---|---|---|---|---|---|\\n| |Equity Shares-|ADS-RSU|Equity Shares-RSU|ADS-RSU| |\\n|Weighted average share price (₹) / ($ ADS)|1,588|19.19|1,525|18.08| |\\n|Exercise price (₹) / ($ ADS)|5.00|0.07|5.00|0.07| |\\n|Expected volatility (%)|23-31|25-33|23-32|27-34| |\\n|Expected life of the option (years)|1-4|1-4|1-4|1-4| |\\n|Expected dividends (%)|2-3|2-3|2-3|2-3| |\\n|Risk-free interest rate (%)|7|4-5|5-7|2-5| |\\n|Weighted average fair value as on grant date (₹) / ($ ADS)|1,317|16.27|1,210|13.69| |\\n\\nThe expected life of the RSU/ESOP is estimated based on the vesting term and contractual term of the RSU/ESOP, as well as expected exercise behavior of the employee who receives the RSU/ESOP.\", path=None, url=None, mimetype=None), image_resource=None, audio_resource=None, video_resource=None, text_template='{metadata_str}\\n\\n{content}'),\n",
              " Document(id_='8875def3-7cf5-4a32-96f3-4f1eb77a74f4', embedding=None, metadata={}, excluded_embed_metadata_keys=[], excluded_llm_metadata_keys=[], relationships={}, metadata_template='{key}: {value}', metadata_separator='\\n', text_resource=MediaResource(embeddings=None, data=None, text='# 2.12 OTHER FINANCIAL LIABILITIES\\n\\n|Particulars|As at March 31, 2024|As at March 31, 2023|\\n|---|---|---|\\n|Non-current| | |\\n|Others| | |\\n|Accrued compensation to employees (1)|7|5|\\n|Accrued expenses (1)|1,779|1,628|\\n|Compensated absences|89|83|\\n|Financial liability under option arrangements (2) #|98|—|\\n|Other Payables (1)(4)|157|342|\\n|Total non-current other financial liabilities|2,130|2,058|\\n|Current| | |\\n|Unpaid dividends (1)|37|37|\\n|Others| | |\\n|Accrued compensation to employees (1)|4,454|4,174|\\n|Accrued expenses (1)|8,224|7,802|\\n|Payable for acquisition of business - Contingent consideration (2)|—|97|\\n|Payable by controlled trusts (1)|211|211|\\n|Compensated absences|2,622|2,399|\\n|Financial liability under option arrangements (2)#|499|600|\\n|Foreign currency forward and options contracts (2) (3)|31|78|\\n|Capital creditors (1)|310|674|\\n|Other payables (1)(4)|571|2,486|\\n|Total current other financial liabilities|16,959|18,558|\\n|Total other financial liabilities|19,089|20,616|\\n|(1) Financial liability carried at amortized cost|15,750|17,359|\\n|(2) Financial liability carried at fair value through profit or loss|627|761|\\n|(3) Financial liability carried at fair value through other comprehensive income|1|14|\\n|Financial liability under option arrangements on an undiscounted basis|690|676|\\n|Contingent consideration on undiscounted basis|—|101|\\n|(4) Deferred contract cost in note 2.9 includes technology assets taken over by the Group from a customer as a part of transformation project which is not considered as distinct goods or services and the control related to the assets is not transferred to the Group in accordance with Ind AS 115 - Revenue from contract with customers. Accordingly, the same has been considered as a reduction to the total contract value and accounted as Deferred contract cost. The Group has entered into financing arrangements with a third party for these assets. As at March 31, 2024 and March 31, 2023, the financial liability pertaining to such arrangements amounts to ₹372 crore and ₹731 crore, respectively. For the year ended March 31, 2023 ₹118 crore was settled directly by the third party to the customer on behalf of the Group and accordingly considered as non-cash transaction.| | |\\n|# Represents liability related to options issued by the Group over the non-controlling interests in its subsidiaries| | |\\n|Accrued expenses primarily relate to cost of technical sub-contractors, telecommunication charges, legal and professional charges, brand building expenses, overseas travel expenses, office maintenance and cost of third party software and hardware.| | |\\n\\n# 2.13 OTHER LIABILITIES\\n\\n|Particulars|As at March 31, 2024|As at March 31, 2023|\\n|---|---|---|\\n|Non-current| | |\\n|Others| | |\\n|Accrued defined benefit liability|159|445|\\n|Others|76|55|\\n|Total non-current other liabilities|235|500|\\n|Current| | |\\n|Unearned revenue|7,341|7,163|\\n|Others| | |\\n|Withholding taxes and others|3,185|3,632|\\n|Accrued defined benefit liability|5|4|\\n|Others|8|31|\\n|Total current other liabilities|10,539|10,830|\\n|Total other liabilities|10,774|11,330|', path=None, url=None, mimetype=None), image_resource=None, audio_resource=None, video_resource=None, text_template='{metadata_str}\\n\\n{content}'),\n",
              " Document(id_='3ef8f79a-134d-4f23-bab4-60d5b14e95ea', embedding=None, metadata={}, excluded_embed_metadata_keys=[], excluded_llm_metadata_keys=[], relationships={}, metadata_template='{key}: {value}', metadata_separator='\\n', text_resource=MediaResource(embeddings=None, data=None, text='# 2.14 PROVISIONS\\n\\n# Accounting policy\\n\\nA provision is recognized if, as a result of a past event, the Group has a present legal or constructive obligation that is reasonably estimable, and it is probable that an outflow of economic benefits will be required to settle the obligation. Provisions are determined by discounting the expected future cash flows at a pre-tax rate that reflects current market assessments of the time value of money and the risks specific to the liability.\\n\\n# a. Post sales client support\\n\\nThe Group provides its clients with a fixed-period post sales support on its fixed-price, fixed-timeframe contracts. Costs associated with such support services are accrued at the time related revenues are recorded and included in Consolidated Statement of Profit and Loss. The Group estimates such costs based on historical experience and estimates are reviewed on a periodic basis for any material changes in assumptions and likelihood of occurrence.\\n\\n# b. Onerous contracts\\n\\nProvisions for onerous contracts are recognized when the expected benefits to be derived by the Group from a contract are lower than the unavoidable costs of meeting the future obligations under the contract. Provisions for estimated losses, if any, on incomplete contracts are recorded in the period in which such losses become probable based on the estimated efforts or costs to complete the contract. The provision is measured at the present value of the lower of the expected cost of terminating the contract and the expected net cost of continuing with the contract. Before a provision is established the Group recognizes any impairment loss on the assets associated with that contract.\\n\\n# Provision for post-sales client support and other provisions:\\n\\n|Particulars|As at|As at|\\n|---|---|\\n| |March 31, 2024|March 31, 2023|\\n|Current|Others| |\\n|Post-sales client support and other provisions|1,796|1,307|\\n|Total provisions|1,796|1,307|\\n\\nProvision for post sales client support and other provisions majorly represents costs associated with providing sales support services which are accrued at the time of recognition of revenues and are expected to be utilized over a period of 1 year.\\n\\nProvision for post sales client support and other provisions is included in cost of sales in the condensed consolidated statement of profit and loss.', path=None, url=None, mimetype=None), image_resource=None, audio_resource=None, video_resource=None, text_template='{metadata_str}\\n\\n{content}'),\n",
              " Document(id_='71b13a10-eeee-4ab8-8204-ec3162bb2286', embedding=None, metadata={}, excluded_embed_metadata_keys=[], excluded_llm_metadata_keys=[], relationships={}, metadata_template='{key}: {value}', metadata_separator='\\n', text_resource=MediaResource(embeddings=None, data=None, text=\"# 2.15 INCOME TAXES\\n\\n# Accounting policy\\n\\nIncome tax expense comprises current and deferred income tax. Income tax expense is recognized in net profit in the Consolidated Statement of Profit and Loss except to the extent that it relates to items recognized directly in equity, in which case it is recognized in equity or other comprehensive income. Current income tax for current and prior periods is recognized at the amount expected to be paid to or recovered from the tax authorities, using the tax rates and tax laws that have been enacted or substantively enacted by the Balance Sheet date. Deferred income tax assets and liabilities are recognized for all temporary differences arising between the tax bases of assets and liabilities and their carrying amounts in the financial statements except when the deferred income tax arises from the initial recognition of goodwill or an asset or liability in a transaction that is not a business combination and affects neither accounting nor taxable profit or loss at the time of the transaction. Deferred tax assets are reviewed at each reporting date and are reduced to the extent that it is no longer probable that the related tax benefit will be realized.\\n\\nDeferred income tax assets and liabilities are measured using tax rates and tax laws that have been enacted or substantively enacted by the Balance Sheet date and are expected to apply to taxable income in the years in which those temporary differences are expected to be recovered or settled. The effect of changes in tax rates on deferred income tax assets and liabilities is recognized as income or expense in the period that includes the enactment or the substantive enactment date. A deferred income tax asset is recognized to the extent that it is probable that future taxable profit will be available against which the deductible temporary differences and tax losses can be utilized. Deferred income taxes are not provided on the undistributed earnings of subsidiaries and branches where it is expected that the earnings of the subsidiary or branch will not be distributed in the foreseeable future.\\n\\nThe Group offsets current tax assets and current tax liabilities; deferred tax assets and deferred tax liabilities, where it has a legally enforceable right to set off the recognized amounts and where it intends either to settle on a net basis, or to realize the asset and settle the liability simultaneously. Tax benefits of deductions earned on exercise of employee share options in excess of compensation charged to income are credited to equity.\\n\\n# Income tax expense in the Consolidated Statement of Profit and Loss comprises:\\n\\n|Particulars|Three months ended March 31, 2024|Three months ended March 31, 2023|Year ended March 31, 2024|Year ended March 31, 2023|\\n|---|---|---|---|---|\\n|Current taxes|1,173|2,260|8,390|9,287|\\n|Deferred taxes|1,092|72|1,350|(73)|\\n|Income tax expense|2,265|2,332|9,740|9,214|\\n\\nIncome tax expense for the three months ended March 31, 2024 and March 31, 2023 includes reversal (net of provisions) of ₹871 crore and ₹71 crore, respectively. Income tax expense for the year ended March 31, 2024 and March 31, 2023 includes reversal (net of provisions) of ₹937 crore and ₹106 crore, respectively. These reversals pertaining to prior periods are primarily on account of adjudication of certain disputed matters, upon filing of tax return and completion of assessments, across various jurisdictions.\\n\\nDuring the quarter ending March 31, 2024, the Company received orders under sections 250 and 254 of the Income Tax Act, 1961, from the Income Tax Authorities in India for the assessment years, 2007-08 to 2015-16, 2017-18 and 2018-19. These orders confirmed the Company's position with respect to tax treatment of certain contentious matters. As a result interest income (pre-tax) of ₹1,933 crore was recognised and provision for income tax aggregating ₹525 crore was reversed with a corresponding credit to the Statement of Profit and Loss. Also, upon resolution of the disputes, an amount aggregating to ₹ 1,628 crore has been reduced from contingent liabilities.\\n\\nDeferred income tax for three months and year ended March 31, 2024 and March 31, 2023 substantially relates to origination and reversal of temporary differences.\\n\\nThe Company’s Advanced Pricing Arrangement (APA) with the Internal Revenue Service (IRS) for US branch income tax expired in March 2021. The Company has applied for renewal of APA and currently the US taxable income is based on the Company’s best estimate determined based on the expected value method.\", path=None, url=None, mimetype=None), image_resource=None, audio_resource=None, video_resource=None, text_template='{metadata_str}\\n\\n{content}'),\n",
              " Document(id_='2ee1a6ff-1479-4035-86fb-f8d14c6e8bbd', embedding=None, metadata={}, excluded_embed_metadata_keys=[], excluded_llm_metadata_keys=[], relationships={}, metadata_template='{key}: {value}', metadata_separator='\\n', text_resource=MediaResource(embeddings=None, data=None, text='# OA41X2.16 REVENUE FROM OPERATIONS\\n\\n# Accounting policy\\n\\nThe Group derives revenues primarily from IT services comprising software development and related services, cloud and infrastructure services, maintenance, consulting and package implementation, licensing of software products and platforms across the Group’s core and digital offerings (together called as “software related services”) and business process management services. Contracts with customers are either on a time-and-material, unit of work, fixed-price or on a fixed-timeframe basis.\\n\\nRevenues from customer contracts are considered for recognition and measurement when the contract has been approved in writing by the parties, to the contract, the parties to contract are committed to perform their respective obligations under the contract, and the contract is legally enforceable. Revenue is recognized upon transfer of control of promised products or services (“performance obligations”) to customers in an amount that reflects the consideration the Group has received or expects to receive in exchange for these products or services (“transaction price”). When there is uncertainty as to collectability, revenue recognition is postponed until such uncertainty is resolved.\\n\\nThe Group assesses the services promised in a contract and identifies distinct performance obligations in the contract. The Group allocates the transaction price to each distinct performance obligation based on the relative standalone selling price. The price that is regularly charged for an item when sold separately is the best evidence of its standalone selling price. In the absence of such evidence, the primary method used to estimate standalone selling price is the expected cost plus a margin, under which the Group estimates the cost of satisfying the performance obligation and then adds an appropriate margin based on similar services.\\n\\nThe Group’s contracts may include variable consideration including rebates, volume discounts and penalties. The Group includes variable consideration as part of transaction price when there is a basis to reasonably estimate the amount of the variable consideration and when it is probable that a significant reversal of cumulative revenue recognized will not occur when the uncertainty associated with the variable consideration is resolved.\\n\\nRevenue on time-and-material and unit of work based contracts, are recognized as the related services are performed. Fixed price maintenance revenue is recognized ratably either on a straight-line basis when services are performed through an indefinite number of repetitive acts over a specified period or ratably using a percentage of completion method when the pattern of benefits from the services rendered to the customer and the Group’s costs to fulfil the contract is not even through the period of contract because the services are generally discrete in nature and not repetitive. Revenue from other fixed-price, fixed-timeframe contracts, where the performance obligations are satisfied over time is recognized using the percentage-of-completion method. Efforts or costs expended are used to determine progress towards completion as there is a direct relationship between input and productivity. Progress towards completion is measured as the ratio of costs or efforts incurred to date (representing work performed) to the estimated total costs or efforts. Estimates of transaction price and total costs or efforts are continuously monitored over the term of the contracts and are recognized in net profit in the period when these estimates change or when the estimates are revised. Revenues and the estimated total costs or efforts are subject to revision as the contract progresses. Provisions for estimated losses, if any, on incomplete contracts are recorded in the period in which such losses become probable based on the estimated efforts or costs to complete the contract.\\n\\nThe billing schedules agreed with customers include periodic performance based billing and / or milestone based progress billings. Revenues in excess of billing are classified as unbilled revenue while billing in excess of revenues are classified as contract liabilities (which we refer to as unearned revenues).\\n\\nIn arrangements for software development and related services and maintenance services, by applying the revenue recognition criteria for each distinct performance obligation, the arrangements with customers generally meet the criteria for considering software development and related services as distinct performance obligations. For allocating the transaction price, the Group measures the revenue in respect of each performance obligation of a contract at its relative standalone selling price. The price that is regularly charged for an item when sold separately is the best evidence of its standalone selling price. In cases where the Group is unable to determine the standalone selling price, the Group uses the expected cost plus margin approach in estimating the standalone selling price. For software development and related services, the performance obligations are satisfied as and when the services are rendered since the customer generally obtains control of the work as it progresses.\\n\\nCertain cloud and infrastructure services contracts include multiple elements which may be subject to other specific accounting guidance, such as leasing guidance. These contracts are accounted in accordance with such specific accounting guidance. In such arrangements where the Group is able to determine that hardware and services are distinct performance obligations, it allocates the consideration to these performance obligations on a relative standalone selling price basis. In the absence of standalone selling price, the Group uses the expected cost-plus margin approach in estimating the standalone selling price. When such arrangements are considered as a single performance obligation, revenue is recognized over the period and measure of progress is determined based on promise in the contract.\\n\\nRevenue from licenses where the customer obtains a “right to use” the licenses is recognized at the time the license are made available to the customer. Revenue from licenses where the customer obtains a “right to access” is recognized over the access period.\\n\\nArrangements to deliver software products generally have three elements: license, implementation and Annual Technical Services (ATS). When implementation services are provided in conjunction with the licensing arrangement and the license and implementation have been identified as two distinct separate performance obligations, the transaction price for such contracts are allocated to each performance obligation of the contract based on their relative standalone selling prices. In the absence of standalone selling price for implementation, the Group uses the expected cost plus margin approach in estimating the standalone selling price. Where the license is required to be substantially customized as part of the implementation service the entire arrangement fee for license and implementation is considered to be a single performance obligation and the revenue is recognized using the percentage-of-completion method as the implementation is performed. Revenue from client training, support and other services arising due to the sale of software products is recognized as the performance obligations are satisfied. ATS revenue is recognized ratably on a straight line basis over the period in which the services are rendered.\\n\\nContracts with customers includes subcontractor services or third-party vendor equipment or software in certain integrated services arrangements. In these types of arrangements, revenue from sales of third-party vendor products or services is recorded net of costs when the Group is acting as an agent between the customer and the vendor, and gross when the Group is the principal for the transaction. In doing so, the Group first evaluates whether it obtains control of the specified goods or services before they are transferred to the customer. The Group considers whether it is primarily responsible for fulfilling the promise to provide the specified goods or services, inventory risk, pricing discretion and other factors to determine whether it controls the specified goods or services and therefore, is acting as a principal or an agent.\\n\\nA contract modification is a change in the scope or price or both of a contract that is approved by the parties to the contract. A contract modification that results in the addition of distinct performance obligations are accounted for either as a separate contract if the additional services are priced at the standalone selling price or as a termination of the existing contract and creation of a new contract if they are not priced at the standalone selling price. If the modification does not result in a distinct performance obligation, it is accounted for as part of the existing contract on a cumulative catch-up basis.', path=None, url=None, mimetype=None), image_resource=None, audio_resource=None, video_resource=None, text_template='{metadata_str}\\n\\n{content}'),\n",
              " Document(id_='d1ae2ce0-2e68-428b-9bff-8f04e73f523f', embedding=None, metadata={}, excluded_embed_metadata_keys=[], excluded_llm_metadata_keys=[], relationships={}, metadata_template='{key}: {value}', metadata_separator='\\n', text_resource=MediaResource(embeddings=None, data=None, text='The incremental costs of obtaining a contract (i.e., costs that would not have been incurred if the contract had not been obtained) are recognized as an asset if the Group expects to recover them.\\n\\nCertain eligible, nonrecurring costs (e.g. set-up or transition or transformation costs) that do not represent a separate performance obligation are recognized as an asset when such costs (a) relate directly to the contract; (b) generate or enhance resources of the Group that will be used in satisfying the performance obligation in the future; and (c) are expected to be recovered.\\n\\nCapitalized contract costs relating to upfront payments to customers are amortized to revenue and other capitalized costs are amortized to expenses over the respective contract life on a systematic basis consistent with the transfer of goods or services to customer to which the asset relates. Capitalized costs are monitored regularly for impairment. Impairment losses are recorded when present value of projected remaining operating cash flows is not sufficient to recover the carrying amount of the capitalized costs.\\n\\nThe Group presents revenues net of indirect taxes in its Consolidated Statement of Profit and Loss.\\n\\n# Revenue from operation for the three months and year ended March 31, 2024 and March 31, 2023 are as follows:\\n\\n|Particulars|Three months ended March 31, 2024|Three months ended March 31, 2023|Year ended March 31, 2024|Year ended March 31, 2023|\\n|---|---|---|---|---|\\n|Revenue from software services|36,064|35,199|145,285|137,575|\\n|Revenue from products and platforms|1,859|2,242|8,385|9,192|\\n|Total revenue from operations|37,923|37,441|153,670|146,767|\\n\\n# Products & platforms\\n\\nThe Group also derives revenues from the sale of products and platforms including Finacle – core banking solution, Edge Suite of products, Panaya platform, Infosys Equinox, Infosys Helix, Infosys Applied AI, Infosys Cortex, Stater digital platform and Infosys McCamish – insurance platform.\\n\\n# Disaggregated revenue information\\n\\nRevenue disaggregation by business segments has been included in segment information (Refer to Note 2.23). The table below presents disaggregated revenues from contracts with customers by geography and contract type. The Group believes that this disaggregation best depicts how the nature, amount, timing and uncertainty of revenues and cash flows are affected by industry, market and other economic factors.\\n\\n# For the three months and year ended March 31, 2024 and March 31, 2023:\\n\\n|Particulars|Three months ended March 31, 2024|Three months ended March 31, 2023|Year ended March 31, 2024|Year ended March 31, 2023|\\n|---|---|---|---|---|\\n|Revenues by Geography*| | | | |\\n|North America|22,606|22,842|92,411|90,724|\\n|Europe|10,861|10,088|42,267|37,675|\\n|India|833|981|3,881|3,861|\\n|Rest of the world|3,623|3,530|15,111|14,507|\\n|Total|37,923|37,441|153,670|146,767|\\n\\n* Geographical revenues is based on the domicile of customer.\\n\\nThe percentage of revenue from fixed-price contracts for the three months ended March 31, 2024 and March 31, 2023 is 54% and 52%, respectively. The percentage of revenue from fixed-price contracts for the year ended March 31, 2024 and March 31, 2023 is 53% and 52%, respectively.\\n\\n# Trade Receivables and Contract Balances\\n\\nThe timing of revenue recognition, billings and cash collections results in receivables, unbilled revenue, and unearned revenue on the Group’s Consolidated Balance Sheet. Amounts are billed as work progresses in accordance with agreed-upon contractual terms, either at periodic intervals (e.g., monthly or quarterly) or upon achievement of contractual milestones.\\n\\nThe Group’s receivables are rights to consideration that are unconditional. Unbilled revenues comprising revenues in excess of billings from time and material contracts and fixed price maintenance contracts are classified as financial asset when the right to consideration is unconditional and is due only after a passage of time.\\n\\nInvoicing to the clients for other fixed price contracts is based on milestones as defined in the contract and therefore the timing of revenue recognition is different from the timing of invoicing to the customers. Therefore unbilled revenues for other fixed price contracts (contract asset) are classified as non-financial asset because the right to consideration is dependent on completion of contractual milestones.\\n\\nInvoicing in excess of earnings are classified as unearned revenue.\\n\\nTrade receivables and unbilled revenues are presented net of impairment in the consolidated Balance Sheet.', path=None, url=None, mimetype=None), image_resource=None, audio_resource=None, video_resource=None, text_template='{metadata_str}\\n\\n{content}'),\n",
              " Document(id_='c83ca027-7852-4ce0-8b5d-acbd5de150a5', embedding=None, metadata={}, excluded_embed_metadata_keys=[], excluded_llm_metadata_keys=[], relationships={}, metadata_template='{key}: {value}', metadata_separator='\\n', text_resource=MediaResource(embeddings=None, data=None, text=\"# 2.17 OTHER INCOME, NET\\n\\n# Accounting policy\\n\\nOther income is comprised primarily of interest income, dividend income, gain/loss on investment and exchange gain/loss on forward and options contracts and on translation of foreign currency assets and liabilities. Interest income is recognized using the effective interest method. Dividend income is recognized when the right to receive payment is established.\\n\\n# Foreign currency\\n\\n# Accounting policy\\n\\n# Functional currency\\n\\nThe functional currency of Infosys, Infosys BPM, EdgeVerve, Skava, Infosys Green Forum, Danske IT and controlled trusts is the Indian rupee. The functional currencies for foreign subsidiaries are their respective local currencies. These financial statements are presented in Indian rupees (rounded off to crore; one crore equals ten million).\\n\\n# Transactions and translations\\n\\nForeign-currency denominated monetary assets and liabilities are translated into the relevant functional currency at exchange rates in effect at the Balance Sheet date. The gains or losses resulting from such translations are recognized in the Condensed Consolidated Statement of Profit and Loss and reported within exchange gains/ (losses) on translation of assets and liabilities, net, except when deferred in Other Comprehensive Income as qualifying cash flow hedges. Non-monetary assets and non-monetary liabilities denominated in a foreign currency and measured at fair value are translated at the exchange rate prevalent at the date when the fair value was determined. Non-monetary assets and non-monetary liabilities denominated in a foreign currency and measured at historical cost are translated at the exchange rate prevalent at the date of transaction. The related revenue and expense are recognized using the same exchange rate.\\n\\nTransaction gains or losses realized upon settlement of foreign currency transactions are included in determining net profit for the period in which the transaction is settled. Revenue, expense and cash-flow items denominated in foreign currencies are translated into the relevant functional currencies using the exchange rate in effect on the date of the transaction.\\n\\nThe translation of financial statements of the foreign subsidiaries to the presentation currency is performed for assets and liabilities using the exchange rate in effect at the Balance Sheet date and for revenue, expense and cash-flow items using the average exchange rate for the respective periods. The gains or losses resulting from such translation are included in currency translation reserves under other components of equity. When a subsidiary is disposed off, in full, the relevant amount is transferred to net profit in the Condensed Consolidated Statement of Profit and Loss. However when a change in the parent's ownership does not result in loss of control of a subsidiary, such changes are recorded through equity.\\n\\nOther Comprehensive Income, net of taxes includes translation differences on non-monetary financial assets measured at fair value at the reporting date, such as equities classified as financial instruments and measured at fair value through other comprehensive income (FVOCI).\\n\\nGoodwill and fair value adjustments arising on the acquisition of a foreign entity are treated as assets and liabilities of the foreign entity and translated at the exchange rate in effect at the Balance Sheet date.\\n\\n# Government grant\\n\\nThe Group recognizes government grants only when there is reasonable assurance that the conditions attached to them shall be complied with, and the grants will be received. Government grants related to assets are treated as deferred income and are recognized in net profit in the Consolidated Statement of Profit and Loss on a systematic and rational basis over the useful life of the asset. Government grants related to revenue are recognized on a systematic basis in net profit in the Consolidated Statement of Profit and Loss over the periods necessary to match them with the related costs which they are intended to compensate.\\n\\n# Other income for the three months and year ended March 31, 2024 and March 31, 2023 is as follows:\\n\\n|Particulars|Three months ended March 31, 2024|Three months ended March 31, 2023|Year ended March 31, 2024|Year ended March 31, 2023|\\n|---|---|---|---|---|\\n|Interest income on financial assets carried at amortized cost| | | | |\\n|Tax free bonds and Government bonds|31|36|131|149|\\n|Deposit with Bank and others|222|161|929|712|\\n|Interest income on financial assets carried at fair value through other comprehensive income| | | | |\\n|Non-convertible debentures, commercial papers, certificates of deposit and government securities|318|231|1,007|955|\\n|Income on investments carried at fair value through profit or loss| | | | |\\n|Dividend income on liquid mutual funds|—|—|—|—|\\n|Gain / (loss) on liquid mutual funds and other investments|88|61|285|148|\\n|Income on investments carried at fair value through other comprehensive income|—|—|—|1|\\n|Interest on income tax refund|1,916|2|1,965|3|\\n|Exchange gains / (losses) on forward and options contracts|190|142|100|(647)|\\n|Exchange gains / (losses) on translation of other assets and liabilities|(123)|(91)|87|1,062|\\n|Miscellaneous income, net|87|129|207|318|\\n|Total other income|2,729|671|4,711|2,701|\", path=None, url=None, mimetype=None), image_resource=None, audio_resource=None, video_resource=None, text_template='{metadata_str}\\n\\n{content}'),\n",
              " Document(id_='637f6e4c-52e1-46be-8780-13de1984b85a', embedding=None, metadata={}, excluded_embed_metadata_keys=[], excluded_llm_metadata_keys=[], relationships={}, metadata_template='{key}: {value}', metadata_separator='\\n', text_resource=MediaResource(embeddings=None, data=None, text=\"# 2.18 EXPENSES\\n\\n# Accounting policy\\n\\n# Gratuity and Pensions\\n\\nThe Group provides for gratuity, a defined benefit retirement plan ('the Gratuity Plan') covering eligible employees majorly of Infosys and its Indian subsidiaries. The Gratuity Plan provides a lump-sum payment to vested employees at retirement, death, incapacitation or termination of employment, of an amount based on the respective employee's salary and the tenure of employment with the Group. The Company contributes Gratuity liabilities to the Infosys Limited Employees' Gratuity Fund Trust (the Trust). In case of Infosys BPM and EdgeVerve, contributions are made to the Infosys BPM Employees' Gratuity Fund Trust and EdgeVerve Systems Limited Employees' Gratuity Fund Trust, respectively. Trustees administer contributions made to the Trusts and contributions are invested in a scheme with the Life Insurance Corporation of India as permitted by Indian law.\\n\\nThe Group operates defined benefit pension plan in certain overseas jurisdictions, in accordance with the local laws. These plans are managed by third party fund managers. The plans provide for periodic payouts after retirement and/or for a lumpsum payment as set out in rules of each fund and includes death and disability benefits. The defined benefit plans require contributions which are based on a percentage of salary that varies depending on the age of the respective employees.\\n\\nLiabilities with regard to these defined benefit plans are determined by actuarial valuation, performed by an external actuary, at each Balance Sheet date using the projected unit credit method. These defined benefit plans expose the Group to actuarial risks, such as longevity risk, interest rate risk and market risk.\\n\\nThe Group recognizes the net obligation of a defined benefit plan in its Balance Sheet as an asset or liability. Gains and losses through re-measurements of the net defined benefit liability / (asset) are recognized in other comprehensive income and are not reclassified to profit or loss in subsequent periods. The actual return of the portfolio of plan assets, in excess of the yields computed by applying the discount rate used to measure the defined benefit obligation is recognized in other comprehensive income. The effect of any plan amendments is recognized in net profit in the Consolidated Statement of Profit and Loss.\\n\\n# Provident fund\\n\\nEligible employees of Infosys receive benefits from a provident fund, which is a defined benefit plan. Both the eligible employee and the Company make monthly contributions to the provident fund plan equal to a specified percentage of the covered employee's salary. The Company contributes a portion to the Infosys Limited Employees' Provident Fund Trust. The trust invests in specific designated instruments as permitted by Indian law. The remaining portion is contributed to the government administered pension fund. The rate at which the annual interest is payable to the beneficiaries by the trust is being administered by the Government of India. The Company has an obligation to make good the shortfall, if any, between the return from the investments of the trust and the notified interest rate.\\n\\nIn respect of Indian subsidiaries, eligible employees receive benefits from a provident fund, which is a defined contribution plan. Both the eligible employee and the respective companies make monthly contributions to this provident fund plan equal to a specified percentage of the covered employee's salary. Amounts collected under the provident fund plan are deposited in a government administered provident fund. The Companies have no further obligation to the plan beyond its monthly contributions.\\n\\n# Superannuation\\n\\nCertain employees of Infosys, Infosys BPM and EdgeVerve are participants in a defined contribution plan. The Group has no further obligations to the plan beyond its monthly contributions which are periodically contributed to a trust fund, the corpus of which is invested with the Life Insurance Corporation of India.\\n\\n# Compensated absences\\n\\nThe Group has a policy on compensated absences which are both accumulating and non-accumulating in nature. The expected cost of accumulating compensated absences is determined by actuarial valuation performed by an external actuary at each Balance Sheet date using projected unit credit method on the additional amount expected to be paid/availed as a result of the unused entitlement that has accumulated at the Balance Sheet date. Expense on non-accumulating compensated absences is recognized in the period in which the absences occur.\\n\\n31\", path=None, url=None, mimetype=None), image_resource=None, audio_resource=None, video_resource=None, text_template='{metadata_str}\\n\\n{content}'),\n",
              " Document(id_='a7eadc26-ffc7-425f-88db-c62a89e451e1', embedding=None, metadata={}, excluded_embed_metadata_keys=[], excluded_llm_metadata_keys=[], relationships={}, metadata_template='{key}: {value}', metadata_separator='\\n', text_resource=MediaResource(embeddings=None, data=None, text='# Financial Statements\\n\\n# Particulars\\n\\n|Particulars|Three months ended March 31, 2024|Three months ended March 31, 2023|Year ended March 31, 2024|Year ended March 31, 2023|\\n|---|---|---|---|---|\\n|Employee benefit expenses| | | | |\\n|Salaries including bonus|19,527|19,526|79,315|75,239|\\n|Contribution to provident and other funds|529|547|2,213|2,143|\\n|Share based payments to employees (Refer to Note 2.11)|225|133|652|519|\\n|Staff welfare|112|105|440|458|\\n|Total Employee benefit expenses|20,393|20,311|82,620|78,359|\\n|Cost of software packages and others| | | | |\\n|For own use|555|496|2,145|1,937|\\n|Third party items bought for service delivery to clients|3,132|2,390|11,370|8,965|\\n|Total Cost of software packages and others|3,687|2,886|13,515|10,902|\\n|Other expenses| | | | |\\n|Repairs and maintenance|316|331|1,278|1,208|\\n|Power and fuel|49|46|199|176|\\n|Brand and marketing|285|265|1,007|905|\\n|Rates and taxes|84|78|326|299|\\n|Consumables|47|41|170|158|\\n|Insurance|53|43|210|174|\\n|Provision for post-sales client support and others|(129)|(80)|75|120|\\n|Commission to non-whole time directors|5|4|16|15|\\n|Impairment loss recognized / (reversed) under expected credit loss model|(98)|86|121|283|\\n|Contributions towards Corporate Social Responsibility|182|151|533|471|\\n|Others|191|181|781|583|\\n|Total Other expenses|985|1,146|4,716|4,392|\\n\\n# 2.19 Leases\\n\\n# Accounting Policy\\n\\n# The Group as a lessee\\n\\nThe Group’s lease asset classes consist of leases for land, buildings and computers. The Group assesses whether a contract contains a lease, at inception of a contract. A contract is, or contains, a lease if the contract conveys the right to control the use of an identified asset for a period of time in exchange for consideration. To assess whether a contract conveys the right to control the use of an identified asset, the group assesses whether: (1) the contract involves the use of an identified asset (2) the Group has substantially all of the economic benefits from use of the asset through the period of the lease and (3) the Group has the right to direct the use of the asset.\\n\\nAt the date of commencement of the lease, the Group recognizes a right-of-use asset (“ROU”) and a corresponding lease liability for all lease arrangements in which it is a lessee, except for leases with a term of twelve months or less (short-term leases) and low value leases. For these short-term and low value leases, the Group recognizes the lease payments as an operating expense on a straight-line basis over the term of the lease.\\n\\nAs a lessee, the Group determines the lease term as the non-cancellable period of a lease adjusted with any option to extend or terminate the lease, if the use of such option is reasonably certain. The Group makes an assessment on the expected lease term on a lease-by-lease basis and thereby assesses whether it is reasonably certain that any options to extend or terminate the contract will be exercised. In evaluating the lease term, the Group considers factors such as any significant leasehold improvements undertaken over the lease term, costs relating to the termination of the lease and the importance of the underlying asset to Group’s operations taking into account the location of the underlying asset and the availability of suitable alternatives. The lease term in future periods is reassessed to ensure that the lease term reflects the current economic circumstances.\\n\\nCertain lease arrangements includes the options to extend or terminate the lease before the end of the lease term. ROU assets and lease liabilities includes these options when it is reasonably certain that they will be exercised.\\n\\nThe right-of-use assets are initially recognized at cost, which comprises the initial amount of the lease liability adjusted for any lease payments made at or prior to the commencement date of the lease plus any initial direct costs less any lease incentives. They are subsequently measured at cost less accumulated depreciation and impairment losses.\\n\\nRight-of-use assets are depreciated from the commencement date on a straight-line basis over the shorter of the lease term and useful life of the underlying asset.\\n\\nRight-of-use assets are evaluated for recoverability whenever events or changes in circumstances indicate that their carrying amounts may not be recoverable. For the purpose of impairment testing, the recoverable amount (i.e. the higher of the fair value less cost to sell and the value-in-use) is determined on an individual asset basis unless the asset does not generate cash flows that are largely independent of those from other assets. In such cases, the recoverable amount is determined for the Cash Generating Unit (CGU) to which the asset belongs.\\n\\nThe lease liability is initially measured at amortized cost at the present value of the future lease payments. The lease payments are discounted using the interest rate implicit in the lease or, if not readily determinable, using the incremental borrowing rates in the country of domicile of these leases. Lease liabilities are remeasured with a corresponding adjustment to the related right-of-use asset if the Group changes its assessment if whether it will exercise an extension or a termination option.\\n\\nLease liability and ROU asset have been separately presented in the Balance Sheet and lease payments have been classified as financing cash flows.', path=None, url=None, mimetype=None), image_resource=None, audio_resource=None, video_resource=None, text_template='{metadata_str}\\n\\n{content}'),\n",
              " Document(id_='44949fc1-2261-43e5-ae8b-4ae4f7ce6b8c', embedding=None, metadata={}, excluded_embed_metadata_keys=[], excluded_llm_metadata_keys=[], relationships={}, metadata_template='{key}: {value}', metadata_separator='\\n', text_resource=MediaResource(embeddings=None, data=None, text='# The Group as a lessor\\n\\nLeases for which the Group is a lessor is classified as a finance or operating lease. Whenever the terms of the lease transfer substantially all the risks and rewards of ownership to the lessee, the contract is classified as a finance lease. All other leases are classified as operating leases.\\n\\nWhen the Group is an intermediate lessor, it accounts for its interests in the head lease and the sublease separately. The sublease is classified as a finance or operating lease by reference to the right-of-use asset arising from the head lease.\\n\\nFor operating leases, rental income is recognized on a straight line basis over the term of the relevant lease.\\n\\n# Changes in the carrying value of right-of-use assets for the three months ended March 31, 2024:\\n\\n|Particulars|Category of ROU asset|Land|Buildings|Vehicles|Computers|Total|\\n|---|---|---|---|---|---|---|\\n|Balance as of January 1, 2024| |607|3,527|18|2,740|6,892|\\n|Additions*| |—|61|2|376|439|\\n|Deletions| |—|(92)|—|(215)|(307)|\\n|Impairment#| |—|—|—|—|—|\\n|Depreciation| |(2)|(185)|(2)|(234)|(423)|\\n|Translation difference| |—|(13)|(1)|(35)|(49)|\\n|Balance as of March 31, 2024| |605|3,298|17|2,632|6,552|\\n\\n* Net of adjustments on account of modifications\\n# included under other expenses. Refer note 2.18\\n\\n# Changes in the carrying value of right-of-use assets for the three months ended March 31, 2023:\\n\\n|Particulars|Category of ROU asset|Land|Buildings|Vehicles|Computers|Total|\\n|---|---|---|---|---|---|---|\\n|Balance as of January 1, 2023| |624|3,847|15|1,994|6,480|\\n|Additions*| |—|228|2|651|881|\\n|Deletions| |—|(33)|—|(124)|(157)|\\n|Depreciation| |(2)|(171)|(3)|(179)|(355)|\\n|Translation difference| |1|25|1|6|33|\\n|Balance as of March 31, 2023| |623|3,896|15|2,348|6,882|\\n\\n* Net of adjustments on account of modifications and lease incentives\\n\\n# Changes in the carrying value of right-of-use assets for the year ended March 31, 2024:\\n\\n|Particulars|Category of ROU asset|Land|Buildings|Vehicles|Computers|Total|\\n|---|---|---|---|---|---|---|\\n|Balance as of April 1, 2023| |623|3,896|15|2,348|6,882|\\n|Additions*| |—|394|12|1,872|2,278|\\n|Deletions| |(10)|(181)|(1)|(755)|(947)|\\n|Impairment #| |—|(88)|—|—|(88)|\\n|Depreciation| |(6)|(728)|(10)|(851)|(1,595)|\\n|Translation difference| |(2)|5|1|18|22|\\n|Balance as of March 31, 2024| |605|3,298|17|2,632|6,552|\\n\\n* Net of adjustments on account of modifications and lease incentives\\n# included under other expenses. Refer note 2.18\\n\\n# Changes in the carrying value of right-of-use assets for the year ended March 31, 2023:\\n\\n|Particulars|Category of ROU asset|Land|Buildings|Vehicles|Computers|Total|\\n|---|---|---|---|---|---|---|\\n|Balance as of April 1, 2022| |628|3,711|16|468|4,823|\\n|Additions*| |—|847|8|2,646|3,501|\\n|Deletions| |—|(45)|—|(364)|(409)|\\n|Depreciation| |(6)|(671)|(10)|(499)|(1,186)|\\n|Translation difference| |1|54|1|97|153|\\n|Balance as of March 31, 2023| |623|3,896|15|2,348|6,882|\\n\\n* Net of adjustments on account of modifications and lease incentives\\n\\nThe aggregate depreciation expense on ROU assets is included under depreciation and amortization expense in the interim condensed Consolidated Statement of Profit and Loss.\\n\\n# Break-up of current and non-current lease liabilities as at March 31, 2024 and March 31, 2023:\\n\\n|Particulars|As at|March 31, 2024|March 31, 2023|\\n|---|---|---|---|\\n|Current lease liabilities| |1,959|1,242|\\n|Non-current lease liabilities| |6,400|7,057|\\n|Total| |8,359|8,299|', path=None, url=None, mimetype=None), image_resource=None, audio_resource=None, video_resource=None, text_template='{metadata_str}\\n\\n{content}'),\n",
              " Document(id_='1d2a169a-b2db-4569-b7f6-6f9b7a9b47eb', embedding=None, metadata={}, excluded_embed_metadata_keys=[], excluded_llm_metadata_keys=[], relationships={}, metadata_template='{key}: {value}', metadata_separator='\\n', text_resource=MediaResource(embeddings=None, data=None, text=\"# 2.20 BASIC AND DILUTED SHARES USED IN COMPUTING EARNINGS PER EQUITY SHARE\\n\\nAccounting policy\\n\\nBasic earnings per equity share is computed by dividing the net profit attributable to the equity holders of the Group by the weighted average number of equity shares outstanding during the period. Diluted earnings per equity share is computed by dividing the net profit attributable to the equity holders of the Group by the weighted average number of equity shares considered for deriving basic earnings per equity share and also the weighted average number of equity shares that could have been issued upon conversion of all dilutive potential equity shares. The dilutive potential equity shares are adjusted for the proceeds receivable had the equity shares been actually issued at fair value (i.e. the average market value of the outstanding equity shares). Dilutive potential equity shares are deemed converted as at the beginning of the period, unless issued at a later date. Dilutive potential equity shares are determined independently for each period presented.\\n\\nThe number of equity shares and potentially dilutive equity shares are adjusted retrospectively for all periods presented for any share splits and bonus shares issues including for changes effected prior to the approval of the financial statements by the Board of Directors.\\n\\n# 2.21 CONTINGENT LIABILITIES AND COMMITMENTS\\n\\nAccounting policy\\n\\nContingent liability is a possible obligation arising from past events and whose existence will be confirmed only by the occurrence or non-occurrence of one or more uncertain future events not wholly within the control of the entity or a present obligation that arises from past events but is not recognized because it is not probable that an outflow of resources embodying economic benefits will be required to settle the obligation or the amount of the obligation cannot be measured with sufficient reliability.\\n\\n# 2.21.1 Contingent liability\\n\\n|Particulars|As at March 31, 2024|March 31, 2023|\\n|---|---|---|\\n|Contingent liabilities :| | |\\n|Claims against the Group, not acknowledged as debts(1)|3,583|4,762|\\n\\n[Amount paid to statutory authorities ₹8,754 crore (₹6,539 crore)]\\n\\n(1) As at March 31, 2024 and March 31, 2023, claims against the Group not acknowledged as debts in respect of income tax matters amounted to ₹2,794 crore and ₹4,062 crore, respectively.\\n\\nThe claims against the Group primarily represent demands arising on completion of assessment proceedings under the Income Tax Act, 1961. These claims are on account of issues of disallowance of expenditure towards software being held as capital in nature, payments made to Associated Enterprises held as liable for withholding of taxes, among others. These matters are pending before various Income Tax Authorities and the Management including its tax advisors expect that its position will likely be upheld on ultimate resolution and will not have a material adverse effect on the Group's financial position and results of operations.\\n\\nAmount paid to statutory authorities against the tax claims amounted to ₹8,743 crore and ₹6,528 crore as at March 31, 2024 and March 31, 2023, respectively.\", path=None, url=None, mimetype=None), image_resource=None, audio_resource=None, video_resource=None, text_template='{metadata_str}\\n\\n{content}'),\n",
              " Document(id_='3889e894-6f95-47f3-b509-f17976cac73b', embedding=None, metadata={}, excluded_embed_metadata_keys=[], excluded_llm_metadata_keys=[], relationships={}, metadata_template='{key}: {value}', metadata_separator='\\n', text_resource=MediaResource(embeddings=None, data=None, text='# 2.21.2 McCamish Cybersecurity incident\\n\\nIn November 2023, Infosys McCamish Systems (McCamish), a step-down subsidiary of Infosys Limited, experienced a cybersecurity incident resulting in the non-availability of certain applications and systems. McCamish initiated its incident response and engaged cybersecurity and other specialists to assist in its investigation of and response to the incident and remediation and restoration of impacted applications and systems. By December 31, 2023, McCamish, with external specialists’ assistance, substantially remediated and restored the affected applications and systems.\\n\\nLoss of contracted revenues and costs incurred with respect to remediations, restoration, communication efforts, investigative processes and analysis, legal services and others amounted to $38 million (approximately ₹316 crore).\\n\\nActions taken by McCamish included investigative analysis conducted by a third-party cybersecurity firm to determine, among other things, whether and the extent to which company or customer data was subject to unauthorized access or exfiltration. McCamish also engaged a third-party eDiscovery vendor in assessing the extent and nature of such data. McCamish in coordination with its third-party eDiscovery vendor has identified corporate customers and individuals whose information was subject to unauthorized access and exfiltration. McCamish’s review process is ongoing. McCamish may incur additional costs including indemnities or damages/claims, which are indeterminable at this time.\\n\\nOn March 6, 2024, a class action complaint was filed in the U.S. District Court for the Northern District of Georgia against McCamish. The complaint arises out of the cybersecurity incident at McCamish initially disclosed on November 3, 2023. The complaint was purportedly filed on behalf of all individuals within the United States whose personally identifiable information was exposed to unauthorized third parties as a result of the incident.\\n\\n# 2.21.3 Legal Proceedings\\n\\nApart from this, the Group is subject to legal proceedings and claims, which have arisen in the ordinary course of business. The Group’s management reasonably expects that such ordinary course legal actions, when ultimately concluded and determined, will not have a material and adverse effect on the Group’s results of operations or financial condition.\\n\\n# 2.21.4 Commitments\\n\\n|Particulars|As at March 31, 2024|March 31, 2023|\\n|---|---|---|\\n|Estimated amount of contracts remaining to be executed on capital contracts and not provided for (net of advances and deposits)(1)|780|959|\\n|Other commitments*|79|92|\\n\\n(1) Capital contracts primarily comprises of commitments for infrastructure facilities and computer equipment.\\n\\n* Uncalled capital pertaining to investments', path=None, url=None, mimetype=None), image_resource=None, audio_resource=None, video_resource=None, text_template='{metadata_str}\\n\\n{content}'),\n",
              " Document(id_='3debf71f-57d0-443b-80d9-05e04023af78', embedding=None, metadata={}, excluded_embed_metadata_keys=[], excluded_llm_metadata_keys=[], relationships={}, metadata_template='{key}: {value}', metadata_separator='\\n', text_resource=MediaResource(embeddings=None, data=None, text=\"# 2.22 RELATED PARTY TRANSACTIONS\\n\\nRefer to the Company's Annual Report for the year ended March 31, 2023 for the full names and other details of the Company's subsidiaries and controlled trusts.\\n\\n# Changes in Subsidiaries\\n\\nDuring the year ended March 31, 2024, the following are the changes in the subsidiaries.\\n\\n- Infosys Americas Inc., (Infosys Americas) a Wholly-owned subsidiary of Infosys Limited is liquidated effective July 14, 2023.\\n- oddity GmbH renamed as WongDoody GmbH (formerly known as oddity GmbH).\\n- On September 29, 2023, oddity space GmbH, oddity waves GmbH, oddity jungle GmbH, oddity group services GmbH and oddity code GmbH merged into WongDoody GmbH and oddity code d.o.o which was formerly a subsidiary of oddity code Gmbh has become a subsidiary of Wongdoody Gmbh (formerly known as oddity GmbH).\\n- On September 1, 2023 Infosys Ltd. acquired 100% of voting interests in Danske IT and Support Services India Private Limited (“Danske IT”). Danske IT renamed as Idunn Information Technology Private Limited from April 1, 2024.\\n- Infosys BPM Canada Inc, a Wholly-owned subsidiary of Infosys BPM Limited was incorporated on August 11, 2023.\\n- Kaleidoscope Prototyping LLC, a Wholly-owned subsidiary of Kaleidoscope Animations is liquidated effective November 1, 2023.\\n- oddity Code d.o.o renamed as WongDoody d.o.o.\\n- On November 24, 2023 Stater Participations B.V (Wholly-owned subsidiary of Stater N.V) merged with Stater N.V and Stater Belgium N.V./S.A which was formerly a wholly owned subsidiary of Stater Participations B.V. became a wholly owned subsidiary of Stater N.V.\\n- On March 15, 2024, Infosys BPM Canada Inc, a Wholly-owned subsidiary of Infosys BPM Limited was dissolved. oddity Limited (Taipei) renamed as WongDoody limited (Taipei) and oddity (Shanghai) Co., Ltd. renamed as WongDoody (Shanghai) Co. Limited.\\n\\n# Changes in key management personnel\\n\\nThe following are the changes in the key management personnel:\\n\\n# Non-whole-time Directors\\n\\n- Uri Levine (retired as independent director effective April 19, 2023)\\n- Helene Auriol Potier (appointed as independent director effective May 26, 2023)\\n- Nitin Paranjpe (appointed as an additional and independent director effective January 1, 2024)\\n\\n# Executive Officers:\\n\\n- Mohit Joshi (resigned as President effective March 11, 2023 and was on leave till June 9, 2023 which was his last date with the company)\\n- Nilanjan Roy (resigned as Chief Financial Officer of the Company effective March 31, 2024)\\n- Jayesh Sanghrajka (appointed as Chief Financial Officer effective April 1, 2024)\\n\\n# Transaction with key management personnel:\\n\\nThe table below describes the compensation to key management personnel which comprise directors and executive officers:\\n\\n|Particulars|Three months ended March 31|Three months ended March 31|Year ended March 31|Year ended March 31|\\n|---|---|---|\\n| |2024|2023|2024|2023|\\n|Salaries and other short term employee benefits to whole-time directors and executive officers (1)(2)|30|25|113|111|\\n|Commission and other benefits to non-executive/independent directors|5|4|17|16|\\n|Total|35|29|130|127|\\n\\n(1) Total employee stock compensation expense for the three months ended March 31, 2024 and March 31, 2023 includes a charge of ₹17 crore and 8 crore, respectively, towards key management personnel. For the year ended March 31, 2024 and March 31, 2023 includes a charge of ₹68 crore and ₹49 crore, respectively, towards key management personnel (Refer to Note 2.11).\\n\\n(2) Does not include post-employment benefits and other long-term benefits based on actuarial valuation as these are done for the Company as a whole.\", path=None, url=None, mimetype=None), image_resource=None, audio_resource=None, video_resource=None, text_template='{metadata_str}\\n\\n{content}'),\n",
              " Document(id_='0217a6c2-45d9-45df-a250-d017b540344b', embedding=None, metadata={}, excluded_embed_metadata_keys=[], excluded_llm_metadata_keys=[], relationships={}, metadata_template='{key}: {value}', metadata_separator='\\n', text_resource=MediaResource(embeddings=None, data=None, text='# OA81XOA91X2.23 SEGMENT REPORTING\\n\\nInd AS 108, Operating segments, establishes standards for the way that public business enterprises report information about operating segments and related disclosures about products and services, geographic areas, and major customers. The Group\\'s operations predominantly relate to providing end-to-end business solutions to enable clients to enhance business performance. The Chief Operating Decision Maker (CODM) evaluates the Group\\'s performance and allocates resources based on an analysis of various performance indicators by business segments. Accordingly, information has been presented along business segments. The accounting principles used in the preparation of the financial statements are consistently applied to record revenue and expenditure in individual segments, and are as set out in the accounting policies.\\n\\nBusiness segments of the Group are primarily enterprises in Financial Services and Insurance, enterprises in Manufacturing, enterprises in Retail, Consumer Packaged Goods and Logistics, enterprises in the Energy, Utilities, Resources and Services, enterprises in Communication, Telecom OEM and Media, enterprises in Hi-Tech, enterprises in Life Sciences and Healthcare and all other segments. The Financial services reportable segments has been aggregated to include the Financial Services operating segment and Finacle operating segment because of the similarity of the economic characteristics. All other segments represent the operating segments of businesses in India, Japan, China, Infosys Public Services & other enterprises in Public Services.\\n\\nRevenue and identifiable operating expenses in relation to segments are categorized based on items that are individually identifiable to that segment. Revenue for \\'all other segments\\' represents revenue generated by Infosys Public services and revenue generated from customers located in India, Japan and China and other enterprises in Public services. Allocated expenses of segments include expenses incurred for rendering services from the Group\\'s offshore software development centers and on-site expenses, which are categorized in relation to the associated efforts of the segment. Certain expenses such as depreciation and amortization, which form a significant component of total expenses, are not specifically allocable to specific segments as the underlying assets are used interchangeably. The Management believes that it is not practical to provide segment disclosures relating to those costs and expenses, and accordingly these expenses are separately disclosed as \"unallocated\" and adjusted against the total income of the Group.\\n\\nAssets and liabilities used in the Group\\'s business are not identified to any of the reportable segments, as these are used interchangeably between segments. The Management believes that it is currently not practicable to provide segment disclosures relating to total assets and liabilities since a meaningful segregation of the available data is onerous.\\n\\nBusiness segment revenue information is collated based on individual customers invoiced or in relation to which the revenue is otherwise recognized.\\n\\nDisclosure of revenue by geographic locations is given in note 2.16 Revenue from operations.\\n\\n# Business Segments\\n\\n# Three months ended March 31, 2024 and March 31, 2023:\\n\\n| |Financial Services (1)*|Retail (2)|Communication (3)|Energy, Utilities, Resources and Services|Manufacturing|Hi-Tech|Life Sciences (4)|All other segments (5)|Total| |\\n|---|---|---|---|---|---|---|---|---|---|---|\\n|Revenue from operations| |10,010|5,429|4,666|5,068|5,589|3,316|2,762|1,083|37,923|\\n| | |10,818|5,537|4,411|4,825|5,078|2,989|2,681|1,102|37,441|\\n|Identifiable operating expenses| |6,042|2,591|3,033|2,717|3,656|1,995|1,639|652|22,325|\\n| | |6,161|2,869|2,613|2,614|3,248|1,734|1,514|701|21,454|\\n|Allocated expenses| |2,027|974|823|920|852|518|491|209|6,814|\\n| | |2,057|1,034|840|909|928|505|462|254|6,989|\\n|Segment operating income| |1,941|1,864|810|1,431|1,081|803|632|222|8,784|\\n| | |2,600|1,634|958|1,302|902|750|705|147|8,998|\\n|Unallocable expenses| | | | | | | |1,163| | |\\n| | | | | | | | |1,121| | |\\n|Other income, net (Refer to Note 2.17)| | | | | | | |2,729| | |\\n| | | | | | | | |671| | |\\n|Finance cost| | | | | | | |110| | |\\n| | | | |82| | | | | | |\\n|Profit before tax| | | | | | | |10,240| | |\\n| | | | | | | | |8,466| | |\\n|Income tax expense| | | | | | | |2,265| | |\\n| | | | | | | | |2,332| | |\\n|Net Profit| | | | | | | |7,975| | |\\n| | | | | | | | |6,134| | |\\n|Depreciation and amortization| | | | | | | |1,163| | |\\n| | | | | | | | |1,121| | |\\n|Non-cash expenses other than depreciation and amortization| | | | | | | |—| | |\\n| | | | | | | | |—| | |', path=None, url=None, mimetype=None), image_resource=None, audio_resource=None, video_resource=None, text_template='{metadata_str}\\n\\n{content}'),\n",
              " Document(id_='c9951488-6ee5-44b2-ab4c-941e929abc07', embedding=None, metadata={}, excluded_embed_metadata_keys=[], excluded_llm_metadata_keys=[], relationships={}, metadata_template='{key}: {value}', metadata_separator='\\n', text_resource=MediaResource(embeddings=None, data=None, text='# Year ended March 31, 2024 and March 31, 2023:\\n\\n|(In ₹ crore)|Financial Services (1)*|Retail (2)|Communication (3)|Energy, Utilities, and Resources|Manufacturing| |Hi-Tech|Life Sciences (4)|All other segments (5)|Total| |\\n|---|---|---|---|---|---|---|---|---|---|---|---|\\n|Revenue from operations|42,158|22,504|17,991|20,035|22,298|12,411|11,515|4,758| |153,670| |\\n| |43,763|21,204|18,086|18,539|19,035|11,867|10,085|4,188|146,767| | |\\n|Identifiable operating expenses|24,782|11,704|11,071|10,838|14,596|7,232|6,716|2,938| |89,877| |\\n| |24,990|10,892|11,101|9,923|12,493|6,959|5,834|2,801| |84,993| |\\n|Allocated expenses|8,052|3,918|3,232|3,674|3,505|2,026|1,901| |1,060|27,368| |\\n| |7,930|3,916|3,226|3,461|3,429|1,949|1,685|1,048| |26,644| |\\n|Segment operating income|9,324|6,882|3,688|5,523|4,197|3,153|2,898| |760|36,425| |\\n| |10,843|6,396|3,759|5,155|3,113|2,959|2,566|339| |35,130| |\\n|Unallocable expenses| | | | | | | | | | |4,678|\\n| | | | | | | | | | | |4,225|\\n|Other income, net (Refer to Note 2.17)| | | | | | | | | | |4,711|\\n| | | | | | | | | | | |2,701|\\n|Finance cost| | | | | | | | | | |470|\\n| | | | | | | | | | | |284|\\n|Profit before tax| | | | | | | | | | |35,988|\\n| | | | | | | | | | | |33,322|\\n|Income tax expense| | | | | | | | | | |9,740|\\n| | | | | | | | | | | |9,214|\\n|Net Profit| | | | | | | | | | |26,248|\\n| | | | | | | | | | | |24,108|\\n|Depreciation and amortization expense| | | | | | | | | | |4,678|\\n| | | | | | | | | | | |4,225|\\n|Non-cash expenses other than depreciation and amortization| | | | | | | | | | |—|\\n| | | | | | | | | | | |—|\\n\\n(1) Financial Services include enterprises in Financial Services and Insurance\\n\\n(2) Retail includes enterprises in Retail, Consumer Packaged Goods and Logistics\\n\\n(3) Communication includes enterprises in Communication, Telecom OEM and Media\\n\\n(4) Life Sciences includes enterprises in Life sciences and Health care\\n\\n(5) Others include operating segments of businesses in India, Japan, China, Infosys Public Services & other enterprises in Public Services\\n\\n* Includes impact on account of McCamish cybersecurity incident. Refer note 2.21.3.\\n\\n# Significant clients\\n\\nNo client individually accounted for more than 10% of the revenues for the three months and year ended March 31, 2024 and March 31, 2023, respectively.', path=None, url=None, mimetype=None), image_resource=None, audio_resource=None, video_resource=None, text_template='{metadata_str}\\n\\n{content}'),\n",
              " Document(id_='02a14074-d2c8-4c6c-9f72-12881c175605', embedding=None, metadata={}, excluded_embed_metadata_keys=[], excluded_llm_metadata_keys=[], relationships={}, metadata_template='{key}: {value}', metadata_separator='\\n', text_resource=MediaResource(embeddings=None, data=None, text='# 2.24 FUNCTION WISE CLASSIFICATION OF CONDENSED CONSOLIDATED STATEMENT OF PROFIT AND LOSS\\n\\n|Particulars|Note No.|Three months ended March 31, 2024|Three months ended March 31, 2023|Year ended March 31, 2024|Year ended March 31, 2023|\\n|---|---|---|---|---|---|\\n|Revenue from operations|2.16|37,923|37,441|153,670|146,767|\\n|Cost of Sales| |26,748|26,011|107,413|102,353|\\n|Gross profit| |11,175|11,430|46,257|44,414|\\n|Operating expenses| | | | | |\\n|Selling and marketing expenses| |1,735|1,659|6,973|6,249|\\n|General and administration expenses| |1,819|1,894|7,537|7,260|\\n|Total operating expenses| |3,554|3,553|14,510|13,509|\\n|Operating profit| |7,621|7,877|31,747|30,905|\\n|Other income, net|2.17|2,729|671|4,711|2,701|\\n|Finance cost| |110|82|470|284|\\n|Profit before tax| |10,240|8,466|35,988|33,322|\\n|Tax expense:| | | | | |\\n|Current tax|2.15|1,173|2,260|8,390|9,287|\\n|Deferred tax|2.15|1,092|72|1,350|(73)|\\n|Profit for the period| |7,975|6,134|26,248|24,108|\\n|Other comprehensive income| | | | | |\\n|Items that will not be reclassified subsequently to profit or loss| | | | | |\\n|Remeasurement of the net defined benefit liability/asset, net| |26|25|120|8|\\n|Equity instruments through other comprehensive income, net| |(12)|(15)|19|(7)|\\n| | |14|10|139|1|\\n|Items that will be reclassified subsequently to profit or loss| | | | | |\\n|Fair value changes on derivatives designated as cash flow hedge, net| |28|36|11|(7)|\\n|Exchange differences on translation of foreign operations| |(231)|61|226|776|\\n|Fair value changes on investments, net| |37|42|144|(256)|\\n| | |(166)|139|381|513|\\n|Total other comprehensive income / (loss), net of tax| |(152)|149|520|514|\\n|Total comprehensive income for the period| |7,823|6,283|26,768|24,622|\\n|Profit attributable to:| | | | | |\\n|Owners of the Company| |7,969|6,128|26,233|24,095|\\n|Non-controlling interests| |6|6|15|13|\\n| | |7,975|6,134|26,248|24,108|\\n|Total comprehensive income attributable to:| | | | | |\\n|Owners of the Company| |7,821|6,276|26,754|24,598|\\n|Non-controlling interests| |2|7|14|24|\\n| | |7,823|6,283|26,768|24,622|\\n\\nfor and on behalf of the Board of Directors of Infosys Limited\\n\\nD. Sundaram Lead Independent Director\\n\\nSalil Parekh Chief Executive Officer and Managing Director\\n\\nBobby Parikh Director\\n\\nBengaluru\\n\\nJayesh Sanghrajka Chief Financial Officer\\n\\nA.G.S. Manikantha Company Secretary\\n\\nApril 18, 2024', path=None, url=None, mimetype=None), image_resource=None, audio_resource=None, video_resource=None, text_template='{metadata_str}\\n\\n{content}')]"
            ]
          },
          "metadata": {},
          "execution_count": 10
        }
      ]
    },
    {
      "cell_type": "code",
      "source": [
        "import re\n",
        "def categorized_data(data):\n",
        "  categories = {}\n",
        "  table_count = 1\n",
        "  text_count = 1\n",
        "  for item in data:\n",
        "    content = item.text\n",
        "    if re.search(r\"\\|\", content):\n",
        "      category = f\"table{table_count}\"\n",
        "      categories.setdefault(category, []).append(content)\n",
        "      table_count += 1\n",
        "    else:\n",
        "      category = f\"text{text_count}\"\n",
        "      categories.setdefault(category, []).append(content)\n",
        "      text_count += 1\n",
        "\n",
        "  return categories\n",
        "\n",
        "category_data = categorized_data(data)"
      ],
      "metadata": {
        "id": "9GJRJ5d22THu"
      },
      "id": "9GJRJ5d22THu",
      "execution_count": 5,
      "outputs": []
    },
    {
      "cell_type": "code",
      "source": [
        "len(category_data)"
      ],
      "metadata": {
        "colab": {
          "base_uri": "https://localhost:8080/"
        },
        "id": "0jYGjqKe3g60",
        "outputId": "99b80862-90c1-4fbe-95b8-b8220bb68236"
      },
      "id": "0jYGjqKe3g60",
      "execution_count": null,
      "outputs": [
        {
          "output_type": "execute_result",
          "data": {
            "text/plain": [
              "40"
            ]
          },
          "metadata": {},
          "execution_count": 12
        }
      ]
    },
    {
      "cell_type": "code",
      "source": [
        "from IPython.display import HTML, display, Markdown\n",
        "Markdown(category_data['table2'][0])"
      ],
      "metadata": {
        "colab": {
          "base_uri": "https://localhost:8080/",
          "height": 1000
        },
        "id": "hPdjolbv59I4",
        "outputId": "2fe0c347-f8a4-4e6d-aa07-e066c186eb41",
        "collapsed": true
      },
      "id": "hPdjolbv59I4",
      "execution_count": null,
      "outputs": [
        {
          "output_type": "execute_result",
          "data": {
            "text/plain": [
              "<IPython.core.display.Markdown object>"
            ],
            "text/markdown": "# INFOSYS LIMITED AND SUBSIDIARIES\n\n# (In ₹ crore)\n\n# Condensed Consolidated Balance Sheets as at\n\n| | |Note No.|March 31, 2024|March 31, 2023|\n|---|---|---|---|---|\n|ASSETS| | | | |\n|Non-current assets| | | | |\n|Property, plant and equipment|2.2|12,370|13,346| |\n|Right-of-use assets|2.19|6,552|6,882| |\n|Capital work-in-progress| |293|288| |\n|Goodwill|2.3|7,303|7,248| |\n|Other intangible assets| |1,397|1,749| |\n|Financial assets| | | | |\n|Investments|2.4|11,708|12,569| |\n|Loans|2.5|34|39| |\n|Other financial assets|2.6|3,105|2,798| |\n|Deferred tax assets (net)| |454|1,245| |\n|Income tax assets (net)| |3,045|6,453| |\n|Other non-current assets|2.9|2,121|2,318| |\n|Total non-current assets| |48,382|54,935| |\n|Current assets| | | | |\n|Financial assets| | | | |\n|Investments|2.4|12,915|6,909| |\n|Trade receivables|2.7|30,193|25,424| |\n|Cash and cash equivalents|2.8|14,786|12,173| |\n|Loans|2.5|248|289| |\n|Other financial assets|2.6|12,085|11,604| |\n|Income tax assets (net)| |6,397|6| |\n|Other current assets|2.9|12,808|14,476| |\n|Total current assets| |89,432|70,881| |\n|Total assets| |137,814|125,816| |\n|EQUITY AND LIABILITIES| | | | |\n|Equity| | | | |\n|Equity share capital|2.11|2,071|2,069| |\n|Other equity| |86,045|73,338| |\n|Total equity attributable to equity holders of the Company| |88,116|75,407| |\n|Non-controlling interests| |345|388| |\n|Total equity| |88,461|75,795| |\n|Liabilities| | | | |\n|Non-current liabilities| | | | |\n|Financial Liabilities| | | | |\n|Lease liabilities|2.19|6,400|7,057| |\n|Other financial liabilities|2.12|2,130|2,058| |\n|Deferred tax liabilities (net)| |1,794|1,220| |\n|Other non-current liabilities|2.13|235|500| |\n|Total non-current liabilities| |10,559|10,835| |\n|Current liabilities| | | | |\n|Financial Liabilities| | | | |\n|Lease liabilities|2.19|1,959|1,242| |\n|Trade payables| |3,956|3,865| |\n|Other financial liabilities|2.12|16,959|18,558| |\n|Other current liabilities|2.13|10,539|10,830| |\n|Provisions|2.14|1,796|1,307| |\n|Income tax liabilities (net)| |3,585|3,384| |\n|Total current liabilities| |38,794|39,186| |\n|Total equity and liabilities| |137,814|125,816| |\n\nThe accompanying notes form an integral part of the interim condensed consolidated financial statements\n\nAs per our report of even date attached\n\nfor  Deloitte Haskins & Sells LLP                                                  for and on behalf of the Board of Directors of Infosys Limited\n\nChartered Accountants\n\nFirm’s Registration No :\n\n117366W/ W-100018\n\nSanjiv V. Pilgaonkar                                                               D. Sundaram                                                     Salil Parekh                                                 Bobby Parikh\n\nPartner                                                                            Lead Independent Director                                       Chief Executive Officer                                      Director\n\nMembership No. 039826                                                                                                                              and Managing Director\n\nBengaluru                                                                          Jayesh Sanghrajka                                               A.G.S. Manikantha\n\nApril 18, 2024                                                                     Chief Financial Officer                                         Company Secretary"
          },
          "metadata": {},
          "execution_count": 19
        }
      ]
    },
    {
      "cell_type": "markdown",
      "source": [
        "#### Load Connection to LLM\n"
      ],
      "metadata": {
        "id": "2oeckxFBcc0E"
      },
      "id": "2oeckxFBcc0E"
    },
    {
      "cell_type": "code",
      "source": [
        "from google.colab import userdata\n",
        "api_key = userdata.get('GEMINI_API_KEY')"
      ],
      "metadata": {
        "id": "cv3JzCEx_PAd"
      },
      "execution_count": 6,
      "outputs": [],
      "id": "cv3JzCEx_PAd"
    },
    {
      "cell_type": "code",
      "source": [
        "from langchain_google_genai import ChatGoogleGenerativeAI\n",
        "\n",
        "llm = ChatGoogleGenerativeAI(model='gemini-1.5-flash', temperature=0,api_key=api_key)"
      ],
      "metadata": {
        "id": "vHa9LMOfcOCV"
      },
      "execution_count": 8,
      "outputs": [],
      "id": "vHa9LMOfcOCV"
    },
    {
      "cell_type": "markdown",
      "id": "0aa7f52f-bf5c-4ba4-af72-b2ccba59a4cf",
      "metadata": {
        "id": "0aa7f52f-bf5c-4ba4-af72-b2ccba59a4cf"
      },
      "source": [
        "### Text and Table summaries\n",
        "\n",
        "We will use gemini-1.5-flash to produce table and, text summaries.\n",
        "\n",
        "Text summaries are advised if using large chunk sizes.\n",
        "\n",
        "Summaries are used to retrieve raw tables and / or raw chunks of text."
      ]
    },
    {
      "cell_type": "code",
      "execution_count": 9,
      "id": "523e6ed2-2132-4748-bdb7-db765f20648d",
      "metadata": {
        "id": "523e6ed2-2132-4748-bdb7-db765f20648d"
      },
      "outputs": [],
      "source": [
        "from langchain_core.output_parsers import StrOutputParser\n",
        "from langchain_core.prompts import ChatPromptTemplate\n",
        "from langchain_core.runnables import RunnablePassthrough\n",
        "\n",
        "prompt_text = \"\"\"\n",
        "You are an assistant tasked with summarizing tables and text particularly for semantic retrieval.\n",
        "These summaries will be embedded and used to retrieve the raw text or table elements\n",
        "Give a detailed summary of the table or text below that is well optimized for retrieval.\n",
        "For any tables also add in a one line description of what the table is about besides the summary.\n",
        "Do not add additional words like Summary: etc.\n",
        "\n",
        "Table or text chunk:\n",
        "{element}\n",
        "\"\"\"\n",
        "prompt = ChatPromptTemplate.from_template(prompt_text)\n",
        "\n",
        "summarize_chain = (\n",
        "                    {\"element\": RunnablePassthrough()}\n",
        "                      |\n",
        "                    prompt\n",
        "                      |\n",
        "                    llm\n",
        "                      |\n",
        "                    StrOutputParser()\n",
        ")"
      ]
    },
    {
      "cell_type": "code",
      "source": [
        "text_docs = []\n",
        "table_docs = []\n",
        "\n",
        "for item in category_data.keys():\n",
        "    if item.startswith('table'):\n",
        "        table_docs.append(category_data[item][0])\n",
        "    else:\n",
        "        text_docs.append(category_data[item][0])\n",
        "\n",
        "len(text_docs), len(table_docs)"
      ],
      "metadata": {
        "colab": {
          "base_uri": "https://localhost:8080/"
        },
        "id": "05ik72_i5kcj",
        "outputId": "84f5bef8-818a-4a05-a5fe-277875b79f14"
      },
      "id": "05ik72_i5kcj",
      "execution_count": 10,
      "outputs": [
        {
          "output_type": "execute_result",
          "data": {
            "text/plain": [
              "(7, 33)"
            ]
          },
          "metadata": {},
          "execution_count": 10
        }
      ]
    },
    {
      "cell_type": "code",
      "source": [
        "import time\n",
        "\n",
        "text_summaries = []\n",
        "table_summaries = []\n",
        "\n",
        "for doc in text_docs:\n",
        "    text_summaries.append(summarize_chain.invoke({'element': doc}))\n",
        "    time.sleep(3)\n",
        "\n",
        "for doc in table_docs:\n",
        "    table_summaries.append(summarize_chain.invoke({'element': doc}))\n",
        "    time.sleep(3)\n",
        "\n",
        "len(text_summaries), len(table_summaries)"
      ],
      "metadata": {
        "colab": {
          "base_uri": "https://localhost:8080/"
        },
        "id": "ua-_CQbw5T5L",
        "outputId": "e7406627-c86f-4e20-c8a2-504e8fa5be0d"
      },
      "id": "ua-_CQbw5T5L",
      "execution_count": 11,
      "outputs": [
        {
          "output_type": "execute_result",
          "data": {
            "text/plain": [
              "(7, 33)"
            ]
          },
          "metadata": {},
          "execution_count": 11
        }
      ]
    },
    {
      "cell_type": "code",
      "source": [
        "text_summaries[0]"
      ],
      "metadata": {
        "colab": {
          "base_uri": "https://localhost:8080/",
          "height": 104
        },
        "id": "fISIB_hvLOkv",
        "outputId": "9e4e5e42-f15e-4ab9-ed88-874bca0b8f75"
      },
      "id": "fISIB_hvLOkv",
      "execution_count": 12,
      "outputs": [
        {
          "output_type": "execute_result",
          "data": {
            "text/plain": [
              "\"Infosys Limited's interim condensed consolidated financial statements overview, prepared according to Ind AS 34 and the Companies Act, 2013, covers the period ending April 18, 2024.  The statements consolidate Infosys, its subsidiaries, and controlled trusts, using a line-by-line basis with elimination of intra-group transactions.  The report details the basis of preparation, including accounting policies and the use of estimates and judgments, referencing specific notes for further detail.  It emphasizes that the interim statements are not a complete set of financial statements and should be read in conjunction with the annual report.  The company's business is described as providing consulting, technology, outsourcing, and digital services.\""
            ],
            "application/vnd.google.colaboratory.intrinsic+json": {
              "type": "string"
            }
          },
          "metadata": {},
          "execution_count": 12
        }
      ]
    },
    {
      "cell_type": "code",
      "source": [
        "table_summaries[0]"
      ],
      "metadata": {
        "colab": {
          "base_uri": "https://localhost:8080/",
          "height": 104
        },
        "id": "pdQdx9VWI41P",
        "outputId": "8ea2c7ec-eb0a-42c6-e867-4cc8a213383a"
      },
      "id": "pdQdx9VWI41P",
      "execution_count": 13,
      "outputs": [
        {
          "output_type": "execute_result",
          "data": {
            "text/plain": [
              "\"Infosys Limited and Subsidiaries' condensed consolidated financial statements for the three months and year ended March 31, 2024, including balance sheet, profit and loss statement, statement of changes in equity, and statement of cash flows.  The document also contains an overview and detailed notes covering business combinations, assets (property, plant & equipment, investments, receivables, cash), liabilities (financial liabilities, provisions, taxes), income, expenses, leases, equity, earnings per share, contingent liabilities, related party transactions, and segment reporting.\\n\\nTable description: Index of Infosys's condensed consolidated financial statements and accompanying notes.\""
            ],
            "application/vnd.google.colaboratory.intrinsic+json": {
              "type": "string"
            }
          },
          "metadata": {},
          "execution_count": 13
        }
      ]
    },
    {
      "cell_type": "markdown",
      "id": "67b030d4-2ac5-41b6-9245-fc3ba5771d87",
      "metadata": {
        "id": "67b030d4-2ac5-41b6-9245-fc3ba5771d87"
      },
      "source": [
        "### Add to vectorstore\n",
        "\n",
        "Add raw docs and doc summaries to Vector Retriever\n",
        "\n",
        "* Store the raw texts, tables, and images in the `docstore` (here we are using Redis).\n",
        "* Store the texts, table summaries in the `vectorstore` (here we are using Chroma) for efficient semantic retrieval."
      ]
    },
    {
      "cell_type": "code",
      "source": [
        "%%sh\n",
        "curl -fsSL https://packages.redis.io/gpg | sudo gpg --dearmor -o /usr/share/keyrings/redis-archive-keyring.gpg\n",
        "echo \"deb [signed-by=/usr/share/keyrings/redis-archive-keyring.gpg] https://packages.redis.io/deb $(lsb_release -cs) main\" | sudo tee /etc/apt/sources.list.d/redis.list\n",
        "sudo apt-get update  > /dev/null 2>&1\n",
        "sudo apt-get install redis-stack-server  > /dev/null 2>&1\n",
        "redis-stack-server --daemonize yes"
      ],
      "metadata": {
        "colab": {
          "base_uri": "https://localhost:8080/"
        },
        "id": "KZp6Y_w5OC2m",
        "outputId": "8da4e8fb-e582-411c-a16b-619566506f2c"
      },
      "id": "KZp6Y_w5OC2m",
      "execution_count": 14,
      "outputs": [
        {
          "output_type": "stream",
          "name": "stdout",
          "text": [
            "deb [signed-by=/usr/share/keyrings/redis-archive-keyring.gpg] https://packages.redis.io/deb jammy main\n",
            "Starting redis-stack-server, database path /var/lib/redis-stack\n"
          ]
        }
      ]
    },
    {
      "cell_type": "markdown",
      "source": [
        "### Google AI Embedding Models\n",
        "\n",
        "LangChain enables us to access Google AI embedding models."
      ],
      "metadata": {
        "id": "M8nHAP7XOGOj"
      },
      "id": "M8nHAP7XOGOj"
    },
    {
      "cell_type": "code",
      "source": [
        "from langchain_google_genai import GoogleGenerativeAIEmbeddings\n",
        "\n",
        "geminiai_embed_model = GoogleGenerativeAIEmbeddings(model='models/embedding-001',google_api_key=api_key)"
      ],
      "metadata": {
        "id": "jzrIVI2NAHC1"
      },
      "execution_count": 15,
      "outputs": [],
      "id": "jzrIVI2NAHC1"
    },
    {
      "cell_type": "code",
      "execution_count": 33,
      "id": "24a0a289-b970-49fe-b04f-5d857a4c159b",
      "metadata": {
        "id": "24a0a289-b970-49fe-b04f-5d857a4c159b"
      },
      "outputs": [],
      "source": [
        "import uuid\n",
        "from langchain.retrievers.multi_vector import MultiVectorRetriever\n",
        "from langchain_community.storage import RedisStore\n",
        "from langchain_community.utilities.redis import get_client\n",
        "from langchain_chroma import Chroma\n",
        "from langchain_core.documents import Document\n",
        "\n",
        "\n",
        "def create_multi_vector_retriever(docstore, vectorstore, text_summaries, texts, table_summaries, tables):\n",
        "\n",
        "    id_key = \"doc_id\"\n",
        "    # Create the multi-vector retriever\n",
        "    retriever = MultiVectorRetriever(\n",
        "        vectorstore=vectorstore,\n",
        "        docstore=docstore,\n",
        "        id_key=id_key,\n",
        "    )\n",
        "\n",
        "    # Helper function to add documents to the vectorstore and docstore\n",
        "    def add_documents(retriever, doc_summaries, doc_contents):\n",
        "        doc_ids = [str(uuid.uuid4()) for _ in doc_contents]\n",
        "        summary_docs = [\n",
        "            Document(page_content=s, metadata={id_key: doc_ids[i]})\n",
        "            for i, s in enumerate(doc_summaries)\n",
        "        ]\n",
        "        retriever.vectorstore.add_documents(summary_docs)\n",
        "        retriever.docstore.mset(list(zip(doc_ids, doc_contents)))\n",
        "    # Check that text_summaries is not empty before adding\n",
        "    if text_summaries:\n",
        "        add_documents(retriever, text_summaries, texts)\n",
        "    # Check that table_summaries is not empty before adding\n",
        "    if table_summaries:\n",
        "        add_documents(retriever, table_summaries, tables)\n",
        "\n",
        "    return retriever\n",
        "\n",
        "\n",
        "# The vectorstore to use to index the summaries and their embeddings\n",
        "chroma_db = Chroma(\n",
        "    collection_name=\"mm_rag\",\n",
        "    embedding_function=geminiai_embed_model,\n",
        "    collection_metadata={\"hnsw:space\": \"cosine\"},\n",
        ")\n",
        "\n",
        "# Initialize the storage layer - to store raw images, text and tables\n",
        "client = get_client('redis://localhost:6379')\n",
        "redis_store = RedisStore(client=client) # you can use filestore, memorystory, any other DB store also\n",
        "\n",
        "# Create retriever\n",
        "retriever_multi_vector = create_multi_vector_retriever(\n",
        "    redis_store,\n",
        "    chroma_db,\n",
        "    text_summaries,\n",
        "    text_docs,\n",
        "    table_summaries,\n",
        "    table_docs,\n",
        ")"
      ]
    },
    {
      "cell_type": "code",
      "source": [
        "retriever_multi_vector"
      ],
      "metadata": {
        "colab": {
          "base_uri": "https://localhost:8080/"
        },
        "id": "j--eJU1zWm9U",
        "outputId": "87e83429-e035-4210-dd07-3b5dd85df275"
      },
      "id": "j--eJU1zWm9U",
      "execution_count": 17,
      "outputs": [
        {
          "output_type": "execute_result",
          "data": {
            "text/plain": [
              "MultiVectorRetriever(vectorstore=<langchain_chroma.vectorstores.Chroma object at 0x7f90491367d0>, docstore=<langchain_community.storage.redis.RedisStore object at 0x7f9036102010>, search_kwargs={})"
            ]
          },
          "metadata": {},
          "execution_count": 17
        }
      ]
    },
    {
      "cell_type": "markdown",
      "id": "087ab1e2-fc9a-42af-9d93-a35dd172b130",
      "metadata": {
        "id": "087ab1e2-fc9a-42af-9d93-a35dd172b130"
      },
      "source": [
        "### Check Retrieval\n",
        "\n",
        "Examine retrieval; we get back images and tables also that are relevant to our question."
      ]
    },
    {
      "cell_type": "code",
      "source": [
        "query = \"How do the net income and operating expenses compare for Q1 2024?\"\n",
        "docs = retriever_multi_vector.invoke(query, limit=5)\n",
        "\n",
        "len(docs)"
      ],
      "metadata": {
        "colab": {
          "base_uri": "https://localhost:8080/"
        },
        "id": "k4yPpRbzXFjZ",
        "outputId": "e7b88d2e-2a88-4291-bb6e-e40be9994c9a"
      },
      "id": "k4yPpRbzXFjZ",
      "execution_count": 18,
      "outputs": [
        {
          "output_type": "execute_result",
          "data": {
            "text/plain": [
              "4"
            ]
          },
          "metadata": {},
          "execution_count": 18
        }
      ]
    },
    {
      "cell_type": "code",
      "source": [
        "docs"
      ],
      "metadata": {
        "colab": {
          "base_uri": "https://localhost:8080/"
        },
        "id": "J06AbeV4XbLu",
        "outputId": "98ba4e32-7823-47a5-fee9-090874418330",
        "collapsed": true
      },
      "id": "J06AbeV4XbLu",
      "execution_count": 19,
      "outputs": [
        {
          "output_type": "execute_result",
          "data": {
            "text/plain": [
              "[b'# Year ended March 31, 2024 and March 31, 2023:\\n\\n|(In \\xe2\\x82\\xb9 crore)|Financial Services (1)*|Retail (2)|Communication (3)|Energy, Utilities, and Resources|Manufacturing| |Hi-Tech|Life Sciences (4)|All other segments (5)|Total| |\\n|---|---|---|---|---|---|---|---|---|---|---|---|\\n|Revenue from operations|42,158|22,504|17,991|20,035|22,298|12,411|11,515|4,758| |153,670| |\\n| |43,763|21,204|18,086|18,539|19,035|11,867|10,085|4,188|146,767| | |\\n|Identifiable operating expenses|24,782|11,704|11,071|10,838|14,596|7,232|6,716|2,938| |89,877| |\\n| |24,990|10,892|11,101|9,923|12,493|6,959|5,834|2,801| |84,993| |\\n|Allocated expenses|8,052|3,918|3,232|3,674|3,505|2,026|1,901| |1,060|27,368| |\\n| |7,930|3,916|3,226|3,461|3,429|1,949|1,685|1,048| |26,644| |\\n|Segment operating income|9,324|6,882|3,688|5,523|4,197|3,153|2,898| |760|36,425| |\\n| |10,843|6,396|3,759|5,155|3,113|2,959|2,566|339| |35,130| |\\n|Unallocable expenses| | | | | | | | | | |4,678|\\n| | | | | | | | | | | |4,225|\\n|Other income, net (Refer to Note 2.17)| | | | | | | | | | |4,711|\\n| | | | | | | | | | | |2,701|\\n|Finance cost| | | | | | | | | | |470|\\n| | | | | | | | | | | |284|\\n|Profit before tax| | | | | | | | | | |35,988|\\n| | | | | | | | | | | |33,322|\\n|Income tax expense| | | | | | | | | | |9,740|\\n| | | | | | | | | | | |9,214|\\n|Net Profit| | | | | | | | | | |26,248|\\n| | | | | | | | | | | |24,108|\\n|Depreciation and amortization expense| | | | | | | | | | |4,678|\\n| | | | | | | | | | | |4,225|\\n|Non-cash expenses other than depreciation and amortization| | | | | | | | | | |\\xe2\\x80\\x94|\\n| | | | | | | | | | | |\\xe2\\x80\\x94|\\n\\n(1) Financial Services include enterprises in Financial Services and Insurance\\n\\n(2) Retail includes enterprises in Retail, Consumer Packaged Goods and Logistics\\n\\n(3) Communication includes enterprises in Communication, Telecom OEM and Media\\n\\n(4) Life Sciences includes enterprises in Life sciences and Health care\\n\\n(5) Others include operating segments of businesses in India, Japan, China, Infosys Public Services & other enterprises in Public Services\\n\\n* Includes impact on account of McCamish cybersecurity incident. Refer note 2.21.3.\\n\\n# Significant clients\\n\\nNo client individually accounted for more than 10% of the revenues for the three months and year ended March 31, 2024 and March 31, 2023, respectively.',\n",
              " b'# OA81XOA91X2.23 SEGMENT REPORTING\\n\\nInd AS 108, Operating segments, establishes standards for the way that public business enterprises report information about operating segments and related disclosures about products and services, geographic areas, and major customers. The Group\\'s operations predominantly relate to providing end-to-end business solutions to enable clients to enhance business performance. The Chief Operating Decision Maker (CODM) evaluates the Group\\'s performance and allocates resources based on an analysis of various performance indicators by business segments. Accordingly, information has been presented along business segments. The accounting principles used in the preparation of the financial statements are consistently applied to record revenue and expenditure in individual segments, and are as set out in the accounting policies.\\n\\nBusiness segments of the Group are primarily enterprises in Financial Services and Insurance, enterprises in Manufacturing, enterprises in Retail, Consumer Packaged Goods and Logistics, enterprises in the Energy, Utilities, Resources and Services, enterprises in Communication, Telecom OEM and Media, enterprises in Hi-Tech, enterprises in Life Sciences and Healthcare and all other segments. The Financial services reportable segments has been aggregated to include the Financial Services operating segment and Finacle operating segment because of the similarity of the economic characteristics. All other segments represent the operating segments of businesses in India, Japan, China, Infosys Public Services & other enterprises in Public Services.\\n\\nRevenue and identifiable operating expenses in relation to segments are categorized based on items that are individually identifiable to that segment. Revenue for \\'all other segments\\' represents revenue generated by Infosys Public services and revenue generated from customers located in India, Japan and China and other enterprises in Public services. Allocated expenses of segments include expenses incurred for rendering services from the Group\\'s offshore software development centers and on-site expenses, which are categorized in relation to the associated efforts of the segment. Certain expenses such as depreciation and amortization, which form a significant component of total expenses, are not specifically allocable to specific segments as the underlying assets are used interchangeably. The Management believes that it is not practical to provide segment disclosures relating to those costs and expenses, and accordingly these expenses are separately disclosed as \"unallocated\" and adjusted against the total income of the Group.\\n\\nAssets and liabilities used in the Group\\'s business are not identified to any of the reportable segments, as these are used interchangeably between segments. The Management believes that it is currently not practicable to provide segment disclosures relating to total assets and liabilities since a meaningful segregation of the available data is onerous.\\n\\nBusiness segment revenue information is collated based on individual customers invoiced or in relation to which the revenue is otherwise recognized.\\n\\nDisclosure of revenue by geographic locations is given in note 2.16 Revenue from operations.\\n\\n# Business Segments\\n\\n# Three months ended March 31, 2024 and March 31, 2023:\\n\\n| |Financial Services (1)*|Retail (2)|Communication (3)|Energy, Utilities, Resources and Services|Manufacturing|Hi-Tech|Life Sciences (4)|All other segments (5)|Total| |\\n|---|---|---|---|---|---|---|---|---|---|---|\\n|Revenue from operations| |10,010|5,429|4,666|5,068|5,589|3,316|2,762|1,083|37,923|\\n| | |10,818|5,537|4,411|4,825|5,078|2,989|2,681|1,102|37,441|\\n|Identifiable operating expenses| |6,042|2,591|3,033|2,717|3,656|1,995|1,639|652|22,325|\\n| | |6,161|2,869|2,613|2,614|3,248|1,734|1,514|701|21,454|\\n|Allocated expenses| |2,027|974|823|920|852|518|491|209|6,814|\\n| | |2,057|1,034|840|909|928|505|462|254|6,989|\\n|Segment operating income| |1,941|1,864|810|1,431|1,081|803|632|222|8,784|\\n| | |2,600|1,634|958|1,302|902|750|705|147|8,998|\\n|Unallocable expenses| | | | | | | |1,163| | |\\n| | | | | | | | |1,121| | |\\n|Other income, net (Refer to Note 2.17)| | | | | | | |2,729| | |\\n| | | | | | | | |671| | |\\n|Finance cost| | | | | | | |110| | |\\n| | | | |82| | | | | | |\\n|Profit before tax| | | | | | | |10,240| | |\\n| | | | | | | | |8,466| | |\\n|Income tax expense| | | | | | | |2,265| | |\\n| | | | | | | | |2,332| | |\\n|Net Profit| | | | | | | |7,975| | |\\n| | | | | | | | |6,134| | |\\n|Depreciation and amortization| | | | | | | |1,163| | |\\n| | | | | | | | |1,121| | |\\n|Non-cash expenses other than depreciation and amortization| | | | | | | |\\xe2\\x80\\x94| | |\\n| | | | | | | | |\\xe2\\x80\\x94| | |',\n",
              " b'# 2.2 PROPERTY, PLANT AND EQUIPMENT\\n\\n# Accounting policy\\n\\nProperty, plant and equipment are stated at cost, less accumulated depreciation and impairment, if any. Costs directly attributable to acquisition are capitalized until the property, plant and equipment are ready for use, as intended by the Management. The charge in respect of periodic depreciation is derived at after determining an estimate of an asset\\xe2\\x80\\x99s expected useful life and the expected residual value at the end of its life. The Group depreciates property, plant and equipment over their estimated useful lives using the straight-line method. The estimated useful lives of assets are as follows:\\n\\n|Buildings (1)|22-25 years|\\n|---|---|\\n|Plant and machinery (1)(2)|5 years|\\n|Office equipment|5 years|\\n|Computer equipment (1)|3-5 years|\\n|Furniture and fixtures (1)|5 years|\\n|Vehicles(1)|5 years|\\n|Leasehold improvements|Lower of useful life of the asset or lease term|\\n\\n(1) Based on technical evaluation, the Management believes that the useful lives as given above best represent the period over which the Management expects to use these assets. Hence, the useful lives for these assets is different from the useful lives as prescribed under Part C of Schedule II of the Companies Act 2013.\\n\\n(2) Includes Solar plant with a useful life of 25 years.\\n\\nDepreciation methods, useful lives and residual values are reviewed periodically, including at each financial year end. The useful lives are based on historical experience with similar assets as well as anticipation of future events, which may impact their life, such as changes in technology.\\n\\nAdvances paid towards the acquisition of property, plant and equipment outstanding at each Balance Sheet date is classified as capital advances under other non-current assets and the cost of assets not ready to use before such date are disclosed under \\xe2\\x80\\x98Capital work-in-progress\\xe2\\x80\\x99. Subsequent expenditures relating to property, plant and equipment is capitalized only when it is probable that future economic benefits associated with these will flow to the Group and the cost of the item can be measured reliably. The cost and related accumulated depreciation are eliminated from the financial statements upon sale or retirement of the asset.\\n\\n# Impairment\\n\\nProperty, plant and equipment are evaluated for recoverability whenever events or changes in circumstances indicate that their carrying amounts may not be recoverable. For the purpose of impairment testing, the recoverable amount (i.e. the higher of the fair value less cost to sell and the value-in-use) is determined on an individual asset basis unless the asset does not generate cash flows that are largely independent of those from other assets. In such cases, the recoverable amount is determined for the Cash Generating Unit (CGU) to which the asset belongs.\\n\\nIf such assets are considered to be impaired, the impairment to be recognized in the Consolidated Statement of Profit and Loss is measured by the amount by which the carrying value of the assets exceeds the estimated recoverable amount of the asset. An impairment loss is reversed in the Consolidated Statement of Profit and Loss if there has been a change in the estimates used to determine the recoverable amount. The carrying amount of the asset is increased to its revised recoverable amount, provided that this amount does not exceed the carrying amount that would have been determined (net of any accumulated depreciation) had no impairment loss been recognized for the asset in prior years.\\n\\n# The changes in the carrying value of property, plant and equipment for the three months ended March 31, 2024 are as follows:\\n\\n|Particulars|Land - Freehold|Buildings (1)|Plant and machinery|Office Equipment|Computer equipment|Furniture and fixtures|Leasehold Improvements|Vehicles|Total|\\n|---|---|---|---|---|---|---|---|---|---|\\n|Gross carrying value as at January 1, 2024|1,432|11,498|3,305|1,510|8,497|2,308|1,456|45|30,051|\\n|Additions|\\xe2\\x80\\x94|287|140|33|345|54|35|\\xe2\\x80\\x94|894|\\n|Deletions**|\\xe2\\x80\\x94|\\xe2\\x80\\x94|(16)|(14)|(224)|(34)|(37)|\\xe2\\x80\\x94|(325)|\\n|Translation difference|\\xe2\\x80\\x94|(15)|(1)|(1)|(7)|(2)|(7)|\\xe2\\x80\\x94|(33)|\\n|Gross carrying value as at March 31, 2024|1,432|11,770|3,428|1,528|8,611|2,326|1,447|45|30,587|\\n|Accumulated depreciation as at January 1, 2024|\\xe2\\x80\\x94|(4,814)|(2,584)|(1,253)|(6,267)|(1,807)|(1,131)|(42)|(17,898)|\\n|Depreciation|\\xe2\\x80\\x94|(111)|(63)|(32)|(336)|(58)|(46)|\\xe2\\x80\\x94|(646)|\\n|Accumulated depreciation on deletions**|\\xe2\\x80\\x94|\\xe2\\x80\\x94|16|14|219|26|34|\\xe2\\x80\\x94|309|\\n|Translation difference|\\xe2\\x80\\x94|4|1|2|4|2|5|\\xe2\\x80\\x94|18|\\n|Accumulated depreciation as at March 31, 2024|\\xe2\\x80\\x94|(4,921)|(2,630)|(1,269)|(6,380)|(1,837)|(1,138)|(42)|(18,217)|\\n|Carrying value as at January 1, 2024|1,432|6,684|721|257|2,230|501|325|3|12,153|\\n|Carrying value as at March 31, 2024|1,432|6,849|798|259|2,231|489|309|3|12,370|\\n\\n# The changes in the carrying value of property, plant and equipment for the three months ended March 31, 2023 were as follows:\\n\\n|Particulars|Land - Freehold|Buildings (1)|Plant and machinery|Office Equipment|Computer equipment|Furniture and fixtures|Leasehold Improvements|Vehicles|Total|\\n|---|---|---|---|---|---|---|---|---|---|\\n|Gross carrying value as at January 1, 2023|1,431|11,530|3,368|1,466|8,895|2,450|1,353|44|30,537|\\n|Additions|2|29|109|55|494|162|103|1|955|\\n|Deletions*|(2)|\\xe2\\x80\\x94|(175)|(40)|(877)|(311)|(13)|\\xe2\\x80\\x94|(1,418)|\\n|Translation difference|\\xe2\\x80\\x94|3|\\xe2\\x80\\x94|1|7|2|2|\\xe2\\x80\\x94|15|\\n|Gross carrying value as at March 31, 2023|1,431|11,562|3,302|1,482|8,519|2,303|1,445|45|30,089|\\n|Accumulated depreciation as at January 1, 2023|\\xe2\\x80\\x94|(4,425)|(2,547)|(1,206)|(6,339)|(1,922)|(992)|(39)|(17,470)|\\n|Depreciation|\\xe2\\x80\\x94|(109)|(65)|(31)|(354)|(62)|(48)|(1)|(670)|\\n|Accumulated depreciation on deletions*|\\xe2\\x80\\x94|\\xe2\\x80\\x94|175|40|871|310|9|\\xe2\\x80\\x94|1,405|\\n|Translation difference|\\xe2\\x80\\x94|(1)|\\xe2\\x80\\x94|(1)|(4)|(1)|(1)|\\xe2\\x80\\x94|(8)|\\n|Accumulated depreciation as at March 31, 2023|\\xe2\\x80\\x94|(4,535)|(2,437)|(1,198)|(5,826)|(1,675)|(1,032)|(40)|(16,743)|\\n|Carrying value as at January 1, 2023|1,431|7,105|821|260|2,556|528|361|5|13,067|\\n|Carrying value as at March 31, 2023|1,431|7,027|865|284|2,693|628|413|5|13,346|',\n",
              " b'# Financial Statements\\n\\n# Particulars\\n\\n|Particulars|Three months ended March 31, 2024|Three months ended March 31, 2023|Year ended March 31, 2024|Year ended March 31, 2023|\\n|---|---|---|---|---|\\n|Employee benefit expenses| | | | |\\n|Salaries including bonus|19,527|19,526|79,315|75,239|\\n|Contribution to provident and other funds|529|547|2,213|2,143|\\n|Share based payments to employees (Refer to Note 2.11)|225|133|652|519|\\n|Staff welfare|112|105|440|458|\\n|Total Employee benefit expenses|20,393|20,311|82,620|78,359|\\n|Cost of software packages and others| | | | |\\n|For own use|555|496|2,145|1,937|\\n|Third party items bought for service delivery to clients|3,132|2,390|11,370|8,965|\\n|Total Cost of software packages and others|3,687|2,886|13,515|10,902|\\n|Other expenses| | | | |\\n|Repairs and maintenance|316|331|1,278|1,208|\\n|Power and fuel|49|46|199|176|\\n|Brand and marketing|285|265|1,007|905|\\n|Rates and taxes|84|78|326|299|\\n|Consumables|47|41|170|158|\\n|Insurance|53|43|210|174|\\n|Provision for post-sales client support and others|(129)|(80)|75|120|\\n|Commission to non-whole time directors|5|4|16|15|\\n|Impairment loss recognized / (reversed) under expected credit loss model|(98)|86|121|283|\\n|Contributions towards Corporate Social Responsibility|182|151|533|471|\\n|Others|191|181|781|583|\\n|Total Other expenses|985|1,146|4,716|4,392|\\n\\n# 2.19 Leases\\n\\n# Accounting Policy\\n\\n# The Group as a lessee\\n\\nThe Group\\xe2\\x80\\x99s lease asset classes consist of leases for land, buildings and computers. The Group assesses whether a contract contains a lease, at inception of a contract. A contract is, or contains, a lease if the contract conveys the right to control the use of an identified asset for a period of time in exchange for consideration. To assess whether a contract conveys the right to control the use of an identified asset, the group assesses whether: (1) the contract involves the use of an identified asset (2) the Group has substantially all of the economic benefits from use of the asset through the period of the lease and (3) the Group has the right to direct the use of the asset.\\n\\nAt the date of commencement of the lease, the Group recognizes a right-of-use asset (\\xe2\\x80\\x9cROU\\xe2\\x80\\x9d) and a corresponding lease liability for all lease arrangements in which it is a lessee, except for leases with a term of twelve months or less (short-term leases) and low value leases. For these short-term and low value leases, the Group recognizes the lease payments as an operating expense on a straight-line basis over the term of the lease.\\n\\nAs a lessee, the Group determines the lease term as the non-cancellable period of a lease adjusted with any option to extend or terminate the lease, if the use of such option is reasonably certain. The Group makes an assessment on the expected lease term on a lease-by-lease basis and thereby assesses whether it is reasonably certain that any options to extend or terminate the contract will be exercised. In evaluating the lease term, the Group considers factors such as any significant leasehold improvements undertaken over the lease term, costs relating to the termination of the lease and the importance of the underlying asset to Group\\xe2\\x80\\x99s operations taking into account the location of the underlying asset and the availability of suitable alternatives. The lease term in future periods is reassessed to ensure that the lease term reflects the current economic circumstances.\\n\\nCertain lease arrangements includes the options to extend or terminate the lease before the end of the lease term. ROU assets and lease liabilities includes these options when it is reasonably certain that they will be exercised.\\n\\nThe right-of-use assets are initially recognized at cost, which comprises the initial amount of the lease liability adjusted for any lease payments made at or prior to the commencement date of the lease plus any initial direct costs less any lease incentives. They are subsequently measured at cost less accumulated depreciation and impairment losses.\\n\\nRight-of-use assets are depreciated from the commencement date on a straight-line basis over the shorter of the lease term and useful life of the underlying asset.\\n\\nRight-of-use assets are evaluated for recoverability whenever events or changes in circumstances indicate that their carrying amounts may not be recoverable. For the purpose of impairment testing, the recoverable amount (i.e. the higher of the fair value less cost to sell and the value-in-use) is determined on an individual asset basis unless the asset does not generate cash flows that are largely independent of those from other assets. In such cases, the recoverable amount is determined for the Cash Generating Unit (CGU) to which the asset belongs.\\n\\nThe lease liability is initially measured at amortized cost at the present value of the future lease payments. The lease payments are discounted using the interest rate implicit in the lease or, if not readily determinable, using the incremental borrowing rates in the country of domicile of these leases. Lease liabilities are remeasured with a corresponding adjustment to the related right-of-use asset if the Group changes its assessment if whether it will exercise an extension or a termination option.\\n\\nLease liability and ROU asset have been separately presented in the Balance Sheet and lease payments have been classified as financing cash flows.']"
            ]
          },
          "metadata": {},
          "execution_count": 19
        }
      ]
    },
    {
      "cell_type": "code",
      "source": [
        "query = \"What is the gross profit for Q3 2024?\"\n",
        "docs = retriever_multi_vector.invoke(query, limit=5)\n",
        "\n",
        "len(docs)"
      ],
      "metadata": {
        "colab": {
          "base_uri": "https://localhost:8080/"
        },
        "id": "Xp3XSg9LYGd6",
        "outputId": "65b7d47d-5f14-495a-fb4b-e1cd96e4ae33"
      },
      "id": "Xp3XSg9LYGd6",
      "execution_count": 20,
      "outputs": [
        {
          "output_type": "execute_result",
          "data": {
            "text/plain": [
              "4"
            ]
          },
          "metadata": {},
          "execution_count": 20
        }
      ]
    },
    {
      "cell_type": "code",
      "source": [
        "docs"
      ],
      "metadata": {
        "colab": {
          "base_uri": "https://localhost:8080/"
        },
        "id": "vkKXfnOdYMd8",
        "outputId": "6438ac5a-c492-4767-eeb8-4d0b72afb65b",
        "collapsed": true
      },
      "id": "vkKXfnOdYMd8",
      "execution_count": 21,
      "outputs": [
        {
          "output_type": "execute_result",
          "data": {
            "text/plain": [
              "[b'# Year ended March 31, 2024 and March 31, 2023:\\n\\n|(In \\xe2\\x82\\xb9 crore)|Financial Services (1)*|Retail (2)|Communication (3)|Energy, Utilities, and Resources|Manufacturing| |Hi-Tech|Life Sciences (4)|All other segments (5)|Total| |\\n|---|---|---|---|---|---|---|---|---|---|---|---|\\n|Revenue from operations|42,158|22,504|17,991|20,035|22,298|12,411|11,515|4,758| |153,670| |\\n| |43,763|21,204|18,086|18,539|19,035|11,867|10,085|4,188|146,767| | |\\n|Identifiable operating expenses|24,782|11,704|11,071|10,838|14,596|7,232|6,716|2,938| |89,877| |\\n| |24,990|10,892|11,101|9,923|12,493|6,959|5,834|2,801| |84,993| |\\n|Allocated expenses|8,052|3,918|3,232|3,674|3,505|2,026|1,901| |1,060|27,368| |\\n| |7,930|3,916|3,226|3,461|3,429|1,949|1,685|1,048| |26,644| |\\n|Segment operating income|9,324|6,882|3,688|5,523|4,197|3,153|2,898| |760|36,425| |\\n| |10,843|6,396|3,759|5,155|3,113|2,959|2,566|339| |35,130| |\\n|Unallocable expenses| | | | | | | | | | |4,678|\\n| | | | | | | | | | | |4,225|\\n|Other income, net (Refer to Note 2.17)| | | | | | | | | | |4,711|\\n| | | | | | | | | | | |2,701|\\n|Finance cost| | | | | | | | | | |470|\\n| | | | | | | | | | | |284|\\n|Profit before tax| | | | | | | | | | |35,988|\\n| | | | | | | | | | | |33,322|\\n|Income tax expense| | | | | | | | | | |9,740|\\n| | | | | | | | | | | |9,214|\\n|Net Profit| | | | | | | | | | |26,248|\\n| | | | | | | | | | | |24,108|\\n|Depreciation and amortization expense| | | | | | | | | | |4,678|\\n| | | | | | | | | | | |4,225|\\n|Non-cash expenses other than depreciation and amortization| | | | | | | | | | |\\xe2\\x80\\x94|\\n| | | | | | | | | | | |\\xe2\\x80\\x94|\\n\\n(1) Financial Services include enterprises in Financial Services and Insurance\\n\\n(2) Retail includes enterprises in Retail, Consumer Packaged Goods and Logistics\\n\\n(3) Communication includes enterprises in Communication, Telecom OEM and Media\\n\\n(4) Life Sciences includes enterprises in Life sciences and Health care\\n\\n(5) Others include operating segments of businesses in India, Japan, China, Infosys Public Services & other enterprises in Public Services\\n\\n* Includes impact on account of McCamish cybersecurity incident. Refer note 2.21.3.\\n\\n# Significant clients\\n\\nNo client individually accounted for more than 10% of the revenues for the three months and year ended March 31, 2024 and March 31, 2023, respectively.',\n",
              " b'The incremental costs of obtaining a contract (i.e., costs that would not have been incurred if the contract had not been obtained) are recognized as an asset if the Group expects to recover them.\\n\\nCertain eligible, nonrecurring costs (e.g. set-up or transition or transformation costs) that do not represent a separate performance obligation are recognized as an asset when such costs (a) relate directly to the contract; (b) generate or enhance resources of the Group that will be used in satisfying the performance obligation in the future; and (c) are expected to be recovered.\\n\\nCapitalized contract costs relating to upfront payments to customers are amortized to revenue and other capitalized costs are amortized to expenses over the respective contract life on a systematic basis consistent with the transfer of goods or services to customer to which the asset relates. Capitalized costs are monitored regularly for impairment. Impairment losses are recorded when present value of projected remaining operating cash flows is not sufficient to recover the carrying amount of the capitalized costs.\\n\\nThe Group presents revenues net of indirect taxes in its Consolidated Statement of Profit and Loss.\\n\\n# Revenue from operation for the three months and year ended March 31, 2024 and March 31, 2023 are as follows:\\n\\n|Particulars|Three months ended March 31, 2024|Three months ended March 31, 2023|Year ended March 31, 2024|Year ended March 31, 2023|\\n|---|---|---|---|---|\\n|Revenue from software services|36,064|35,199|145,285|137,575|\\n|Revenue from products and platforms|1,859|2,242|8,385|9,192|\\n|Total revenue from operations|37,923|37,441|153,670|146,767|\\n\\n# Products & platforms\\n\\nThe Group also derives revenues from the sale of products and platforms including Finacle \\xe2\\x80\\x93 core banking solution, Edge Suite of products, Panaya platform, Infosys Equinox, Infosys Helix, Infosys Applied AI, Infosys Cortex, Stater digital platform and Infosys McCamish \\xe2\\x80\\x93 insurance platform.\\n\\n# Disaggregated revenue information\\n\\nRevenue disaggregation by business segments has been included in segment information (Refer to Note 2.23). The table below presents disaggregated revenues from contracts with customers by geography and contract type. The Group believes that this disaggregation best depicts how the nature, amount, timing and uncertainty of revenues and cash flows are affected by industry, market and other economic factors.\\n\\n# For the three months and year ended March 31, 2024 and March 31, 2023:\\n\\n|Particulars|Three months ended March 31, 2024|Three months ended March 31, 2023|Year ended March 31, 2024|Year ended March 31, 2023|\\n|---|---|---|---|---|\\n|Revenues by Geography*| | | | |\\n|North America|22,606|22,842|92,411|90,724|\\n|Europe|10,861|10,088|42,267|37,675|\\n|India|833|981|3,881|3,861|\\n|Rest of the world|3,623|3,530|15,111|14,507|\\n|Total|37,923|37,441|153,670|146,767|\\n\\n* Geographical revenues is based on the domicile of customer.\\n\\nThe percentage of revenue from fixed-price contracts for the three months ended March 31, 2024 and March 31, 2023 is 54% and 52%, respectively. The percentage of revenue from fixed-price contracts for the year ended March 31, 2024 and March 31, 2023 is 53% and 52%, respectively.\\n\\n# Trade Receivables and Contract Balances\\n\\nThe timing of revenue recognition, billings and cash collections results in receivables, unbilled revenue, and unearned revenue on the Group\\xe2\\x80\\x99s Consolidated Balance Sheet. Amounts are billed as work progresses in accordance with agreed-upon contractual terms, either at periodic intervals (e.g., monthly or quarterly) or upon achievement of contractual milestones.\\n\\nThe Group\\xe2\\x80\\x99s receivables are rights to consideration that are unconditional. Unbilled revenues comprising revenues in excess of billings from time and material contracts and fixed price maintenance contracts are classified as financial asset when the right to consideration is unconditional and is due only after a passage of time.\\n\\nInvoicing to the clients for other fixed price contracts is based on milestones as defined in the contract and therefore the timing of revenue recognition is different from the timing of invoicing to the customers. Therefore unbilled revenues for other fixed price contracts (contract asset) are classified as non-financial asset because the right to consideration is dependent on completion of contractual milestones.\\n\\nInvoicing in excess of earnings are classified as unearned revenue.\\n\\nTrade receivables and unbilled revenues are presented net of impairment in the consolidated Balance Sheet.',\n",
              " b'# OA81XOA91X2.23 SEGMENT REPORTING\\n\\nInd AS 108, Operating segments, establishes standards for the way that public business enterprises report information about operating segments and related disclosures about products and services, geographic areas, and major customers. The Group\\'s operations predominantly relate to providing end-to-end business solutions to enable clients to enhance business performance. The Chief Operating Decision Maker (CODM) evaluates the Group\\'s performance and allocates resources based on an analysis of various performance indicators by business segments. Accordingly, information has been presented along business segments. The accounting principles used in the preparation of the financial statements are consistently applied to record revenue and expenditure in individual segments, and are as set out in the accounting policies.\\n\\nBusiness segments of the Group are primarily enterprises in Financial Services and Insurance, enterprises in Manufacturing, enterprises in Retail, Consumer Packaged Goods and Logistics, enterprises in the Energy, Utilities, Resources and Services, enterprises in Communication, Telecom OEM and Media, enterprises in Hi-Tech, enterprises in Life Sciences and Healthcare and all other segments. The Financial services reportable segments has been aggregated to include the Financial Services operating segment and Finacle operating segment because of the similarity of the economic characteristics. All other segments represent the operating segments of businesses in India, Japan, China, Infosys Public Services & other enterprises in Public Services.\\n\\nRevenue and identifiable operating expenses in relation to segments are categorized based on items that are individually identifiable to that segment. Revenue for \\'all other segments\\' represents revenue generated by Infosys Public services and revenue generated from customers located in India, Japan and China and other enterprises in Public services. Allocated expenses of segments include expenses incurred for rendering services from the Group\\'s offshore software development centers and on-site expenses, which are categorized in relation to the associated efforts of the segment. Certain expenses such as depreciation and amortization, which form a significant component of total expenses, are not specifically allocable to specific segments as the underlying assets are used interchangeably. The Management believes that it is not practical to provide segment disclosures relating to those costs and expenses, and accordingly these expenses are separately disclosed as \"unallocated\" and adjusted against the total income of the Group.\\n\\nAssets and liabilities used in the Group\\'s business are not identified to any of the reportable segments, as these are used interchangeably between segments. The Management believes that it is currently not practicable to provide segment disclosures relating to total assets and liabilities since a meaningful segregation of the available data is onerous.\\n\\nBusiness segment revenue information is collated based on individual customers invoiced or in relation to which the revenue is otherwise recognized.\\n\\nDisclosure of revenue by geographic locations is given in note 2.16 Revenue from operations.\\n\\n# Business Segments\\n\\n# Three months ended March 31, 2024 and March 31, 2023:\\n\\n| |Financial Services (1)*|Retail (2)|Communication (3)|Energy, Utilities, Resources and Services|Manufacturing|Hi-Tech|Life Sciences (4)|All other segments (5)|Total| |\\n|---|---|---|---|---|---|---|---|---|---|---|\\n|Revenue from operations| |10,010|5,429|4,666|5,068|5,589|3,316|2,762|1,083|37,923|\\n| | |10,818|5,537|4,411|4,825|5,078|2,989|2,681|1,102|37,441|\\n|Identifiable operating expenses| |6,042|2,591|3,033|2,717|3,656|1,995|1,639|652|22,325|\\n| | |6,161|2,869|2,613|2,614|3,248|1,734|1,514|701|21,454|\\n|Allocated expenses| |2,027|974|823|920|852|518|491|209|6,814|\\n| | |2,057|1,034|840|909|928|505|462|254|6,989|\\n|Segment operating income| |1,941|1,864|810|1,431|1,081|803|632|222|8,784|\\n| | |2,600|1,634|958|1,302|902|750|705|147|8,998|\\n|Unallocable expenses| | | | | | | |1,163| | |\\n| | | | | | | | |1,121| | |\\n|Other income, net (Refer to Note 2.17)| | | | | | | |2,729| | |\\n| | | | | | | | |671| | |\\n|Finance cost| | | | | | | |110| | |\\n| | | | |82| | | | | | |\\n|Profit before tax| | | | | | | |10,240| | |\\n| | | | | | | | |8,466| | |\\n|Income tax expense| | | | | | | |2,265| | |\\n| | | | | | | | |2,332| | |\\n|Net Profit| | | | | | | |7,975| | |\\n| | | | | | | | |6,134| | |\\n|Depreciation and amortization| | | | | | | |1,163| | |\\n| | | | | | | | |1,121| | |\\n|Non-cash expenses other than depreciation and amortization| | | | | | | |\\xe2\\x80\\x94| | |\\n| | | | | | | | |\\xe2\\x80\\x94| | |',\n",
              " b'# 2.24 FUNCTION WISE CLASSIFICATION OF CONDENSED CONSOLIDATED STATEMENT OF PROFIT AND LOSS\\n\\n|Particulars|Note No.|Three months ended March 31, 2024|Three months ended March 31, 2023|Year ended March 31, 2024|Year ended March 31, 2023|\\n|---|---|---|---|---|---|\\n|Revenue from operations|2.16|37,923|37,441|153,670|146,767|\\n|Cost of Sales| |26,748|26,011|107,413|102,353|\\n|Gross profit| |11,175|11,430|46,257|44,414|\\n|Operating expenses| | | | | |\\n|Selling and marketing expenses| |1,735|1,659|6,973|6,249|\\n|General and administration expenses| |1,819|1,894|7,537|7,260|\\n|Total operating expenses| |3,554|3,553|14,510|13,509|\\n|Operating profit| |7,621|7,877|31,747|30,905|\\n|Other income, net|2.17|2,729|671|4,711|2,701|\\n|Finance cost| |110|82|470|284|\\n|Profit before tax| |10,240|8,466|35,988|33,322|\\n|Tax expense:| | | | | |\\n|Current tax|2.15|1,173|2,260|8,390|9,287|\\n|Deferred tax|2.15|1,092|72|1,350|(73)|\\n|Profit for the period| |7,975|6,134|26,248|24,108|\\n|Other comprehensive income| | | | | |\\n|Items that will not be reclassified subsequently to profit or loss| | | | | |\\n|Remeasurement of the net defined benefit liability/asset, net| |26|25|120|8|\\n|Equity instruments through other comprehensive income, net| |(12)|(15)|19|(7)|\\n| | |14|10|139|1|\\n|Items that will be reclassified subsequently to profit or loss| | | | | |\\n|Fair value changes on derivatives designated as cash flow hedge, net| |28|36|11|(7)|\\n|Exchange differences on translation of foreign operations| |(231)|61|226|776|\\n|Fair value changes on investments, net| |37|42|144|(256)|\\n| | |(166)|139|381|513|\\n|Total other comprehensive income / (loss), net of tax| |(152)|149|520|514|\\n|Total comprehensive income for the period| |7,823|6,283|26,768|24,622|\\n|Profit attributable to:| | | | | |\\n|Owners of the Company| |7,969|6,128|26,233|24,095|\\n|Non-controlling interests| |6|6|15|13|\\n| | |7,975|6,134|26,248|24,108|\\n|Total comprehensive income attributable to:| | | | | |\\n|Owners of the Company| |7,821|6,276|26,754|24,598|\\n|Non-controlling interests| |2|7|14|24|\\n| | |7,823|6,283|26,768|24,622|\\n\\nfor and on behalf of the Board of Directors of Infosys Limited\\n\\nD. Sundaram Lead Independent Director\\n\\nSalil Parekh Chief Executive Officer and Managing Director\\n\\nBobby Parikh Director\\n\\nBengaluru\\n\\nJayesh Sanghrajka Chief Financial Officer\\n\\nA.G.S. Manikantha Company Secretary\\n\\nApril 18, 2024']"
            ]
          },
          "metadata": {},
          "execution_count": 21
        }
      ]
    },
    {
      "cell_type": "code",
      "execution_count": 22,
      "id": "771a47fa-1267-4db8-a6ae-5fde48bbc069",
      "metadata": {
        "id": "771a47fa-1267-4db8-a6ae-5fde48bbc069"
      },
      "outputs": [],
      "source": [
        "def decode_text(docs):\n",
        "    texts = []\n",
        "    for doc in docs:\n",
        "        # Check if the document is of type Document and extract page_content if so\n",
        "        if isinstance(doc, Document):\n",
        "            doc = doc.page_content.decode('utf-8')\n",
        "        else:\n",
        "            doc = doc.decode('utf-8')\n",
        "            texts.append(doc)\n",
        "    return {\"texts\": texts}"
      ]
    },
    {
      "cell_type": "code",
      "source": [
        "r = decode_text(docs)\n",
        "r"
      ],
      "metadata": {
        "colab": {
          "base_uri": "https://localhost:8080/"
        },
        "id": "KQ_98jRDdmxm",
        "outputId": "9df11d18-93af-4007-df68-7be2a1c7b2d9",
        "collapsed": true
      },
      "id": "KQ_98jRDdmxm",
      "execution_count": 23,
      "outputs": [
        {
          "output_type": "execute_result",
          "data": {
            "text/plain": [
              "{'texts': ['# Year ended March 31, 2024 and March 31, 2023:\\n\\n|(In ₹ crore)|Financial Services (1)*|Retail (2)|Communication (3)|Energy, Utilities, and Resources|Manufacturing| |Hi-Tech|Life Sciences (4)|All other segments (5)|Total| |\\n|---|---|---|---|---|---|---|---|---|---|---|---|\\n|Revenue from operations|42,158|22,504|17,991|20,035|22,298|12,411|11,515|4,758| |153,670| |\\n| |43,763|21,204|18,086|18,539|19,035|11,867|10,085|4,188|146,767| | |\\n|Identifiable operating expenses|24,782|11,704|11,071|10,838|14,596|7,232|6,716|2,938| |89,877| |\\n| |24,990|10,892|11,101|9,923|12,493|6,959|5,834|2,801| |84,993| |\\n|Allocated expenses|8,052|3,918|3,232|3,674|3,505|2,026|1,901| |1,060|27,368| |\\n| |7,930|3,916|3,226|3,461|3,429|1,949|1,685|1,048| |26,644| |\\n|Segment operating income|9,324|6,882|3,688|5,523|4,197|3,153|2,898| |760|36,425| |\\n| |10,843|6,396|3,759|5,155|3,113|2,959|2,566|339| |35,130| |\\n|Unallocable expenses| | | | | | | | | | |4,678|\\n| | | | | | | | | | | |4,225|\\n|Other income, net (Refer to Note 2.17)| | | | | | | | | | |4,711|\\n| | | | | | | | | | | |2,701|\\n|Finance cost| | | | | | | | | | |470|\\n| | | | | | | | | | | |284|\\n|Profit before tax| | | | | | | | | | |35,988|\\n| | | | | | | | | | | |33,322|\\n|Income tax expense| | | | | | | | | | |9,740|\\n| | | | | | | | | | | |9,214|\\n|Net Profit| | | | | | | | | | |26,248|\\n| | | | | | | | | | | |24,108|\\n|Depreciation and amortization expense| | | | | | | | | | |4,678|\\n| | | | | | | | | | | |4,225|\\n|Non-cash expenses other than depreciation and amortization| | | | | | | | | | |—|\\n| | | | | | | | | | | |—|\\n\\n(1) Financial Services include enterprises in Financial Services and Insurance\\n\\n(2) Retail includes enterprises in Retail, Consumer Packaged Goods and Logistics\\n\\n(3) Communication includes enterprises in Communication, Telecom OEM and Media\\n\\n(4) Life Sciences includes enterprises in Life sciences and Health care\\n\\n(5) Others include operating segments of businesses in India, Japan, China, Infosys Public Services & other enterprises in Public Services\\n\\n* Includes impact on account of McCamish cybersecurity incident. Refer note 2.21.3.\\n\\n# Significant clients\\n\\nNo client individually accounted for more than 10% of the revenues for the three months and year ended March 31, 2024 and March 31, 2023, respectively.',\n",
              "  'The incremental costs of obtaining a contract (i.e., costs that would not have been incurred if the contract had not been obtained) are recognized as an asset if the Group expects to recover them.\\n\\nCertain eligible, nonrecurring costs (e.g. set-up or transition or transformation costs) that do not represent a separate performance obligation are recognized as an asset when such costs (a) relate directly to the contract; (b) generate or enhance resources of the Group that will be used in satisfying the performance obligation in the future; and (c) are expected to be recovered.\\n\\nCapitalized contract costs relating to upfront payments to customers are amortized to revenue and other capitalized costs are amortized to expenses over the respective contract life on a systematic basis consistent with the transfer of goods or services to customer to which the asset relates. Capitalized costs are monitored regularly for impairment. Impairment losses are recorded when present value of projected remaining operating cash flows is not sufficient to recover the carrying amount of the capitalized costs.\\n\\nThe Group presents revenues net of indirect taxes in its Consolidated Statement of Profit and Loss.\\n\\n# Revenue from operation for the three months and year ended March 31, 2024 and March 31, 2023 are as follows:\\n\\n|Particulars|Three months ended March 31, 2024|Three months ended March 31, 2023|Year ended March 31, 2024|Year ended March 31, 2023|\\n|---|---|---|---|---|\\n|Revenue from software services|36,064|35,199|145,285|137,575|\\n|Revenue from products and platforms|1,859|2,242|8,385|9,192|\\n|Total revenue from operations|37,923|37,441|153,670|146,767|\\n\\n# Products & platforms\\n\\nThe Group also derives revenues from the sale of products and platforms including Finacle – core banking solution, Edge Suite of products, Panaya platform, Infosys Equinox, Infosys Helix, Infosys Applied AI, Infosys Cortex, Stater digital platform and Infosys McCamish – insurance platform.\\n\\n# Disaggregated revenue information\\n\\nRevenue disaggregation by business segments has been included in segment information (Refer to Note 2.23). The table below presents disaggregated revenues from contracts with customers by geography and contract type. The Group believes that this disaggregation best depicts how the nature, amount, timing and uncertainty of revenues and cash flows are affected by industry, market and other economic factors.\\n\\n# For the three months and year ended March 31, 2024 and March 31, 2023:\\n\\n|Particulars|Three months ended March 31, 2024|Three months ended March 31, 2023|Year ended March 31, 2024|Year ended March 31, 2023|\\n|---|---|---|---|---|\\n|Revenues by Geography*| | | | |\\n|North America|22,606|22,842|92,411|90,724|\\n|Europe|10,861|10,088|42,267|37,675|\\n|India|833|981|3,881|3,861|\\n|Rest of the world|3,623|3,530|15,111|14,507|\\n|Total|37,923|37,441|153,670|146,767|\\n\\n* Geographical revenues is based on the domicile of customer.\\n\\nThe percentage of revenue from fixed-price contracts for the three months ended March 31, 2024 and March 31, 2023 is 54% and 52%, respectively. The percentage of revenue from fixed-price contracts for the year ended March 31, 2024 and March 31, 2023 is 53% and 52%, respectively.\\n\\n# Trade Receivables and Contract Balances\\n\\nThe timing of revenue recognition, billings and cash collections results in receivables, unbilled revenue, and unearned revenue on the Group’s Consolidated Balance Sheet. Amounts are billed as work progresses in accordance with agreed-upon contractual terms, either at periodic intervals (e.g., monthly or quarterly) or upon achievement of contractual milestones.\\n\\nThe Group’s receivables are rights to consideration that are unconditional. Unbilled revenues comprising revenues in excess of billings from time and material contracts and fixed price maintenance contracts are classified as financial asset when the right to consideration is unconditional and is due only after a passage of time.\\n\\nInvoicing to the clients for other fixed price contracts is based on milestones as defined in the contract and therefore the timing of revenue recognition is different from the timing of invoicing to the customers. Therefore unbilled revenues for other fixed price contracts (contract asset) are classified as non-financial asset because the right to consideration is dependent on completion of contractual milestones.\\n\\nInvoicing in excess of earnings are classified as unearned revenue.\\n\\nTrade receivables and unbilled revenues are presented net of impairment in the consolidated Balance Sheet.',\n",
              "  '# OA81XOA91X2.23 SEGMENT REPORTING\\n\\nInd AS 108, Operating segments, establishes standards for the way that public business enterprises report information about operating segments and related disclosures about products and services, geographic areas, and major customers. The Group\\'s operations predominantly relate to providing end-to-end business solutions to enable clients to enhance business performance. The Chief Operating Decision Maker (CODM) evaluates the Group\\'s performance and allocates resources based on an analysis of various performance indicators by business segments. Accordingly, information has been presented along business segments. The accounting principles used in the preparation of the financial statements are consistently applied to record revenue and expenditure in individual segments, and are as set out in the accounting policies.\\n\\nBusiness segments of the Group are primarily enterprises in Financial Services and Insurance, enterprises in Manufacturing, enterprises in Retail, Consumer Packaged Goods and Logistics, enterprises in the Energy, Utilities, Resources and Services, enterprises in Communication, Telecom OEM and Media, enterprises in Hi-Tech, enterprises in Life Sciences and Healthcare and all other segments. The Financial services reportable segments has been aggregated to include the Financial Services operating segment and Finacle operating segment because of the similarity of the economic characteristics. All other segments represent the operating segments of businesses in India, Japan, China, Infosys Public Services & other enterprises in Public Services.\\n\\nRevenue and identifiable operating expenses in relation to segments are categorized based on items that are individually identifiable to that segment. Revenue for \\'all other segments\\' represents revenue generated by Infosys Public services and revenue generated from customers located in India, Japan and China and other enterprises in Public services. Allocated expenses of segments include expenses incurred for rendering services from the Group\\'s offshore software development centers and on-site expenses, which are categorized in relation to the associated efforts of the segment. Certain expenses such as depreciation and amortization, which form a significant component of total expenses, are not specifically allocable to specific segments as the underlying assets are used interchangeably. The Management believes that it is not practical to provide segment disclosures relating to those costs and expenses, and accordingly these expenses are separately disclosed as \"unallocated\" and adjusted against the total income of the Group.\\n\\nAssets and liabilities used in the Group\\'s business are not identified to any of the reportable segments, as these are used interchangeably between segments. The Management believes that it is currently not practicable to provide segment disclosures relating to total assets and liabilities since a meaningful segregation of the available data is onerous.\\n\\nBusiness segment revenue information is collated based on individual customers invoiced or in relation to which the revenue is otherwise recognized.\\n\\nDisclosure of revenue by geographic locations is given in note 2.16 Revenue from operations.\\n\\n# Business Segments\\n\\n# Three months ended March 31, 2024 and March 31, 2023:\\n\\n| |Financial Services (1)*|Retail (2)|Communication (3)|Energy, Utilities, Resources and Services|Manufacturing|Hi-Tech|Life Sciences (4)|All other segments (5)|Total| |\\n|---|---|---|---|---|---|---|---|---|---|---|\\n|Revenue from operations| |10,010|5,429|4,666|5,068|5,589|3,316|2,762|1,083|37,923|\\n| | |10,818|5,537|4,411|4,825|5,078|2,989|2,681|1,102|37,441|\\n|Identifiable operating expenses| |6,042|2,591|3,033|2,717|3,656|1,995|1,639|652|22,325|\\n| | |6,161|2,869|2,613|2,614|3,248|1,734|1,514|701|21,454|\\n|Allocated expenses| |2,027|974|823|920|852|518|491|209|6,814|\\n| | |2,057|1,034|840|909|928|505|462|254|6,989|\\n|Segment operating income| |1,941|1,864|810|1,431|1,081|803|632|222|8,784|\\n| | |2,600|1,634|958|1,302|902|750|705|147|8,998|\\n|Unallocable expenses| | | | | | | |1,163| | |\\n| | | | | | | | |1,121| | |\\n|Other income, net (Refer to Note 2.17)| | | | | | | |2,729| | |\\n| | | | | | | | |671| | |\\n|Finance cost| | | | | | | |110| | |\\n| | | | |82| | | | | | |\\n|Profit before tax| | | | | | | |10,240| | |\\n| | | | | | | | |8,466| | |\\n|Income tax expense| | | | | | | |2,265| | |\\n| | | | | | | | |2,332| | |\\n|Net Profit| | | | | | | |7,975| | |\\n| | | | | | | | |6,134| | |\\n|Depreciation and amortization| | | | | | | |1,163| | |\\n| | | | | | | | |1,121| | |\\n|Non-cash expenses other than depreciation and amortization| | | | | | | |—| | |\\n| | | | | | | | |—| | |',\n",
              "  '# 2.24 FUNCTION WISE CLASSIFICATION OF CONDENSED CONSOLIDATED STATEMENT OF PROFIT AND LOSS\\n\\n|Particulars|Note No.|Three months ended March 31, 2024|Three months ended March 31, 2023|Year ended March 31, 2024|Year ended March 31, 2023|\\n|---|---|---|---|---|---|\\n|Revenue from operations|2.16|37,923|37,441|153,670|146,767|\\n|Cost of Sales| |26,748|26,011|107,413|102,353|\\n|Gross profit| |11,175|11,430|46,257|44,414|\\n|Operating expenses| | | | | |\\n|Selling and marketing expenses| |1,735|1,659|6,973|6,249|\\n|General and administration expenses| |1,819|1,894|7,537|7,260|\\n|Total operating expenses| |3,554|3,553|14,510|13,509|\\n|Operating profit| |7,621|7,877|31,747|30,905|\\n|Other income, net|2.17|2,729|671|4,711|2,701|\\n|Finance cost| |110|82|470|284|\\n|Profit before tax| |10,240|8,466|35,988|33,322|\\n|Tax expense:| | | | | |\\n|Current tax|2.15|1,173|2,260|8,390|9,287|\\n|Deferred tax|2.15|1,092|72|1,350|(73)|\\n|Profit for the period| |7,975|6,134|26,248|24,108|\\n|Other comprehensive income| | | | | |\\n|Items that will not be reclassified subsequently to profit or loss| | | | | |\\n|Remeasurement of the net defined benefit liability/asset, net| |26|25|120|8|\\n|Equity instruments through other comprehensive income, net| |(12)|(15)|19|(7)|\\n| | |14|10|139|1|\\n|Items that will be reclassified subsequently to profit or loss| | | | | |\\n|Fair value changes on derivatives designated as cash flow hedge, net| |28|36|11|(7)|\\n|Exchange differences on translation of foreign operations| |(231)|61|226|776|\\n|Fair value changes on investments, net| |37|42|144|(256)|\\n| | |(166)|139|381|513|\\n|Total other comprehensive income / (loss), net of tax| |(152)|149|520|514|\\n|Total comprehensive income for the period| |7,823|6,283|26,768|24,622|\\n|Profit attributable to:| | | | | |\\n|Owners of the Company| |7,969|6,128|26,233|24,095|\\n|Non-controlling interests| |6|6|15|13|\\n| | |7,975|6,134|26,248|24,108|\\n|Total comprehensive income attributable to:| | | | | |\\n|Owners of the Company| |7,821|6,276|26,754|24,598|\\n|Non-controlling interests| |2|7|14|24|\\n| | |7,823|6,283|26,768|24,622|\\n\\nfor and on behalf of the Board of Directors of Infosys Limited\\n\\nD. Sundaram Lead Independent Director\\n\\nSalil Parekh Chief Executive Officer and Managing Director\\n\\nBobby Parikh Director\\n\\nBengaluru\\n\\nJayesh Sanghrajka Chief Financial Officer\\n\\nA.G.S. Manikantha Company Secretary\\n\\nApril 18, 2024']}"
            ]
          },
          "metadata": {},
          "execution_count": 23
        }
      ]
    },
    {
      "cell_type": "markdown",
      "id": "a60c457c-a675-4689-a6c4-a843f28a9c23",
      "metadata": {
        "id": "a60c457c-a675-4689-a6c4-a843f28a9c23"
      },
      "source": [
        "### Build End-to-End RAG Pipeline\n",
        "\n",
        "connect our retriever, prompt instructions and build a RAG chain"
      ]
    },
    {
      "cell_type": "code",
      "source": [
        "from operator import itemgetter\n",
        "from langchain_core.runnables import RunnableLambda, RunnablePassthrough\n",
        "from langchain_core.messages import HumanMessage\n",
        "\n",
        "def multimodal_prompt_function(data_dict):\n",
        "    formatted_texts = \"\\n\".join(data_dict[\"context\"][\"texts\"])\n",
        "    messages = []\n",
        "\n",
        "    # Adding the text for analysis\n",
        "    text_message = {\n",
        "        \"type\": \"text\",\n",
        "        \"text\": (\n",
        "            f\"\"\"You are an analyst tasked with understanding detailed information and trends from text documents,\n",
        "                data tables, and charts and graphs in images.\n",
        "                You will be given context information below which will be a mix of text, tables, and images usually of charts or graphs.\n",
        "                Use this information to provide answers related to the user question.\n",
        "                Do not make up answers, use the provided context documents below and answer the question to the best of your ability.\n",
        "\n",
        "                User question:\n",
        "                {data_dict['question']}\n",
        "\n",
        "                Context documents:\n",
        "                {formatted_texts}\n",
        "\n",
        "                Answer:\n",
        "            \"\"\"\n",
        "        ),\n",
        "    }\n",
        "    messages.append(text_message)\n",
        "    return [HumanMessage(content=messages)]\n",
        "\n",
        "\n",
        "# Create RAG chain\n",
        "multimodal_rag = (\n",
        "        {\n",
        "            \"context\": itemgetter('context'),\n",
        "            \"question\": itemgetter('input'),\n",
        "        }\n",
        "            |\n",
        "        RunnableLambda(multimodal_prompt_function)\n",
        "            |\n",
        "        llm\n",
        "            |\n",
        "        StrOutputParser()\n",
        ")\n",
        "\n",
        "# Pass input query to retriever and get context document elements\n",
        "retrieve_docs = (itemgetter('input')\n",
        "                    |\n",
        "                retriever_multi_vector\n",
        "                    |\n",
        "                RunnableLambda(decode_text))\n",
        "\n",
        "multimodal_rag_w_sources = (RunnablePassthrough.assign(context=retrieve_docs)\n",
        "                                               .assign(answer=multimodal_rag)\n",
        ")"
      ],
      "metadata": {
        "id": "5Tl25GSJB9gg"
      },
      "id": "5Tl25GSJB9gg",
      "execution_count": 24,
      "outputs": []
    },
    {
      "cell_type": "code",
      "execution_count": 25,
      "id": "9c64b19e-5a89-4dda-af38-fcc4a36a1b44",
      "metadata": {
        "id": "9c64b19e-5a89-4dda-af38-fcc4a36a1b44",
        "outputId": "9c1b037a-3801-4114-9c2d-a4156095796f",
        "colab": {
          "base_uri": "https://localhost:8080/"
        },
        "collapsed": true
      },
      "outputs": [
        {
          "output_type": "execute_result",
          "data": {
            "text/plain": [
              "{'input': 'How do the net income and operating expenses compare for Q1 2024?',\n",
              " 'context': {'texts': ['# Year ended March 31, 2024 and March 31, 2023:\\n\\n|(In ₹ crore)|Financial Services (1)*|Retail (2)|Communication (3)|Energy, Utilities, and Resources|Manufacturing| |Hi-Tech|Life Sciences (4)|All other segments (5)|Total| |\\n|---|---|---|---|---|---|---|---|---|---|---|---|\\n|Revenue from operations|42,158|22,504|17,991|20,035|22,298|12,411|11,515|4,758| |153,670| |\\n| |43,763|21,204|18,086|18,539|19,035|11,867|10,085|4,188|146,767| | |\\n|Identifiable operating expenses|24,782|11,704|11,071|10,838|14,596|7,232|6,716|2,938| |89,877| |\\n| |24,990|10,892|11,101|9,923|12,493|6,959|5,834|2,801| |84,993| |\\n|Allocated expenses|8,052|3,918|3,232|3,674|3,505|2,026|1,901| |1,060|27,368| |\\n| |7,930|3,916|3,226|3,461|3,429|1,949|1,685|1,048| |26,644| |\\n|Segment operating income|9,324|6,882|3,688|5,523|4,197|3,153|2,898| |760|36,425| |\\n| |10,843|6,396|3,759|5,155|3,113|2,959|2,566|339| |35,130| |\\n|Unallocable expenses| | | | | | | | | | |4,678|\\n| | | | | | | | | | | |4,225|\\n|Other income, net (Refer to Note 2.17)| | | | | | | | | | |4,711|\\n| | | | | | | | | | | |2,701|\\n|Finance cost| | | | | | | | | | |470|\\n| | | | | | | | | | | |284|\\n|Profit before tax| | | | | | | | | | |35,988|\\n| | | | | | | | | | | |33,322|\\n|Income tax expense| | | | | | | | | | |9,740|\\n| | | | | | | | | | | |9,214|\\n|Net Profit| | | | | | | | | | |26,248|\\n| | | | | | | | | | | |24,108|\\n|Depreciation and amortization expense| | | | | | | | | | |4,678|\\n| | | | | | | | | | | |4,225|\\n|Non-cash expenses other than depreciation and amortization| | | | | | | | | | |—|\\n| | | | | | | | | | | |—|\\n\\n(1) Financial Services include enterprises in Financial Services and Insurance\\n\\n(2) Retail includes enterprises in Retail, Consumer Packaged Goods and Logistics\\n\\n(3) Communication includes enterprises in Communication, Telecom OEM and Media\\n\\n(4) Life Sciences includes enterprises in Life sciences and Health care\\n\\n(5) Others include operating segments of businesses in India, Japan, China, Infosys Public Services & other enterprises in Public Services\\n\\n* Includes impact on account of McCamish cybersecurity incident. Refer note 2.21.3.\\n\\n# Significant clients\\n\\nNo client individually accounted for more than 10% of the revenues for the three months and year ended March 31, 2024 and March 31, 2023, respectively.',\n",
              "   '# OA81XOA91X2.23 SEGMENT REPORTING\\n\\nInd AS 108, Operating segments, establishes standards for the way that public business enterprises report information about operating segments and related disclosures about products and services, geographic areas, and major customers. The Group\\'s operations predominantly relate to providing end-to-end business solutions to enable clients to enhance business performance. The Chief Operating Decision Maker (CODM) evaluates the Group\\'s performance and allocates resources based on an analysis of various performance indicators by business segments. Accordingly, information has been presented along business segments. The accounting principles used in the preparation of the financial statements are consistently applied to record revenue and expenditure in individual segments, and are as set out in the accounting policies.\\n\\nBusiness segments of the Group are primarily enterprises in Financial Services and Insurance, enterprises in Manufacturing, enterprises in Retail, Consumer Packaged Goods and Logistics, enterprises in the Energy, Utilities, Resources and Services, enterprises in Communication, Telecom OEM and Media, enterprises in Hi-Tech, enterprises in Life Sciences and Healthcare and all other segments. The Financial services reportable segments has been aggregated to include the Financial Services operating segment and Finacle operating segment because of the similarity of the economic characteristics. All other segments represent the operating segments of businesses in India, Japan, China, Infosys Public Services & other enterprises in Public Services.\\n\\nRevenue and identifiable operating expenses in relation to segments are categorized based on items that are individually identifiable to that segment. Revenue for \\'all other segments\\' represents revenue generated by Infosys Public services and revenue generated from customers located in India, Japan and China and other enterprises in Public services. Allocated expenses of segments include expenses incurred for rendering services from the Group\\'s offshore software development centers and on-site expenses, which are categorized in relation to the associated efforts of the segment. Certain expenses such as depreciation and amortization, which form a significant component of total expenses, are not specifically allocable to specific segments as the underlying assets are used interchangeably. The Management believes that it is not practical to provide segment disclosures relating to those costs and expenses, and accordingly these expenses are separately disclosed as \"unallocated\" and adjusted against the total income of the Group.\\n\\nAssets and liabilities used in the Group\\'s business are not identified to any of the reportable segments, as these are used interchangeably between segments. The Management believes that it is currently not practicable to provide segment disclosures relating to total assets and liabilities since a meaningful segregation of the available data is onerous.\\n\\nBusiness segment revenue information is collated based on individual customers invoiced or in relation to which the revenue is otherwise recognized.\\n\\nDisclosure of revenue by geographic locations is given in note 2.16 Revenue from operations.\\n\\n# Business Segments\\n\\n# Three months ended March 31, 2024 and March 31, 2023:\\n\\n| |Financial Services (1)*|Retail (2)|Communication (3)|Energy, Utilities, Resources and Services|Manufacturing|Hi-Tech|Life Sciences (4)|All other segments (5)|Total| |\\n|---|---|---|---|---|---|---|---|---|---|---|\\n|Revenue from operations| |10,010|5,429|4,666|5,068|5,589|3,316|2,762|1,083|37,923|\\n| | |10,818|5,537|4,411|4,825|5,078|2,989|2,681|1,102|37,441|\\n|Identifiable operating expenses| |6,042|2,591|3,033|2,717|3,656|1,995|1,639|652|22,325|\\n| | |6,161|2,869|2,613|2,614|3,248|1,734|1,514|701|21,454|\\n|Allocated expenses| |2,027|974|823|920|852|518|491|209|6,814|\\n| | |2,057|1,034|840|909|928|505|462|254|6,989|\\n|Segment operating income| |1,941|1,864|810|1,431|1,081|803|632|222|8,784|\\n| | |2,600|1,634|958|1,302|902|750|705|147|8,998|\\n|Unallocable expenses| | | | | | | |1,163| | |\\n| | | | | | | | |1,121| | |\\n|Other income, net (Refer to Note 2.17)| | | | | | | |2,729| | |\\n| | | | | | | | |671| | |\\n|Finance cost| | | | | | | |110| | |\\n| | | | |82| | | | | | |\\n|Profit before tax| | | | | | | |10,240| | |\\n| | | | | | | | |8,466| | |\\n|Income tax expense| | | | | | | |2,265| | |\\n| | | | | | | | |2,332| | |\\n|Net Profit| | | | | | | |7,975| | |\\n| | | | | | | | |6,134| | |\\n|Depreciation and amortization| | | | | | | |1,163| | |\\n| | | | | | | | |1,121| | |\\n|Non-cash expenses other than depreciation and amortization| | | | | | | |—| | |\\n| | | | | | | | |—| | |',\n",
              "   '# 2.2 PROPERTY, PLANT AND EQUIPMENT\\n\\n# Accounting policy\\n\\nProperty, plant and equipment are stated at cost, less accumulated depreciation and impairment, if any. Costs directly attributable to acquisition are capitalized until the property, plant and equipment are ready for use, as intended by the Management. The charge in respect of periodic depreciation is derived at after determining an estimate of an asset’s expected useful life and the expected residual value at the end of its life. The Group depreciates property, plant and equipment over their estimated useful lives using the straight-line method. The estimated useful lives of assets are as follows:\\n\\n|Buildings (1)|22-25 years|\\n|---|---|\\n|Plant and machinery (1)(2)|5 years|\\n|Office equipment|5 years|\\n|Computer equipment (1)|3-5 years|\\n|Furniture and fixtures (1)|5 years|\\n|Vehicles(1)|5 years|\\n|Leasehold improvements|Lower of useful life of the asset or lease term|\\n\\n(1) Based on technical evaluation, the Management believes that the useful lives as given above best represent the period over which the Management expects to use these assets. Hence, the useful lives for these assets is different from the useful lives as prescribed under Part C of Schedule II of the Companies Act 2013.\\n\\n(2) Includes Solar plant with a useful life of 25 years.\\n\\nDepreciation methods, useful lives and residual values are reviewed periodically, including at each financial year end. The useful lives are based on historical experience with similar assets as well as anticipation of future events, which may impact their life, such as changes in technology.\\n\\nAdvances paid towards the acquisition of property, plant and equipment outstanding at each Balance Sheet date is classified as capital advances under other non-current assets and the cost of assets not ready to use before such date are disclosed under ‘Capital work-in-progress’. Subsequent expenditures relating to property, plant and equipment is capitalized only when it is probable that future economic benefits associated with these will flow to the Group and the cost of the item can be measured reliably. The cost and related accumulated depreciation are eliminated from the financial statements upon sale or retirement of the asset.\\n\\n# Impairment\\n\\nProperty, plant and equipment are evaluated for recoverability whenever events or changes in circumstances indicate that their carrying amounts may not be recoverable. For the purpose of impairment testing, the recoverable amount (i.e. the higher of the fair value less cost to sell and the value-in-use) is determined on an individual asset basis unless the asset does not generate cash flows that are largely independent of those from other assets. In such cases, the recoverable amount is determined for the Cash Generating Unit (CGU) to which the asset belongs.\\n\\nIf such assets are considered to be impaired, the impairment to be recognized in the Consolidated Statement of Profit and Loss is measured by the amount by which the carrying value of the assets exceeds the estimated recoverable amount of the asset. An impairment loss is reversed in the Consolidated Statement of Profit and Loss if there has been a change in the estimates used to determine the recoverable amount. The carrying amount of the asset is increased to its revised recoverable amount, provided that this amount does not exceed the carrying amount that would have been determined (net of any accumulated depreciation) had no impairment loss been recognized for the asset in prior years.\\n\\n# The changes in the carrying value of property, plant and equipment for the three months ended March 31, 2024 are as follows:\\n\\n|Particulars|Land - Freehold|Buildings (1)|Plant and machinery|Office Equipment|Computer equipment|Furniture and fixtures|Leasehold Improvements|Vehicles|Total|\\n|---|---|---|---|---|---|---|---|---|---|\\n|Gross carrying value as at January 1, 2024|1,432|11,498|3,305|1,510|8,497|2,308|1,456|45|30,051|\\n|Additions|—|287|140|33|345|54|35|—|894|\\n|Deletions**|—|—|(16)|(14)|(224)|(34)|(37)|—|(325)|\\n|Translation difference|—|(15)|(1)|(1)|(7)|(2)|(7)|—|(33)|\\n|Gross carrying value as at March 31, 2024|1,432|11,770|3,428|1,528|8,611|2,326|1,447|45|30,587|\\n|Accumulated depreciation as at January 1, 2024|—|(4,814)|(2,584)|(1,253)|(6,267)|(1,807)|(1,131)|(42)|(17,898)|\\n|Depreciation|—|(111)|(63)|(32)|(336)|(58)|(46)|—|(646)|\\n|Accumulated depreciation on deletions**|—|—|16|14|219|26|34|—|309|\\n|Translation difference|—|4|1|2|4|2|5|—|18|\\n|Accumulated depreciation as at March 31, 2024|—|(4,921)|(2,630)|(1,269)|(6,380)|(1,837)|(1,138)|(42)|(18,217)|\\n|Carrying value as at January 1, 2024|1,432|6,684|721|257|2,230|501|325|3|12,153|\\n|Carrying value as at March 31, 2024|1,432|6,849|798|259|2,231|489|309|3|12,370|\\n\\n# The changes in the carrying value of property, plant and equipment for the three months ended March 31, 2023 were as follows:\\n\\n|Particulars|Land - Freehold|Buildings (1)|Plant and machinery|Office Equipment|Computer equipment|Furniture and fixtures|Leasehold Improvements|Vehicles|Total|\\n|---|---|---|---|---|---|---|---|---|---|\\n|Gross carrying value as at January 1, 2023|1,431|11,530|3,368|1,466|8,895|2,450|1,353|44|30,537|\\n|Additions|2|29|109|55|494|162|103|1|955|\\n|Deletions*|(2)|—|(175)|(40)|(877)|(311)|(13)|—|(1,418)|\\n|Translation difference|—|3|—|1|7|2|2|—|15|\\n|Gross carrying value as at March 31, 2023|1,431|11,562|3,302|1,482|8,519|2,303|1,445|45|30,089|\\n|Accumulated depreciation as at January 1, 2023|—|(4,425)|(2,547)|(1,206)|(6,339)|(1,922)|(992)|(39)|(17,470)|\\n|Depreciation|—|(109)|(65)|(31)|(354)|(62)|(48)|(1)|(670)|\\n|Accumulated depreciation on deletions*|—|—|175|40|871|310|9|—|1,405|\\n|Translation difference|—|(1)|—|(1)|(4)|(1)|(1)|—|(8)|\\n|Accumulated depreciation as at March 31, 2023|—|(4,535)|(2,437)|(1,198)|(5,826)|(1,675)|(1,032)|(40)|(16,743)|\\n|Carrying value as at January 1, 2023|1,431|7,105|821|260|2,556|528|361|5|13,067|\\n|Carrying value as at March 31, 2023|1,431|7,027|865|284|2,693|628|413|5|13,346|',\n",
              "   '# Financial Statements\\n\\n# Particulars\\n\\n|Particulars|Three months ended March 31, 2024|Three months ended March 31, 2023|Year ended March 31, 2024|Year ended March 31, 2023|\\n|---|---|---|---|---|\\n|Employee benefit expenses| | | | |\\n|Salaries including bonus|19,527|19,526|79,315|75,239|\\n|Contribution to provident and other funds|529|547|2,213|2,143|\\n|Share based payments to employees (Refer to Note 2.11)|225|133|652|519|\\n|Staff welfare|112|105|440|458|\\n|Total Employee benefit expenses|20,393|20,311|82,620|78,359|\\n|Cost of software packages and others| | | | |\\n|For own use|555|496|2,145|1,937|\\n|Third party items bought for service delivery to clients|3,132|2,390|11,370|8,965|\\n|Total Cost of software packages and others|3,687|2,886|13,515|10,902|\\n|Other expenses| | | | |\\n|Repairs and maintenance|316|331|1,278|1,208|\\n|Power and fuel|49|46|199|176|\\n|Brand and marketing|285|265|1,007|905|\\n|Rates and taxes|84|78|326|299|\\n|Consumables|47|41|170|158|\\n|Insurance|53|43|210|174|\\n|Provision for post-sales client support and others|(129)|(80)|75|120|\\n|Commission to non-whole time directors|5|4|16|15|\\n|Impairment loss recognized / (reversed) under expected credit loss model|(98)|86|121|283|\\n|Contributions towards Corporate Social Responsibility|182|151|533|471|\\n|Others|191|181|781|583|\\n|Total Other expenses|985|1,146|4,716|4,392|\\n\\n# 2.19 Leases\\n\\n# Accounting Policy\\n\\n# The Group as a lessee\\n\\nThe Group’s lease asset classes consist of leases for land, buildings and computers. The Group assesses whether a contract contains a lease, at inception of a contract. A contract is, or contains, a lease if the contract conveys the right to control the use of an identified asset for a period of time in exchange for consideration. To assess whether a contract conveys the right to control the use of an identified asset, the group assesses whether: (1) the contract involves the use of an identified asset (2) the Group has substantially all of the economic benefits from use of the asset through the period of the lease and (3) the Group has the right to direct the use of the asset.\\n\\nAt the date of commencement of the lease, the Group recognizes a right-of-use asset (“ROU”) and a corresponding lease liability for all lease arrangements in which it is a lessee, except for leases with a term of twelve months or less (short-term leases) and low value leases. For these short-term and low value leases, the Group recognizes the lease payments as an operating expense on a straight-line basis over the term of the lease.\\n\\nAs a lessee, the Group determines the lease term as the non-cancellable period of a lease adjusted with any option to extend or terminate the lease, if the use of such option is reasonably certain. The Group makes an assessment on the expected lease term on a lease-by-lease basis and thereby assesses whether it is reasonably certain that any options to extend or terminate the contract will be exercised. In evaluating the lease term, the Group considers factors such as any significant leasehold improvements undertaken over the lease term, costs relating to the termination of the lease and the importance of the underlying asset to Group’s operations taking into account the location of the underlying asset and the availability of suitable alternatives. The lease term in future periods is reassessed to ensure that the lease term reflects the current economic circumstances.\\n\\nCertain lease arrangements includes the options to extend or terminate the lease before the end of the lease term. ROU assets and lease liabilities includes these options when it is reasonably certain that they will be exercised.\\n\\nThe right-of-use assets are initially recognized at cost, which comprises the initial amount of the lease liability adjusted for any lease payments made at or prior to the commencement date of the lease plus any initial direct costs less any lease incentives. They are subsequently measured at cost less accumulated depreciation and impairment losses.\\n\\nRight-of-use assets are depreciated from the commencement date on a straight-line basis over the shorter of the lease term and useful life of the underlying asset.\\n\\nRight-of-use assets are evaluated for recoverability whenever events or changes in circumstances indicate that their carrying amounts may not be recoverable. For the purpose of impairment testing, the recoverable amount (i.e. the higher of the fair value less cost to sell and the value-in-use) is determined on an individual asset basis unless the asset does not generate cash flows that are largely independent of those from other assets. In such cases, the recoverable amount is determined for the Cash Generating Unit (CGU) to which the asset belongs.\\n\\nThe lease liability is initially measured at amortized cost at the present value of the future lease payments. The lease payments are discounted using the interest rate implicit in the lease or, if not readily determinable, using the incremental borrowing rates in the country of domicile of these leases. Lease liabilities are remeasured with a corresponding adjustment to the related right-of-use asset if the Group changes its assessment if whether it will exercise an extension or a termination option.\\n\\nLease liability and ROU asset have been separately presented in the Balance Sheet and lease payments have been classified as financing cash flows.']},\n",
              " 'answer': 'The provided text gives net profit for Q1 2024 as ₹7,975 crore and for Q1 2023 as ₹6,134 crore.  Identifiable operating expenses for Q1 2024 are ₹22,325 crore and for Q1 2023 are ₹21,454 crore.  There is no breakdown of operating expenses by category for Q1 2024 or Q1 2023.'}"
            ]
          },
          "metadata": {},
          "execution_count": 25
        }
      ],
      "source": [
        "# Run RAG chain\n",
        "query = \"How do the net income and operating expenses compare for Q1 2024?\"\n",
        "response = multimodal_rag_w_sources.invoke({'input': query})\n",
        "response"
      ]
    },
    {
      "cell_type": "code",
      "source": [
        "from IPython.display import HTML, display, Markdown\n",
        "def multimodal_rag_qa(query):\n",
        "    response = multimodal_rag_w_sources.invoke({'input': query})\n",
        "    print('=='*50)\n",
        "    print('Answer:')\n",
        "    display(Markdown(response['answer']))\n",
        "    print('--'*50)\n",
        "    print('Sources:')\n",
        "    text_sources = response['context']['texts']\n",
        "    for text in text_sources:\n",
        "        match = re.search(r\"\\n\\n\\|(.*?)\\|\\n\\n\", text, re.DOTALL)\n",
        "        if match:\n",
        "            extracted_content = match.group(1)  # Extract if found\n",
        "            display(Markdown(\"\\n\\n|\"+extracted_content+\"|\\n\\n\"))\n",
        "            print('-'*50)\n",
        "        print()\n",
        "    print('=='*50)"
      ],
      "metadata": {
        "id": "kSsc4_CPjK7W"
      },
      "id": "kSsc4_CPjK7W",
      "execution_count": 26,
      "outputs": []
    },
    {
      "cell_type": "code",
      "source": [
        "query = \"How do the net income and operating expenses compare for Q1 2024?\"\n",
        "multimodal_rag_qa(query)"
      ],
      "metadata": {
        "colab": {
          "base_uri": "https://localhost:8080/",
          "height": 1000
        },
        "id": "H_P0oIgjjhj_",
        "outputId": "db991dc9-97d0-4c04-be97-8962e3eac456",
        "collapsed": true
      },
      "id": "H_P0oIgjjhj_",
      "execution_count": 27,
      "outputs": [
        {
          "output_type": "stream",
          "name": "stdout",
          "text": [
            "====================================================================================================\n",
            "Answer:\n"
          ]
        },
        {
          "output_type": "display_data",
          "data": {
            "text/plain": [
              "<IPython.core.display.Markdown object>"
            ],
            "text/markdown": "The provided text gives net profit for Q1 2024 as ₹7,975 crore and for Q1 2023 as ₹6,134 crore.  Identifiable operating expenses for Q1 2024 are ₹22,325 crore and for Q1 2023 are ₹21,454 crore.  There is no breakdown of operating expenses by category for Q1 2024 or Q1 2023."
          },
          "metadata": {}
        },
        {
          "output_type": "stream",
          "name": "stdout",
          "text": [
            "----------------------------------------------------------------------------------------------------\n",
            "Sources:\n"
          ]
        },
        {
          "output_type": "display_data",
          "data": {
            "text/plain": [
              "<IPython.core.display.Markdown object>"
            ],
            "text/markdown": "\n\n|(In ₹ crore)|Financial Services (1)*|Retail (2)|Communication (3)|Energy, Utilities, and Resources|Manufacturing| |Hi-Tech|Life Sciences (4)|All other segments (5)|Total| |\n|---|---|---|---|---|---|---|---|---|---|---|---|\n|Revenue from operations|42,158|22,504|17,991|20,035|22,298|12,411|11,515|4,758| |153,670| |\n| |43,763|21,204|18,086|18,539|19,035|11,867|10,085|4,188|146,767| | |\n|Identifiable operating expenses|24,782|11,704|11,071|10,838|14,596|7,232|6,716|2,938| |89,877| |\n| |24,990|10,892|11,101|9,923|12,493|6,959|5,834|2,801| |84,993| |\n|Allocated expenses|8,052|3,918|3,232|3,674|3,505|2,026|1,901| |1,060|27,368| |\n| |7,930|3,916|3,226|3,461|3,429|1,949|1,685|1,048| |26,644| |\n|Segment operating income|9,324|6,882|3,688|5,523|4,197|3,153|2,898| |760|36,425| |\n| |10,843|6,396|3,759|5,155|3,113|2,959|2,566|339| |35,130| |\n|Unallocable expenses| | | | | | | | | | |4,678|\n| | | | | | | | | | | |4,225|\n|Other income, net (Refer to Note 2.17)| | | | | | | | | | |4,711|\n| | | | | | | | | | | |2,701|\n|Finance cost| | | | | | | | | | |470|\n| | | | | | | | | | | |284|\n|Profit before tax| | | | | | | | | | |35,988|\n| | | | | | | | | | | |33,322|\n|Income tax expense| | | | | | | | | | |9,740|\n| | | | | | | | | | | |9,214|\n|Net Profit| | | | | | | | | | |26,248|\n| | | | | | | | | | | |24,108|\n|Depreciation and amortization expense| | | | | | | | | | |4,678|\n| | | | | | | | | | | |4,225|\n|Non-cash expenses other than depreciation and amortization| | | | | | | | | | |—|\n| | | | | | | | | | | |—|\n\n"
          },
          "metadata": {}
        },
        {
          "output_type": "stream",
          "name": "stdout",
          "text": [
            "--------------------------------------------------\n",
            "\n",
            "\n"
          ]
        },
        {
          "output_type": "display_data",
          "data": {
            "text/plain": [
              "<IPython.core.display.Markdown object>"
            ],
            "text/markdown": "\n\n|Buildings (1)|22-25 years|\n|---|---|\n|Plant and machinery (1)(2)|5 years|\n|Office equipment|5 years|\n|Computer equipment (1)|3-5 years|\n|Furniture and fixtures (1)|5 years|\n|Vehicles(1)|5 years|\n|Leasehold improvements|Lower of useful life of the asset or lease term|\n\n"
          },
          "metadata": {}
        },
        {
          "output_type": "stream",
          "name": "stdout",
          "text": [
            "--------------------------------------------------\n",
            "\n"
          ]
        },
        {
          "output_type": "display_data",
          "data": {
            "text/plain": [
              "<IPython.core.display.Markdown object>"
            ],
            "text/markdown": "\n\n|Particulars|Three months ended March 31, 2024|Three months ended March 31, 2023|Year ended March 31, 2024|Year ended March 31, 2023|\n|---|---|---|---|---|\n|Employee benefit expenses| | | | |\n|Salaries including bonus|19,527|19,526|79,315|75,239|\n|Contribution to provident and other funds|529|547|2,213|2,143|\n|Share based payments to employees (Refer to Note 2.11)|225|133|652|519|\n|Staff welfare|112|105|440|458|\n|Total Employee benefit expenses|20,393|20,311|82,620|78,359|\n|Cost of software packages and others| | | | |\n|For own use|555|496|2,145|1,937|\n|Third party items bought for service delivery to clients|3,132|2,390|11,370|8,965|\n|Total Cost of software packages and others|3,687|2,886|13,515|10,902|\n|Other expenses| | | | |\n|Repairs and maintenance|316|331|1,278|1,208|\n|Power and fuel|49|46|199|176|\n|Brand and marketing|285|265|1,007|905|\n|Rates and taxes|84|78|326|299|\n|Consumables|47|41|170|158|\n|Insurance|53|43|210|174|\n|Provision for post-sales client support and others|(129)|(80)|75|120|\n|Commission to non-whole time directors|5|4|16|15|\n|Impairment loss recognized / (reversed) under expected credit loss model|(98)|86|121|283|\n|Contributions towards Corporate Social Responsibility|182|151|533|471|\n|Others|191|181|781|583|\n|Total Other expenses|985|1,146|4,716|4,392|\n\n"
          },
          "metadata": {}
        },
        {
          "output_type": "stream",
          "name": "stdout",
          "text": [
            "--------------------------------------------------\n",
            "\n",
            "====================================================================================================\n"
          ]
        }
      ]
    },
    {
      "cell_type": "code",
      "source": [
        "query = \"What is the total equity attributable to equity holders of the company as of March 31, 2024?\"\n",
        "multimodal_rag_qa(query)"
      ],
      "metadata": {
        "colab": {
          "base_uri": "https://localhost:8080/",
          "height": 1000
        },
        "id": "hjra4Z50gI4X",
        "outputId": "7b508124-bcef-49f2-bd4c-49230e6a682e",
        "collapsed": true
      },
      "id": "hjra4Z50gI4X",
      "execution_count": 28,
      "outputs": [
        {
          "output_type": "stream",
          "name": "stdout",
          "text": [
            "====================================================================================================\n",
            "Answer:\n"
          ]
        },
        {
          "output_type": "display_data",
          "data": {
            "text/plain": [
              "<IPython.core.display.Markdown object>"
            ],
            "text/markdown": "The provided text gives the total equity as 88,461 as of March 31, 2024."
          },
          "metadata": {}
        },
        {
          "output_type": "stream",
          "name": "stdout",
          "text": [
            "----------------------------------------------------------------------------------------------------\n",
            "Sources:\n"
          ]
        },
        {
          "output_type": "display_data",
          "data": {
            "text/plain": [
              "<IPython.core.display.Markdown object>"
            ],
            "text/markdown": "\n\n|Particulars|As at March 31, 2024|As at March 31, 2023| |\n|---|---|---|---|\n|Authorized|Equity shares, ₹5/- par value 4,80,00,00,000 (4,80,00,00,000) equity shares|2,400|2,400|\n|Issued, Subscribed and Paid-Up|Equity shares, ₹5/- par value(1) 4,13,99,50,635 (4,13,63,87,925) equity shares fully paid-up(2)|2,071|2,069|\n|Note: Forfeited shares amounted to ₹1,500 (₹1,500)|(1) Refer to Note 2.20 for details of basic and diluted shares| | |\n| |(2) Net of treasury shares 1,09,16,829 (1,21,72,119)| | |\n\n"
          },
          "metadata": {}
        },
        {
          "output_type": "stream",
          "name": "stdout",
          "text": [
            "--------------------------------------------------\n",
            "\n"
          ]
        },
        {
          "output_type": "display_data",
          "data": {
            "text/plain": [
              "<IPython.core.display.Markdown object>"
            ],
            "text/markdown": "\n\n|Particulars|As at March 31, 2024|As at March 31, 2023|\n|---|---|---|\n|Balances with banks| | |\n|In current and deposit accounts|14,786|10,026|\n|Cash on hand|—|—|\n|Others| | |\n|Deposits with financial institutions|—|2,147|\n|Total cash and cash equivalents|14,786|12,173|\n|Balances with banks in unpaid dividend accounts|37|37|\n|Deposit with more than 12 months maturity|57|833|\n\n"
          },
          "metadata": {}
        },
        {
          "output_type": "stream",
          "name": "stdout",
          "text": [
            "--------------------------------------------------\n",
            "\n"
          ]
        },
        {
          "output_type": "display_data",
          "data": {
            "text/plain": [
              "<IPython.core.display.Markdown object>"
            ],
            "text/markdown": "\n\n|Particulars| | | | | | | |OTHER EQUITY|Total equity| | | | | | | | | | | | |\n|---|---|---|---|---|---|---|---|---|---|---|---|---|---|---|---|---|---|---|---|---|---|\n|Share capital (1)|Capital reserve|Securities redemption reserve|Capital Premium|Retained earnings|General reserve|Share Options Outstanding|Special Economic Zone Re-investment reserve (2)| | | |Other comprehensive income|Exchange differences on translating the financial statements of a foreign operation|Effective portion of cash flow hedges|Other items of comprehensive income / (loss)|Non-controlling interest|Total equity| | | | | |\n|Balance as at April 1, 2023|2,069|54|169|166|58,957|1,054|878|10,014|19|247| |2,325| |(5)| |(540)| |75,407|388|75,795| |\n|Changes in equity for the year ended March 31, 2024| | | | | | | | | | | | | | | | | | | | | |\n|Profit for the period|—|—|—|—|26,233|—|—|—|—|—|—|—|26,233| | | | | |15|26,248| |\n|Remeasurement of the net defined benefit liability/asset, net*|—|—|—|—|—|—|—|—|—|—| | | | |120|120|—|120| | | |\n|Equity instruments through other comprehensive income, net*|—|—|—|—|—|—|—|—| | |19|—|—|—|19|—|19| | | | |\n|Fair value changes on derivatives designated as cash flow hedge, net*|—|—|—|—|—|—|—|—|—| | | |11|—|11|—|11| | | | |\n|Exchange differences on translation of foreign operations|—|—|—|—|—|—|—|—|—| |227|—|227| | | | | |(1)|226| |\n|Fair value changes on investments, net*|—|—|—|—|—|—|—|—|—|—| | | | |144|144|—|144| | | |\n|Total Comprehensive income for the period|—|—|—|—|26,233|—|—|—| | |19|227| |11| |264| |26,754| |14|26,768|\n|Shares issued on exercise of employee stock options (Refer to Note 2.11)|—|—| | |3|—|—|—|—|—|—|—|—| | | | | |5|—|5|\n|Employee stock compensation expense (Refer to Note 2.11)|—|—|—|—|—| |639|—|—|—|—|—|639|—|639| | | | | | |\n|Transferred on account of exercise of stock options (Refer to note 2.11)|—|—|—|447|—|—|(447)|—|—|—|—|—|—|—| | | | | | | |\n|Transferred on account of options not exercised|—|—|—|—| |160|(160)|—|—|—|—|—|—|—|—| | | | | | |\n|Income tax benefit arising on exercise of stock options|—|—|—|—|—| |3|—|—|—|—|—|3|—|3| | | | | | |\n|Transfer to legal reserve|—|—|—|—|(3)|—|—|3|—|—|—|—|—|—| | | | | | | |\n|Dividends (1)|—|—|—|—|(14,692)|—|—|—|—|—|—|(14,692)|—|(14,692)| | | | | | | |\n|Dividends paid to non controlling interest of subsidiary|—|—|—|—|—|—|—|—|—|—|—|—| | | | | | |(39)|(39)| |\n|Buyback of shares pertaining to non controlling interest of subsidiary|—|—|—|—|—|—|—|—|—|—|—|—| | | | | | |(18)|(18)| |\n|Transferred to Special Economic Zone Re-investment reserve|—|—|—|—|(2,957)|—|—|2,957|—|—|—|—|—|—| | | | | | | |\n|Transferred from Special Economic Zone Re-investment reserve on utilization|—|—|—|—|867|—|—|(867)|—|—|—|—|—|—| | | | | | | |\n|Balance as at March 31, 2024|2,071|54|169|616|68,405|1,214|913|12,104|22|266| |2,552|6| | |(276)| |88,116|345|88,461| |\n\n"
          },
          "metadata": {}
        },
        {
          "output_type": "stream",
          "name": "stdout",
          "text": [
            "--------------------------------------------------\n",
            "\n"
          ]
        },
        {
          "output_type": "display_data",
          "data": {
            "text/plain": [
              "<IPython.core.display.Markdown object>"
            ],
            "text/markdown": "\n\n|Particulars|As at March 31, 2024|As at March 31, 2023|\n|---|---|---|\n|Non-current Investments| | |\n|Unquoted| | |\n|Investments carried at fair value through other comprehensive income| | |\n|Preference securities|91|193|\n|Equity securities|2|3|\n| |93|196|\n|Investments carried at fair value through profit or loss| | |\n|Target maturity fund units|431|402|\n|Others (1)|198|169|\n| |629|571|\n|Quoted| | |\n|Investments carried at amortized cost| | |\n|Government bonds|28|28|\n|Tax free bonds|1,731|1,742|\n| |1,759|1,770|\n|Investments carried at fair value through other comprehensive income| | |\n|Non convertible debentures|2,217|2,713|\n|Equity securities|113|—|\n|Government securities|6,897|7,319|\n| |9,227|10,032|\n|Total non-current investments|11,708|12,569|\n|Current Investments| | |\n|Unquoted| | |\n|Investments carried at fair value through profit or loss| | |\n|Liquid mutual fund units|2,615|975|\n| |2,615|975|\n|Investments carried at fair value through other comprehensive income| | |\n|Commercial Papers|4,830|742|\n|Certificates of deposit|3,043|3,574|\n| |7,873|4,316|\n|Quoted| | |\n|Investments carried at amortized cost| | |\n|Tax free bonds|—|150|\n| |—|150|\n|Investments carried at fair value through other comprehensive income| | |\n|Non convertible debentures|1,962|1,155|\n|Government securities|465|313|\n| |2,427|1,468|\n|Total current investments|12,915|6,909|\n|Total investments|24,623|19,478|\n|Aggregate amount of quoted investments|13,413|13,420|\n|Market value of quoted investments (including interest accrued), current|2,428|1,637|\n|Market value of quoted investments (including interest accrued), non current|11,201|12,042|\n|Aggregate amount of unquoted investments|11,210|6,058|\n|Investments carried at amortized cost|1,759|1,920|\n|Investments carried at fair value through other comprehensive income|19,620|16,012|\n|Investments carried at fair value through profit or loss|3,244|1,546|\n|(1) Uncalled capital commitments outstanding as at March 31, 2024 and March 31, 2023 was ₹79 crore and ₹92 crore, respectively.| | |\n\n"
          },
          "metadata": {}
        },
        {
          "output_type": "stream",
          "name": "stdout",
          "text": [
            "--------------------------------------------------\n",
            "\n",
            "====================================================================================================\n"
          ]
        }
      ]
    },
    {
      "cell_type": "code",
      "source": [
        "query = \"How much was spent on the buyback of equity shares (including transaction costs and tax) for the year ending March 31, 2023?\"\n",
        "multimodal_rag_qa(query)"
      ],
      "metadata": {
        "id": "zeAJ63-qXi9L",
        "colab": {
          "base_uri": "https://localhost:8080/",
          "height": 1000
        },
        "collapsed": true,
        "outputId": "04c4fbc3-0c01-4662-e98a-06cb067ac4e5"
      },
      "id": "zeAJ63-qXi9L",
      "execution_count": 29,
      "outputs": [
        {
          "output_type": "stream",
          "name": "stdout",
          "text": [
            "====================================================================================================\n",
            "Answer:\n"
          ]
        },
        {
          "output_type": "display_data",
          "data": {
            "text/plain": [
              "<IPython.core.display.Markdown object>"
            ],
            "text/markdown": "The buyback of equity shares resulted in a cash outflow of ₹9,300 crore, excluding transaction costs and tax on the buyback."
          },
          "metadata": {}
        },
        {
          "output_type": "stream",
          "name": "stdout",
          "text": [
            "----------------------------------------------------------------------------------------------------\n",
            "Sources:\n"
          ]
        },
        {
          "output_type": "display_data",
          "data": {
            "text/plain": [
              "<IPython.core.display.Markdown object>"
            ],
            "text/markdown": "\n\n|Particulars|As at March 31, 2024|As at March 31, 2023| |\n|---|---|---|---|\n|Authorized|Equity shares, ₹5/- par value 4,80,00,00,000 (4,80,00,00,000) equity shares|2,400|2,400|\n|Issued, Subscribed and Paid-Up|Equity shares, ₹5/- par value(1) 4,13,99,50,635 (4,13,63,87,925) equity shares fully paid-up(2)|2,071|2,069|\n|Note: Forfeited shares amounted to ₹1,500 (₹1,500)|(1) Refer to Note 2.20 for details of basic and diluted shares| | |\n| |(2) Net of treasury shares 1,09,16,829 (1,21,72,119)| | |\n\n"
          },
          "metadata": {}
        },
        {
          "output_type": "stream",
          "name": "stdout",
          "text": [
            "--------------------------------------------------\n",
            "\n"
          ]
        },
        {
          "output_type": "display_data",
          "data": {
            "text/plain": [
              "<IPython.core.display.Markdown object>"
            ],
            "text/markdown": "\n\n|Particulars| |As at March 31, 2024|As at March 31, 2023| |\n|---|---|---|---|---|\n| |Number of shares|Amount|Number of shares|Amount|\n|As at the beginning of the period|413,63,87,925|2,069|419,30,12,929|2,098|\n|Add: Shares issued on exercise of employee stock options|35,62,710|2|38,01,344|1|\n|Less: Shares bought back|—|—|6,04,26,348|30|\n|As at the end of the period|413,99,50,635|2,071|413,63,87,925|2,069|\n\n"
          },
          "metadata": {}
        },
        {
          "output_type": "stream",
          "name": "stdout",
          "text": [
            "--------------------------------------------------\n",
            "\n"
          ]
        },
        {
          "output_type": "display_data",
          "data": {
            "text/plain": [
              "<IPython.core.display.Markdown object>"
            ],
            "text/markdown": "\n\n|Particulars|2019 Plan| | |2015 Plan| | | | | |\n|---|---|---|---|---|---|---|---|---|---|\n| |Three months ended|Year ended March 31,|Three months ended|Year ended|March 31,|2024|2023|2024|2023|\n| |2024|2023|2024|2023|2024|2023|2024|2023| |\n|Equity Settled RSUs|26,900|33,750|141,171|210,643|77,094|80,154|498,730|367,479| |\n|Employees other than KMP|3,582,471|3,329,240|4,046,731|3,704,014|3,442,700|1,736,925|4,640,640|1,784,975| |\n|Total|3,609,371|3,362,990|4,187,902|3,914,657|3,519,794|1,817,079|5,139,370|2,152,454| |\n|Cash settled RSU|-|-|-|-|169,040|92,400|176,990|92,400| |\n|Total Grants|3,609,371|3,362,990|4,187,902|3,914,657|3,688,834|1,909,479|5,316,360|2,244,854| |\n\n"
          },
          "metadata": {}
        },
        {
          "output_type": "stream",
          "name": "stdout",
          "text": [
            "--------------------------------------------------\n",
            "\n"
          ]
        },
        {
          "output_type": "display_data",
          "data": {
            "text/plain": [
              "<IPython.core.display.Markdown object>"
            ],
            "text/markdown": "\n\n|Particulars|Land - Freehold|Buildings|Plant and machinery|Office Equipment|Computer Furniture and fixtures|Leasehold Improvements|Vehicles|Total|\n|---|---|---|---|---|---|---|---|---|\n|Gross carrying value as at April 1, 2023|1,431|11,562|3,302|1,482|8,519|2,303|1,445|30,089|\n|Additions|1|300|193|106|931|121|108|1,761|\n|Deletions**|—|(55)|(64)|(60)|(846)|(99)|(102)|(1,227)|\n|Translation difference|—|(37)|(3)|—|7|1|(4)|(36)|\n|Gross carrying value as at March 31, 2024|1,432|11,770|3,428|1,528|8,611|2,326|1,447|30,587|\n|Accumulated depreciation as at April 1, 2023|—|(4,535)|(2,437)|(1,198)|(5,826)|(1,675)|(1,032)|(16,743)|\n|Depreciation|—|(450)|(259)|(130)|(1,387)|(250)|(206)|(2,685)|\n|Accumulated depreciation on deletions**|—|55|64|59|836|89|97|1,201|\n|Translation difference|—|9|2|—|(3)|(1)|3|10|\n|Accumulated depreciation as at March 31, 2024|—|(4,921)|(2,630)|(1,269)|(6,380)|(1,837)|(1,138)|(18,217)|\n|Carrying value as at April 1, 2023|1,431|7,027|865|284|2,693|628|413|13,346|\n|Carrying value as at March 31, 2024|1,432|6,849|798|259|2,231|489|309|12,370|\n\n"
          },
          "metadata": {}
        },
        {
          "output_type": "stream",
          "name": "stdout",
          "text": [
            "--------------------------------------------------\n",
            "\n",
            "====================================================================================================\n"
          ]
        }
      ]
    },
    {
      "cell_type": "code",
      "source": [
        "query = \" What is the earnings per equity share (basic) for the quarter ending March 31, 2024?\"\n",
        "multimodal_rag_qa(query)"
      ],
      "metadata": {
        "colab": {
          "base_uri": "https://localhost:8080/",
          "height": 1000
        },
        "id": "dA7WS4EHrXG8",
        "outputId": "265244ff-4a75-49d8-83bb-b8417093fc6f"
      },
      "id": "dA7WS4EHrXG8",
      "execution_count": 30,
      "outputs": [
        {
          "output_type": "stream",
          "name": "stdout",
          "text": [
            "====================================================================================================\n",
            "Answer:\n"
          ]
        },
        {
          "output_type": "display_data",
          "data": {
            "text/plain": [
              "<IPython.core.display.Markdown object>"
            ],
            "text/markdown": "The earnings per equity share (basic) for the quarter ending March 31, 2024, was ₹19.25 per share."
          },
          "metadata": {}
        },
        {
          "output_type": "stream",
          "name": "stdout",
          "text": [
            "----------------------------------------------------------------------------------------------------\n",
            "Sources:\n"
          ]
        },
        {
          "output_type": "display_data",
          "data": {
            "text/plain": [
              "<IPython.core.display.Markdown object>"
            ],
            "text/markdown": "\n\n| |Note No.|Three months ended March 31, 2024|Three months ended March 31, 2023|Year ended March 31, 2024|Year ended March 31, 2023| |\n|---|---|---|---|---|---|---|\n| |2.16|37,923|37,441|153,670|146,767| |\n| |2.17|2,729|671|4,711|2,701| |\n|Total income| |40,652|38,112|158,381|149,468| |\n\n"
          },
          "metadata": {}
        },
        {
          "output_type": "stream",
          "name": "stdout",
          "text": [
            "--------------------------------------------------\n",
            "\n"
          ]
        },
        {
          "output_type": "display_data",
          "data": {
            "text/plain": [
              "<IPython.core.display.Markdown object>"
            ],
            "text/markdown": "\n\n|(In ₹ crore)|Financial Services (1)*|Retail (2)|Communication (3)|Energy, Utilities, and Resources|Manufacturing| |Hi-Tech|Life Sciences (4)|All other segments (5)|Total| |\n|---|---|---|---|---|---|---|---|---|---|---|---|\n|Revenue from operations|42,158|22,504|17,991|20,035|22,298|12,411|11,515|4,758| |153,670| |\n| |43,763|21,204|18,086|18,539|19,035|11,867|10,085|4,188|146,767| | |\n|Identifiable operating expenses|24,782|11,704|11,071|10,838|14,596|7,232|6,716|2,938| |89,877| |\n| |24,990|10,892|11,101|9,923|12,493|6,959|5,834|2,801| |84,993| |\n|Allocated expenses|8,052|3,918|3,232|3,674|3,505|2,026|1,901| |1,060|27,368| |\n| |7,930|3,916|3,226|3,461|3,429|1,949|1,685|1,048| |26,644| |\n|Segment operating income|9,324|6,882|3,688|5,523|4,197|3,153|2,898| |760|36,425| |\n| |10,843|6,396|3,759|5,155|3,113|2,959|2,566|339| |35,130| |\n|Unallocable expenses| | | | | | | | | | |4,678|\n| | | | | | | | | | | |4,225|\n|Other income, net (Refer to Note 2.17)| | | | | | | | | | |4,711|\n| | | | | | | | | | | |2,701|\n|Finance cost| | | | | | | | | | |470|\n| | | | | | | | | | | |284|\n|Profit before tax| | | | | | | | | | |35,988|\n| | | | | | | | | | | |33,322|\n|Income tax expense| | | | | | | | | | |9,740|\n| | | | | | | | | | | |9,214|\n|Net Profit| | | | | | | | | | |26,248|\n| | | | | | | | | | | |24,108|\n|Depreciation and amortization expense| | | | | | | | | | |4,678|\n| | | | | | | | | | | |4,225|\n|Non-cash expenses other than depreciation and amortization| | | | | | | | | | |—|\n| | | | | | | | | | | |—|\n\n"
          },
          "metadata": {}
        },
        {
          "output_type": "stream",
          "name": "stdout",
          "text": [
            "--------------------------------------------------\n",
            "\n"
          ]
        },
        {
          "output_type": "display_data",
          "data": {
            "text/plain": [
              "<IPython.core.display.Markdown object>"
            ],
            "text/markdown": "\n\n|Particulars|As at March 31, 2024|March 31, 2023|\n|---|---|---|\n|Contingent liabilities :| | |\n|Claims against the Group, not acknowledged as debts(1)|3,583|4,762|\n\n"
          },
          "metadata": {}
        },
        {
          "output_type": "stream",
          "name": "stdout",
          "text": [
            "--------------------------------------------------\n",
            "\n"
          ]
        },
        {
          "output_type": "display_data",
          "data": {
            "text/plain": [
              "<IPython.core.display.Markdown object>"
            ],
            "text/markdown": "\n\n|Particulars|As at March 31, 2024|As at March 31, 2023| |\n|---|---|---|---|\n|Authorized|Equity shares, ₹5/- par value 4,80,00,00,000 (4,80,00,00,000) equity shares|2,400|2,400|\n|Issued, Subscribed and Paid-Up|Equity shares, ₹5/- par value(1) 4,13,99,50,635 (4,13,63,87,925) equity shares fully paid-up(2)|2,071|2,069|\n|Note: Forfeited shares amounted to ₹1,500 (₹1,500)|(1) Refer to Note 2.20 for details of basic and diluted shares| | |\n| |(2) Net of treasury shares 1,09,16,829 (1,21,72,119)| | |\n\n"
          },
          "metadata": {}
        },
        {
          "output_type": "stream",
          "name": "stdout",
          "text": [
            "--------------------------------------------------\n",
            "\n",
            "====================================================================================================\n"
          ]
        }
      ]
    },
    {
      "cell_type": "code",
      "source": [],
      "metadata": {
        "id": "9CQjaNJbrsZq"
      },
      "id": "9CQjaNJbrsZq",
      "execution_count": null,
      "outputs": []
    }
  ],
  "metadata": {
    "kernelspec": {
      "display_name": "Python 3 (ipykernel)",
      "language": "python",
      "name": "python3"
    },
    "language_info": {
      "codemirror_mode": {
        "name": "ipython",
        "version": 3
      },
      "file_extension": ".py",
      "mimetype": "text/x-python",
      "name": "python",
      "nbconvert_exporter": "python",
      "pygments_lexer": "ipython3",
      "version": "3.9.16"
    },
    "colab": {
      "provenance": []
    }
  },
  "nbformat": 4,
  "nbformat_minor": 5
}